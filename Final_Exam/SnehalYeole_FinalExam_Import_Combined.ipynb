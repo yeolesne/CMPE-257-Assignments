{
  "nbformat": 4,
  "nbformat_minor": 0,
  "metadata": {
    "colab": {
      "name": "SnehalYeole_FinalExam_Import_Combined.ipynb",
      "provenance": [],
      "collapsed_sections": []
    },
    "kernelspec": {
      "name": "python3",
      "display_name": "Python 3"
    }
  },
  "cells": [
    {
      "cell_type": "markdown",
      "metadata": {
        "id": "Hi0rVh7aOLls",
        "colab_type": "text"
      },
      "source": [
        "# **Name: Snehal Yeole**\n",
        "\n",
        "# **SJSU ID: 012548471**\n",
        "\n",
        "# **Course: CMPE 257**\n",
        "\n",
        "# **Factors:**\n",
        "\n",
        "*  Credibility/Fact Checks\n",
        "\n",
        "*  Sensationalism\n",
        "\n",
        "# **Problem Statement:**\n",
        "\n",
        "The main goal of this notebook is to import the python classes for both factors and predict the news for its truthfulness or fakeness. Instead of running the complete notebook, with the use of imports and trained model pickled in drive, we can predict if the news is fake or not.\n",
        "\n"
      ]
    },
    {
      "cell_type": "markdown",
      "metadata": {
        "id": "VwWtrWCeQc4F",
        "colab_type": "text"
      },
      "source": [
        "# **Factor 1: Credibility/Fact Checks**"
      ]
    },
    {
      "cell_type": "markdown",
      "metadata": {
        "id": "NPjTfXpePkL1",
        "colab_type": "text"
      },
      "source": [
        "## **Mount the shared drive on Google Colab**"
      ]
    },
    {
      "cell_type": "code",
      "metadata": {
        "id": "3_DWZuzfFpnk",
        "colab_type": "code",
        "outputId": "3cf1d217-20b7-4f8e-abd8-234dc4ba3f96",
        "colab": {
          "base_uri": "https://localhost:8080/",
          "height": 35
        }
      },
      "source": [
        "from google.colab import drive\n",
        "drive.mount('/content/drive')"
      ],
      "execution_count": 0,
      "outputs": [
        {
          "output_type": "stream",
          "text": [
            "Drive already mounted at /content/drive; to attempt to forcibly remount, call drive.mount(\"/content/drive\", force_remount=True).\n"
          ],
          "name": "stdout"
        }
      ]
    },
    {
      "cell_type": "markdown",
      "metadata": {
        "id": "oRmaq-KJPw3l",
        "colab_type": "text"
      },
      "source": [
        "## **Append the path of the shared drive to point to the python module**"
      ]
    },
    {
      "cell_type": "code",
      "metadata": {
        "id": "PB-CALdvQAFE",
        "colab_type": "code",
        "colab": {}
      },
      "source": [
        "import sys\n",
        "sys.path.append('/content/drive/My Drive/AlternusVeraDataSets2019/FinalExam/Transformers/SnehalYeole/Credibility_FactChecks/Factor_Class')"
      ],
      "execution_count": 0,
      "outputs": []
    },
    {
      "cell_type": "markdown",
      "metadata": {
        "id": "L9XxDzU4QOvU",
        "colab_type": "text"
      },
      "source": [
        "## **Import the python file for Credibility/Fact Checks factor class**"
      ]
    },
    {
      "cell_type": "code",
      "metadata": {
        "id": "9xI5lTUwQSmd",
        "colab_type": "code",
        "outputId": "08d216a0-b636-486f-8eb6-c4e171da2d29",
        "colab": {
          "base_uri": "https://localhost:8080/",
          "height": 52
        }
      },
      "source": [
        "import FinalExam_Credibility_FactChecks"
      ],
      "execution_count": 0,
      "outputs": [
        {
          "output_type": "stream",
          "text": [
            "[nltk_data] Downloading package wordnet to /root/nltk_data...\n",
            "[nltk_data]   Package wordnet is already up-to-date!\n"
          ],
          "name": "stdout"
        }
      ]
    },
    {
      "cell_type": "markdown",
      "metadata": {
        "id": "mCvljeCjQVbp",
        "colab_type": "text"
      },
      "source": [
        "## **Import the Factor class from python file**"
      ]
    },
    {
      "cell_type": "code",
      "metadata": {
        "id": "eoLgnNboQZ51",
        "colab_type": "code",
        "colab": {}
      },
      "source": [
        "from FinalExam_Credibility_FactChecks import CredibilityFactChecks "
      ],
      "execution_count": 0,
      "outputs": []
    },
    {
      "cell_type": "markdown",
      "metadata": {
        "id": "cPf5HacMQm8t",
        "colab_type": "text"
      },
      "source": [
        "## **Call the predict function from factor class with text input**\n",
        "\n",
        "Predict news veracity using the pickled model. The output can be interpreted as below:\n",
        "\n",
        "**Media Bias/Factual Reporting label:**\n",
        "\n",
        "**Range:** 0(Bad) - 5(Good)\n",
        "\n",
        "The interpretation from the above label can be made that if the output is closer to 0, then it is considered to be the fake news, otherwise it is considered to be the non-fake news."
      ]
    },
    {
      "cell_type": "markdown",
      "metadata": {
        "id": "H3HKgOvvTzC0",
        "colab_type": "text"
      },
      "source": [
        "### **Validating the model with True statement**"
      ]
    },
    {
      "cell_type": "code",
      "metadata": {
        "id": "nlbxr1b0QoKP",
        "colab_type": "code",
        "outputId": "92efc6cd-fc14-4312-fb4e-804e23305da2",
        "colab": {
          "base_uri": "https://localhost:8080/",
          "height": 52
        }
      },
      "source": [
        "CredibilityFactChecks.predict('Donald Trump is the president of United States')"
      ],
      "execution_count": 0,
      "outputs": [
        {
          "output_type": "stream",
          "text": [
            "[4.]\n"
          ],
          "name": "stdout"
        },
        {
          "output_type": "execute_result",
          "data": {
            "text/plain": [
              "True"
            ]
          },
          "metadata": {
            "tags": []
          },
          "execution_count": 5
        }
      ]
    },
    {
      "cell_type": "markdown",
      "metadata": {
        "id": "KKh3-SQbX59Q",
        "colab_type": "text"
      },
      "source": [
        "The prediction value we got from the model is 4.0, which is closer to the value \"True/Good\" in Media Bias/Factual Reporting from the range of 0(Bad) - 5(Good). Thus, we can say that the model is predicting correctly. \n",
        "\n",
        "**The news is not fake**"
      ]
    },
    {
      "cell_type": "markdown",
      "metadata": {
        "id": "iUNPFUrlT8q9",
        "colab_type": "text"
      },
      "source": [
        "### **Validating the model with False statement**"
      ]
    },
    {
      "cell_type": "code",
      "metadata": {
        "id": "D228komHT87P",
        "colab_type": "code",
        "outputId": "156edf40-feaa-4228-d0f9-2a35e79867dd",
        "colab": {
          "base_uri": "https://localhost:8080/",
          "height": 52
        }
      },
      "source": [
        "CredibilityFactChecks.predict('Solar System has twenty planets')"
      ],
      "execution_count": 0,
      "outputs": [
        {
          "output_type": "stream",
          "text": [
            "[0.]\n"
          ],
          "name": "stdout"
        },
        {
          "output_type": "execute_result",
          "data": {
            "text/plain": [
              "False"
            ]
          },
          "metadata": {
            "tags": []
          },
          "execution_count": 6
        }
      ]
    },
    {
      "cell_type": "markdown",
      "metadata": {
        "id": "xHbQxmoWYu9t",
        "colab_type": "text"
      },
      "source": [
        "The prediction value we got from the model is 0.0, which is closer to the value \"False/Bad\" in Media Bias/Factual Reporting from the range of 0(Bad) - 5(Good). Thus, we can say that the model is predicting correctly. \n",
        "\n",
        "**The news is fake**"
      ]
    },
    {
      "cell_type": "markdown",
      "metadata": {
        "id": "bnIO7my5v8ov",
        "colab_type": "text"
      },
      "source": [
        "# **Factor 2: Sensationalism**"
      ]
    },
    {
      "cell_type": "markdown",
      "metadata": {
        "colab_type": "text",
        "id": "fbOrASHdwIDJ"
      },
      "source": [
        "## **Mount the shared drive on Google Colab**"
      ]
    },
    {
      "cell_type": "code",
      "metadata": {
        "colab_type": "code",
        "outputId": "1d87b62c-be0e-4e1d-9a96-37a793c128eb",
        "id": "x6xmoETDwIDg",
        "colab": {
          "base_uri": "https://localhost:8080/",
          "height": 35
        }
      },
      "source": [
        "from google.colab import drive\n",
        "drive.mount('/content/drive')"
      ],
      "execution_count": 0,
      "outputs": [
        {
          "output_type": "stream",
          "text": [
            "Drive already mounted at /content/drive; to attempt to forcibly remount, call drive.mount(\"/content/drive\", force_remount=True).\n"
          ],
          "name": "stdout"
        }
      ]
    },
    {
      "cell_type": "markdown",
      "metadata": {
        "colab_type": "text",
        "id": "RM0pXntfwIDn"
      },
      "source": [
        "## **Append the path of the shared drive to point to the python module**"
      ]
    },
    {
      "cell_type": "code",
      "metadata": {
        "colab_type": "code",
        "id": "C1BTRaH2wIDo",
        "colab": {}
      },
      "source": [
        "import sys\n",
        "sys.path.append('/content/drive/My Drive/AlternusVeraDataSets2019/FinalExam/Transformers/SnehalYeole/Sensationalism/Factor_Class')"
      ],
      "execution_count": 0,
      "outputs": []
    },
    {
      "cell_type": "markdown",
      "metadata": {
        "colab_type": "text",
        "id": "aIP9FPZvwIDs"
      },
      "source": [
        "## **Import the python file for Credibility/Fact Checks factor class**"
      ]
    },
    {
      "cell_type": "code",
      "metadata": {
        "colab_type": "code",
        "id": "2N7fKtmWwIDt",
        "colab": {}
      },
      "source": [
        "import FinalExam_Sensationalism_Factor"
      ],
      "execution_count": 0,
      "outputs": []
    },
    {
      "cell_type": "markdown",
      "metadata": {
        "colab_type": "text",
        "id": "cqVoXkxQwIDx"
      },
      "source": [
        "## **Import the Factor class from python file**"
      ]
    },
    {
      "cell_type": "code",
      "metadata": {
        "colab_type": "code",
        "id": "RO6PYngmwIDy",
        "colab": {}
      },
      "source": [
        "from FinalExam_Sensationalism_Factor import Sensationalism "
      ],
      "execution_count": 0,
      "outputs": []
    },
    {
      "cell_type": "markdown",
      "metadata": {
        "colab_type": "text",
        "id": "xHAuzRkPwID3"
      },
      "source": [
        "## **Call the predict function from factor class with text input**\n",
        "\n",
        "Predict news veracity using the pickled model. The output can be interpreted as below:\n",
        "\n",
        "**Media Bias/Factual Reporting label:**\n",
        "\n",
        "**Range:** 0(Bad) - 5(Good)\n",
        "\n",
        "The interpretation from the above label can be made that if the output is closer to 0, then it is considered to be the fake news, otherwise it is considered to be the non-fake news."
      ]
    },
    {
      "cell_type": "markdown",
      "metadata": {
        "colab_type": "text",
        "id": "qOnsMvaZwID4"
      },
      "source": [
        "### **Validating the model with True statement**"
      ]
    },
    {
      "cell_type": "code",
      "metadata": {
        "colab_type": "code",
        "outputId": "bfe81af2-b9be-4fca-971c-3df165a313e8",
        "id": "2-riIecUwID4",
        "colab": {
          "base_uri": "https://localhost:8080/",
          "height": 52
        }
      },
      "source": [
        "Sensationalism.predict('Donald Trump is the president of United States')"
      ],
      "execution_count": 0,
      "outputs": [
        {
          "output_type": "stream",
          "text": [
            "[4.]\n"
          ],
          "name": "stdout"
        },
        {
          "output_type": "execute_result",
          "data": {
            "text/plain": [
              "True"
            ]
          },
          "metadata": {
            "tags": []
          },
          "execution_count": 17
        }
      ]
    },
    {
      "cell_type": "markdown",
      "metadata": {
        "colab_type": "text",
        "id": "4sbpExnqwID7"
      },
      "source": [
        "The prediction value we got from the model is 4.0, which is closer to the value \"True/Good\" in Media Bias/Factual Reporting from the range of 0(Bad) - 5(Good). Thus, we can say that the model is predicting correctly. \n",
        "\n",
        "**The news is not fake**"
      ]
    },
    {
      "cell_type": "markdown",
      "metadata": {
        "colab_type": "text",
        "id": "SqDJeV2pwID8"
      },
      "source": [
        "### **Validating the model with False statement**"
      ]
    },
    {
      "cell_type": "code",
      "metadata": {
        "colab_type": "code",
        "outputId": "2e1bdab5-a4c5-4466-b662-8ced64c4d6aa",
        "id": "HbnQeJuqwID8",
        "colab": {
          "base_uri": "https://localhost:8080/",
          "height": 52
        }
      },
      "source": [
        "Sensationalism.predict('Trump Tower opens in Pyonyong')"
      ],
      "execution_count": 0,
      "outputs": [
        {
          "output_type": "stream",
          "text": [
            "[0.]\n"
          ],
          "name": "stdout"
        },
        {
          "output_type": "execute_result",
          "data": {
            "text/plain": [
              "False"
            ]
          },
          "metadata": {
            "tags": []
          },
          "execution_count": 20
        }
      ]
    },
    {
      "cell_type": "markdown",
      "metadata": {
        "colab_type": "text",
        "id": "KgZr-ZmXwID_"
      },
      "source": [
        "The prediction value we got from the model is 0.0, which is closer to the value \"False/Bad\" in Media Bias/Factual Reporting from the range of 0(Bad) - 5(Good). Thus, we can say that the model is predicting correctly. \n",
        "\n",
        "**The news is fake**"
      ]
    },
    {
      "cell_type": "markdown",
      "metadata": {
        "id": "61bnSPDrY42A",
        "colab_type": "text"
      },
      "source": [
        "## **Conclusion:**\n",
        "\n",
        "The model for both the factors predicts the news for its fakeness or truthfulness as expected. The use of import statements makes the code modular. Instead of executing the entire notebook, we can just call the predict function from class to get the result. The python class for factors is stored on a shared google drive path. "
      ]
    }
  ]
}