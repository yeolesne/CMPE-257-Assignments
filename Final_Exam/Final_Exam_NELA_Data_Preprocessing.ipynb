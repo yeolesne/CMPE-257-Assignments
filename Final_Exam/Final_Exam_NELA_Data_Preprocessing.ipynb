{
  "nbformat": 4,
  "nbformat_minor": 0,
  "metadata": {
    "kernelspec": {
      "display_name": "Python 3",
      "language": "python",
      "name": "python3"
    },
    "language_info": {
      "codemirror_mode": {
        "name": "ipython",
        "version": 3
      },
      "file_extension": ".py",
      "mimetype": "text/x-python",
      "name": "python",
      "nbconvert_exporter": "python",
      "pygments_lexer": "ipython3",
      "version": "3.7.4"
    },
    "colab": {
      "name": "Final_Exam_NELA_Data_Preprocessing.ipynb",
      "provenance": [],
      "collapsed_sections": []
    }
  },
  "cells": [
    {
      "cell_type": "markdown",
      "metadata": {
        "id": "gpUFvqKraa3b",
        "colab_type": "text"
      },
      "source": [
        "# **NELA Source Aggregation - Initial preprocessing for the NELA dataset**\n",
        "\n",
        "## **Name: Snehal Yeole**\n",
        "\n",
        "## **SJSU ID: 012548471**\n",
        "\n",
        "## **Course: CMPE 257**\n",
        "\n",
        "## **Factors:**\n",
        "\n",
        "*  Credibility/Fact Checks\n",
        "\n",
        "*  Sensationalism\n",
        "\n",
        "##**Goal**:  \n",
        "\n",
        "The aim of the project is to develop a strategy to help identify the degree of fakenes of any news article. The project uses NELA-GT 2018 dataset\n",
        "\n",
        "\n",
        "## **Problem Statement:**\n",
        "\n",
        "Social media for news consumption is a double-edged sword. On the one hand, its low cost, easy access, and rapid dissemination of information lead people to seek out and consume news from social media. On the other hand, it enables the wide spread of “fake news”, i.e., low quality news with intentionally false information. The extensive spread of fake news has the potential for extremely negative impacts on individuals and society. Therefore, fake news detection on social media has recently become an emerging research that is attracting tremendous attention.\n",
        "\n",
        "\n",
        "##**Dataset Description**: \n",
        "\n",
        "NELA2018 is a political news article dataset that contains 136K articles from 92\n",
        "media sources in 2017 (Horne, Khedr, and Adalı\n",
        "2018). The dataset includes sources from mainstream, hyper-partisan, conspiracy,and satire media sources. Along with the news articles, the dataset includes a rich set of natural language features on each news article, and the corresponding Facebook engagement statistics. The dataset contains nearly all of the articles published by the 92 sources during the 7 month period. GDELT is an open database of event-based news articles with temporal and location features.\n",
        "\n",
        "## **Dataset creation:**\n",
        "\n",
        "*  Variety of news sources was gathered from varying levels of veracity, including many well-studied misinforming sources and other less well-known sources.\n",
        "\n",
        "*  The article data was scraped from the gathered\n",
        "sources’ RSS feeds twice a day for 10 months\n",
        "in 2018.\n",
        "\n",
        "*  Source-level veracity labels was combined and corroborated from 8 independent assessments, some of which are used in the misinformation literature, others that are not. These labels provide multiple and complementary ground truth allowing for many different ways to characterize the sources.\n",
        "\n",
        "\n",
        "\n",
        "## **Machine Learning Lifecycle:**\n",
        "\n",
        "This notebook mainly deals with the below machine learning steps:\n",
        "\n",
        "*  Configuration of the System\n",
        "*  Data Collection\n",
        "*  Set Data Narrative\n",
        "*  Exploratory Data Analysis and Visualization\n",
        "*  Run Stats: mean, median, mode, correlation, variance\n",
        "*  Data Prep: Curation\n",
        "\n",
        "This notebook is for determining which indicator label sets have values for which sources. This is basically the data preparation on the NELA-GT dataset in order to use the dataset for implementing our Alternus Vera project factors.\n",
        "\n"
      ]
    },
    {
      "cell_type": "markdown",
      "metadata": {
        "id": "5ZgQZbLvvLQ5",
        "colab_type": "text"
      },
      "source": [
        "# **Step 1: Configuration of the System**"
      ]
    },
    {
      "cell_type": "markdown",
      "metadata": {
        "id": "jNpF5O_HvQk1",
        "colab_type": "text"
      },
      "source": [
        "## **Link of the NELA-GT Source:**\n",
        "https://dataverse.harvard.edu/dataset.xhtml?persistentId=doi:10.7910/DVN/ULHLCB\n",
        "\n",
        "## **Link of the Articles Database:**\n",
        "https://drive.google.com/open?id=1RAj-SrXAJxJbnK-wVZTDHXtizCsL1abp\n",
        "\n",
        "## **Link of the Labels associated with sources of the articles:**\n",
        "https://drive.google.com/open?id=1-HorSxKrHaPPtm0r2qP8kN6jXsBwwVVV\n",
        "\n",
        "## **Link of the Amalgamated Dataset:**\n",
        "https://drive.google.com/open?id=1-0Bi5HIhnVm4ZVTuyv38L5K4iJm631YX\n",
        "\n",
        "## **Link of the Train Dataset:**\n",
        "https://drive.google.com/open?id=1-0JMmWR27KYzl5hVKpMQhnNNvCtkY2lz\n",
        "\n",
        "## **Link of the Test Dataset:**\n",
        "https://drive.google.com/open?id=1-0jNPBxpQBPp1ft_u9U42ynWyUyrf1Fx"
      ]
    },
    {
      "cell_type": "markdown",
      "metadata": {
        "id": "pkQ0K27VvoC_",
        "colab_type": "text"
      },
      "source": [
        "# **Step 2: Data Collection**"
      ]
    },
    {
      "cell_type": "markdown",
      "metadata": {
        "id": "gwMhe4HEvrxc",
        "colab_type": "text"
      },
      "source": [
        "## **Import required libraries**"
      ]
    },
    {
      "cell_type": "code",
      "metadata": {
        "id": "AhIKfajKaa3d",
        "colab_type": "code",
        "outputId": "b6a07a88-6ceb-414c-cabd-9925107bc5b8",
        "colab": {
          "base_uri": "https://localhost:8080/",
          "height": 159
        }
      },
      "source": [
        "%load_ext autoreload\n",
        "%autoreload 2\n",
        "import pandas as pd\n",
        "import numpy as np\n",
        "import csv\n",
        "import gensim\n",
        "from sklearn.feature_extraction.text import TfidfVectorizer\n",
        "from sklearn.feature_extraction.text import CountVectorizer\n",
        "from sklearn.model_selection import train_test_split\n",
        "from sklearn.linear_model import LogisticRegression\n",
        "from sklearn.metrics import classification_report\n",
        "from sklearn.preprocessing import StandardScaler\n",
        "from nltk.stem.wordnet import WordNetLemmatizer\n",
        "from sklearn.model_selection import GridSearchCV\n",
        "from sklearn.metrics import confusion_matrix\n",
        "from nltk.stem.porter import PorterStemmer\n",
        "from sklearn import metrics\n",
        "from sklearn.metrics import roc_auc_score\n",
        "from sklearn.metrics import roc_curve\n",
        "from sklearn.pipeline import Pipeline\n",
        "from nltk.corpus import stopwords\n",
        "from string import punctuation\n",
        "import seaborn as sns\n",
        "import pandas as pd\n",
        "import numpy as np\n",
        "import nltk\n",
        "import re\n",
        "import nltk\n",
        "import logging\n",
        "import os\n",
        "import pickle\n",
        "import re\n",
        "import sqlite3\n",
        "import inspect\n",
        "import sys\n",
        "import json\n",
        "nltk.download('stopwords')\n",
        "nltk.download('averaged_perceptron_tagger')\n",
        "import matplotlib.pyplot as plt\n",
        "from scipy import sparse"
      ],
      "execution_count": 0,
      "outputs": [
        {
          "output_type": "stream",
          "text": [
            "The autoreload extension is already loaded. To reload it, use:\n",
            "  %reload_ext autoreload\n",
            "[nltk_data] Downloading package stopwords to /root/nltk_data...\n",
            "[nltk_data]   Package stopwords is already up-to-date!\n",
            "[nltk_data] Downloading package averaged_perceptron_tagger to\n",
            "[nltk_data]     /root/nltk_data...\n",
            "[nltk_data]   Package averaged_perceptron_tagger is already up-to-\n",
            "[nltk_data]       date!\n"
          ],
          "name": "stdout"
        }
      ]
    },
    {
      "cell_type": "markdown",
      "metadata": {
        "id": "TOs3IU1Vv0IJ",
        "colab_type": "text"
      },
      "source": [
        "## **Mount the shared drive on google colab**"
      ]
    },
    {
      "cell_type": "code",
      "metadata": {
        "id": "SrQqIff6bNzL",
        "colab_type": "code",
        "outputId": "8cb958f1-2de2-4cef-923e-e99a2d9fc078",
        "colab": {
          "base_uri": "https://localhost:8080/",
          "height": 55
        }
      },
      "source": [
        "from google.colab import drive\n",
        "drive.mount('/content/drive')"
      ],
      "execution_count": 0,
      "outputs": [
        {
          "output_type": "stream",
          "text": [
            "Drive already mounted at /content/drive; to attempt to forcibly remount, call drive.mount(\"/content/drive\", force_remount=True).\n"
          ],
          "name": "stdout"
        }
      ]
    },
    {
      "cell_type": "markdown",
      "metadata": {
        "id": "HwSu0Fc8wNQB",
        "colab_type": "text"
      },
      "source": [
        "## **Append the path containing all the datasets**"
      ]
    },
    {
      "cell_type": "code",
      "metadata": {
        "id": "Bb6_hU4YbreH",
        "colab_type": "code",
        "colab": {}
      },
      "source": [
        "import sys\n",
        "sys.path.append('/content/drive/My Drive/AlternusVeraDataSets2019/FinalExam/Transformers/SnehalYeole/Datasets_NELA/Datasets')"
      ],
      "execution_count": 0,
      "outputs": []
    },
    {
      "cell_type": "markdown",
      "metadata": {
        "id": "1IDoaG2sxeyq",
        "colab_type": "text"
      },
      "source": [
        "## **Import tqdm**"
      ]
    },
    {
      "cell_type": "code",
      "metadata": {
        "id": "u7hs3Gtuaa3f",
        "colab_type": "code",
        "colab": {}
      },
      "source": [
        "import util\n",
        "import pandas as pd\n",
        "from tqdm import tqdm_notebook as tqdm"
      ],
      "execution_count": 0,
      "outputs": []
    },
    {
      "cell_type": "markdown",
      "metadata": {
        "id": "BxN3t2WJxnDE",
        "colab_type": "text"
      },
      "source": [
        "## **Read labels.csv file**"
      ]
    },
    {
      "cell_type": "code",
      "metadata": {
        "id": "7eRCtxTAaa3h",
        "colab_type": "code",
        "colab": {}
      },
      "source": [
        "labels_df = pd.read_csv('/content/drive/My Drive/AlternusVeraDataSets2019/FinalExam/Transformers/SnehalYeole/Datasets_NELA/Datasets/labels.csv')\n",
        "labels_df = labels_df.rename(columns={\"Unnamed: 0\": \"Source\"})"
      ],
      "execution_count": 0,
      "outputs": []
    },
    {
      "cell_type": "code",
      "metadata": {
        "id": "wuOMc_ayaa3k",
        "colab_type": "code",
        "outputId": "b273aac0-c6da-4db7-f245-ab87a2e5a7f0",
        "colab": {
          "base_uri": "https://localhost:8080/",
          "height": 52
        }
      },
      "source": [
        "labels_df[labels_df.Source == \"MSNBC\"][\"Media Bias / Fact Check, label\"]"
      ],
      "execution_count": 0,
      "outputs": [
        {
          "output_type": "execute_result",
          "data": {
            "text/plain": [
              "74    left_bias\n",
              "Name: Media Bias / Fact Check, label, dtype: object"
            ]
          },
          "metadata": {
            "tags": []
          },
          "execution_count": 44
        }
      ]
    },
    {
      "cell_type": "markdown",
      "metadata": {
        "id": "m148h_XFxqUF",
        "colab_type": "text"
      },
      "source": [
        "## **Printing the labels datset to view the data and columns present**"
      ]
    },
    {
      "cell_type": "code",
      "metadata": {
        "id": "09zGTfZ15R6_",
        "colab_type": "code",
        "outputId": "224d0643-46bc-48c6-e3b4-2c87ec1cae8c",
        "colab": {
          "base_uri": "https://localhost:8080/",
          "height": 601
        }
      },
      "source": [
        "labels_df"
      ],
      "execution_count": 0,
      "outputs": [
        {
          "output_type": "execute_result",
          "data": {
            "text/html": [
              "<div>\n",
              "<style scoped>\n",
              "    .dataframe tbody tr th:only-of-type {\n",
              "        vertical-align: middle;\n",
              "    }\n",
              "\n",
              "    .dataframe tbody tr th {\n",
              "        vertical-align: top;\n",
              "    }\n",
              "\n",
              "    .dataframe thead th {\n",
              "        text-align: right;\n",
              "    }\n",
              "</style>\n",
              "<table border=\"1\" class=\"dataframe\">\n",
              "  <thead>\n",
              "    <tr style=\"text-align: right;\">\n",
              "      <th></th>\n",
              "      <th>Source</th>\n",
              "      <th>NewsGuard, Does not repeatedly publish false content</th>\n",
              "      <th>NewsGuard, Gathers and presents information responsibly</th>\n",
              "      <th>NewsGuard, Regularly corrects or clarifies errors</th>\n",
              "      <th>NewsGuard, Handles the difference between news and opinion responsibly</th>\n",
              "      <th>NewsGuard, Avoids deceptive headlines</th>\n",
              "      <th>NewsGuard, Website discloses ownership and financing</th>\n",
              "      <th>NewsGuard, Clearly labels advertising</th>\n",
              "      <th>NewsGuard, Reveals who's in charge, including any possible conflicts of interest</th>\n",
              "      <th>NewsGuard, Provides information about content creators</th>\n",
              "      <th>NewsGuard, score</th>\n",
              "      <th>NewsGuard, overall_class</th>\n",
              "      <th>Pew Research Center, known_by_40%</th>\n",
              "      <th>Pew Research Center, total</th>\n",
              "      <th>Pew Research Center, consistently_liberal</th>\n",
              "      <th>Pew Research Center, mostly_liberal</th>\n",
              "      <th>Pew Research Center, mixed</th>\n",
              "      <th>Pew Research Center, mostly conservative</th>\n",
              "      <th>Pew Research Center, consistently conservative</th>\n",
              "      <th>Wikipedia, is_fake</th>\n",
              "      <th>Open Sources, reliable</th>\n",
              "      <th>Open Sources, fake</th>\n",
              "      <th>Open Sources, unreliable</th>\n",
              "      <th>Open Sources, bias</th>\n",
              "      <th>Open Sources, conspiracy</th>\n",
              "      <th>Open Sources, hate</th>\n",
              "      <th>Open Sources, junksci</th>\n",
              "      <th>Open Sources, rumor</th>\n",
              "      <th>Open Sources, blog</th>\n",
              "      <th>Open Sources, clickbait</th>\n",
              "      <th>Open Sources, political</th>\n",
              "      <th>Open Sources, satire</th>\n",
              "      <th>Open Sources, state</th>\n",
              "      <th>Media Bias / Fact Check, label</th>\n",
              "      <th>Media Bias / Fact Check, factual_reporting</th>\n",
              "      <th>Media Bias / Fact Check, extreme_left</th>\n",
              "      <th>Media Bias / Fact Check, right</th>\n",
              "      <th>Media Bias / Fact Check, extreme_right</th>\n",
              "      <th>Media Bias / Fact Check, propaganda</th>\n",
              "      <th>Media Bias / Fact Check, fake_news</th>\n",
              "      <th>Media Bias / Fact Check, some_fake_news</th>\n",
              "      <th>Media Bias / Fact Check, failed_fact_checks</th>\n",
              "      <th>Media Bias / Fact Check, conspiracy</th>\n",
              "      <th>Media Bias / Fact Check, pseudoscience</th>\n",
              "      <th>Media Bias / Fact Check, hate_group</th>\n",
              "      <th>Media Bias / Fact Check, anti_islam</th>\n",
              "      <th>Media Bias / Fact Check, nationalism</th>\n",
              "      <th>Allsides, bias_rating</th>\n",
              "      <th>Allsides, community_agree</th>\n",
              "      <th>Allsides, community_disagree</th>\n",
              "      <th>Allsides, community_label</th>\n",
              "      <th>BuzzFeed, leaning</th>\n",
              "      <th>PolitiFact, Pants on Fire!</th>\n",
              "      <th>PolitiFact, False</th>\n",
              "      <th>PolitiFact, Mostly False</th>\n",
              "      <th>PolitiFact, Half-True</th>\n",
              "      <th>PolitiFact, Mostly True</th>\n",
              "      <th>PolitiFact, True</th>\n",
              "    </tr>\n",
              "  </thead>\n",
              "  <tbody>\n",
              "    <tr>\n",
              "      <th>0</th>\n",
              "      <td>21stCenturyWire</td>\n",
              "      <td>NaN</td>\n",
              "      <td>NaN</td>\n",
              "      <td>NaN</td>\n",
              "      <td>NaN</td>\n",
              "      <td>NaN</td>\n",
              "      <td>NaN</td>\n",
              "      <td>NaN</td>\n",
              "      <td>NaN</td>\n",
              "      <td>NaN</td>\n",
              "      <td>NaN</td>\n",
              "      <td>NaN</td>\n",
              "      <td>NaN</td>\n",
              "      <td>NaN</td>\n",
              "      <td>NaN</td>\n",
              "      <td>NaN</td>\n",
              "      <td>NaN</td>\n",
              "      <td>NaN</td>\n",
              "      <td>NaN</td>\n",
              "      <td>NaN</td>\n",
              "      <td>NaN</td>\n",
              "      <td>NaN</td>\n",
              "      <td>NaN</td>\n",
              "      <td>NaN</td>\n",
              "      <td>1.0</td>\n",
              "      <td>NaN</td>\n",
              "      <td>NaN</td>\n",
              "      <td>NaN</td>\n",
              "      <td>NaN</td>\n",
              "      <td>NaN</td>\n",
              "      <td>NaN</td>\n",
              "      <td>NaN</td>\n",
              "      <td>NaN</td>\n",
              "      <td>conspiracy_pseudoscience</td>\n",
              "      <td>3.0</td>\n",
              "      <td>0.0</td>\n",
              "      <td>0.0</td>\n",
              "      <td>0.0</td>\n",
              "      <td>0.0</td>\n",
              "      <td>0.0</td>\n",
              "      <td>0.0</td>\n",
              "      <td>0.0</td>\n",
              "      <td>0.0</td>\n",
              "      <td>0.0</td>\n",
              "      <td>0.0</td>\n",
              "      <td>0.0</td>\n",
              "      <td>0.0</td>\n",
              "      <td>NaN</td>\n",
              "      <td>NaN</td>\n",
              "      <td>NaN</td>\n",
              "      <td>NaN</td>\n",
              "      <td>left</td>\n",
              "      <td>NaN</td>\n",
              "      <td>NaN</td>\n",
              "      <td>NaN</td>\n",
              "      <td>NaN</td>\n",
              "      <td>NaN</td>\n",
              "      <td>NaN</td>\n",
              "    </tr>\n",
              "    <tr>\n",
              "      <th>1</th>\n",
              "      <td>ABC News</td>\n",
              "      <td>0.0</td>\n",
              "      <td>0.0</td>\n",
              "      <td>0.0</td>\n",
              "      <td>0.0</td>\n",
              "      <td>0.0</td>\n",
              "      <td>0.0</td>\n",
              "      <td>0.0</td>\n",
              "      <td>1.0</td>\n",
              "      <td>0.0</td>\n",
              "      <td>95.0</td>\n",
              "      <td>1.0</td>\n",
              "      <td>1.0</td>\n",
              "      <td>1.0</td>\n",
              "      <td>1.0</td>\n",
              "      <td>1.0</td>\n",
              "      <td>1.0</td>\n",
              "      <td>1.0</td>\n",
              "      <td>-1.0</td>\n",
              "      <td>NaN</td>\n",
              "      <td>NaN</td>\n",
              "      <td>NaN</td>\n",
              "      <td>NaN</td>\n",
              "      <td>NaN</td>\n",
              "      <td>NaN</td>\n",
              "      <td>NaN</td>\n",
              "      <td>NaN</td>\n",
              "      <td>NaN</td>\n",
              "      <td>NaN</td>\n",
              "      <td>NaN</td>\n",
              "      <td>NaN</td>\n",
              "      <td>NaN</td>\n",
              "      <td>NaN</td>\n",
              "      <td>left_center_bias</td>\n",
              "      <td>4.0</td>\n",
              "      <td>0.0</td>\n",
              "      <td>0.0</td>\n",
              "      <td>0.0</td>\n",
              "      <td>0.0</td>\n",
              "      <td>0.0</td>\n",
              "      <td>0.0</td>\n",
              "      <td>0.0</td>\n",
              "      <td>0.0</td>\n",
              "      <td>0.0</td>\n",
              "      <td>0.0</td>\n",
              "      <td>0.0</td>\n",
              "      <td>0.0</td>\n",
              "      <td>Lean Left</td>\n",
              "      <td>8964.0</td>\n",
              "      <td>6949.0</td>\n",
              "      <td>somewhat agree</td>\n",
              "      <td>NaN</td>\n",
              "      <td>NaN</td>\n",
              "      <td>NaN</td>\n",
              "      <td>NaN</td>\n",
              "      <td>NaN</td>\n",
              "      <td>NaN</td>\n",
              "      <td>NaN</td>\n",
              "    </tr>\n",
              "    <tr>\n",
              "      <th>2</th>\n",
              "      <td>AMERICAblog News</td>\n",
              "      <td>NaN</td>\n",
              "      <td>NaN</td>\n",
              "      <td>NaN</td>\n",
              "      <td>NaN</td>\n",
              "      <td>NaN</td>\n",
              "      <td>NaN</td>\n",
              "      <td>NaN</td>\n",
              "      <td>NaN</td>\n",
              "      <td>NaN</td>\n",
              "      <td>NaN</td>\n",
              "      <td>NaN</td>\n",
              "      <td>NaN</td>\n",
              "      <td>NaN</td>\n",
              "      <td>NaN</td>\n",
              "      <td>NaN</td>\n",
              "      <td>NaN</td>\n",
              "      <td>NaN</td>\n",
              "      <td>NaN</td>\n",
              "      <td>NaN</td>\n",
              "      <td>NaN</td>\n",
              "      <td>NaN</td>\n",
              "      <td>NaN</td>\n",
              "      <td>1.0</td>\n",
              "      <td>NaN</td>\n",
              "      <td>NaN</td>\n",
              "      <td>NaN</td>\n",
              "      <td>NaN</td>\n",
              "      <td>NaN</td>\n",
              "      <td>2.0</td>\n",
              "      <td>NaN</td>\n",
              "      <td>NaN</td>\n",
              "      <td>NaN</td>\n",
              "      <td>NaN</td>\n",
              "      <td>NaN</td>\n",
              "      <td>NaN</td>\n",
              "      <td>NaN</td>\n",
              "      <td>NaN</td>\n",
              "      <td>NaN</td>\n",
              "      <td>NaN</td>\n",
              "      <td>NaN</td>\n",
              "      <td>NaN</td>\n",
              "      <td>NaN</td>\n",
              "      <td>NaN</td>\n",
              "      <td>NaN</td>\n",
              "      <td>NaN</td>\n",
              "      <td>NaN</td>\n",
              "      <td>NaN</td>\n",
              "      <td>NaN</td>\n",
              "      <td>NaN</td>\n",
              "      <td>NaN</td>\n",
              "      <td>left</td>\n",
              "      <td>NaN</td>\n",
              "      <td>NaN</td>\n",
              "      <td>NaN</td>\n",
              "      <td>NaN</td>\n",
              "      <td>NaN</td>\n",
              "      <td>NaN</td>\n",
              "    </tr>\n",
              "    <tr>\n",
              "      <th>3</th>\n",
              "      <td>Activist Post</td>\n",
              "      <td>NaN</td>\n",
              "      <td>NaN</td>\n",
              "      <td>NaN</td>\n",
              "      <td>NaN</td>\n",
              "      <td>NaN</td>\n",
              "      <td>NaN</td>\n",
              "      <td>NaN</td>\n",
              "      <td>NaN</td>\n",
              "      <td>NaN</td>\n",
              "      <td>NaN</td>\n",
              "      <td>NaN</td>\n",
              "      <td>NaN</td>\n",
              "      <td>NaN</td>\n",
              "      <td>NaN</td>\n",
              "      <td>NaN</td>\n",
              "      <td>NaN</td>\n",
              "      <td>NaN</td>\n",
              "      <td>NaN</td>\n",
              "      <td>NaN</td>\n",
              "      <td>NaN</td>\n",
              "      <td>NaN</td>\n",
              "      <td>NaN</td>\n",
              "      <td>NaN</td>\n",
              "      <td>1.0</td>\n",
              "      <td>NaN</td>\n",
              "      <td>NaN</td>\n",
              "      <td>NaN</td>\n",
              "      <td>NaN</td>\n",
              "      <td>NaN</td>\n",
              "      <td>NaN</td>\n",
              "      <td>NaN</td>\n",
              "      <td>NaN</td>\n",
              "      <td>conspiracy_pseudoscience</td>\n",
              "      <td>2.0</td>\n",
              "      <td>0.0</td>\n",
              "      <td>0.0</td>\n",
              "      <td>0.0</td>\n",
              "      <td>0.0</td>\n",
              "      <td>0.0</td>\n",
              "      <td>0.0</td>\n",
              "      <td>0.0</td>\n",
              "      <td>0.0</td>\n",
              "      <td>0.0</td>\n",
              "      <td>0.0</td>\n",
              "      <td>0.0</td>\n",
              "      <td>0.0</td>\n",
              "      <td>NaN</td>\n",
              "      <td>NaN</td>\n",
              "      <td>NaN</td>\n",
              "      <td>NaN</td>\n",
              "      <td>left</td>\n",
              "      <td>NaN</td>\n",
              "      <td>NaN</td>\n",
              "      <td>NaN</td>\n",
              "      <td>NaN</td>\n",
              "      <td>NaN</td>\n",
              "      <td>NaN</td>\n",
              "    </tr>\n",
              "    <tr>\n",
              "      <th>4</th>\n",
              "      <td>Addicting Info</td>\n",
              "      <td>NaN</td>\n",
              "      <td>NaN</td>\n",
              "      <td>NaN</td>\n",
              "      <td>NaN</td>\n",
              "      <td>NaN</td>\n",
              "      <td>NaN</td>\n",
              "      <td>NaN</td>\n",
              "      <td>NaN</td>\n",
              "      <td>NaN</td>\n",
              "      <td>NaN</td>\n",
              "      <td>NaN</td>\n",
              "      <td>NaN</td>\n",
              "      <td>NaN</td>\n",
              "      <td>NaN</td>\n",
              "      <td>NaN</td>\n",
              "      <td>NaN</td>\n",
              "      <td>NaN</td>\n",
              "      <td>NaN</td>\n",
              "      <td>NaN</td>\n",
              "      <td>NaN</td>\n",
              "      <td>NaN</td>\n",
              "      <td>2.0</td>\n",
              "      <td>NaN</td>\n",
              "      <td>NaN</td>\n",
              "      <td>NaN</td>\n",
              "      <td>NaN</td>\n",
              "      <td>NaN</td>\n",
              "      <td>NaN</td>\n",
              "      <td>1.0</td>\n",
              "      <td>NaN</td>\n",
              "      <td>NaN</td>\n",
              "      <td>NaN</td>\n",
              "      <td>left_bias</td>\n",
              "      <td>3.0</td>\n",
              "      <td>0.0</td>\n",
              "      <td>0.0</td>\n",
              "      <td>0.0</td>\n",
              "      <td>0.0</td>\n",
              "      <td>0.0</td>\n",
              "      <td>0.0</td>\n",
              "      <td>0.0</td>\n",
              "      <td>0.0</td>\n",
              "      <td>0.0</td>\n",
              "      <td>0.0</td>\n",
              "      <td>0.0</td>\n",
              "      <td>0.0</td>\n",
              "      <td>NaN</td>\n",
              "      <td>NaN</td>\n",
              "      <td>NaN</td>\n",
              "      <td>NaN</td>\n",
              "      <td>left</td>\n",
              "      <td>NaN</td>\n",
              "      <td>NaN</td>\n",
              "      <td>NaN</td>\n",
              "      <td>NaN</td>\n",
              "      <td>NaN</td>\n",
              "      <td>NaN</td>\n",
              "    </tr>\n",
              "    <tr>\n",
              "      <th>...</th>\n",
              "      <td>...</td>\n",
              "      <td>...</td>\n",
              "      <td>...</td>\n",
              "      <td>...</td>\n",
              "      <td>...</td>\n",
              "      <td>...</td>\n",
              "      <td>...</td>\n",
              "      <td>...</td>\n",
              "      <td>...</td>\n",
              "      <td>...</td>\n",
              "      <td>...</td>\n",
              "      <td>...</td>\n",
              "      <td>...</td>\n",
              "      <td>...</td>\n",
              "      <td>...</td>\n",
              "      <td>...</td>\n",
              "      <td>...</td>\n",
              "      <td>...</td>\n",
              "      <td>...</td>\n",
              "      <td>...</td>\n",
              "      <td>...</td>\n",
              "      <td>...</td>\n",
              "      <td>...</td>\n",
              "      <td>...</td>\n",
              "      <td>...</td>\n",
              "      <td>...</td>\n",
              "      <td>...</td>\n",
              "      <td>...</td>\n",
              "      <td>...</td>\n",
              "      <td>...</td>\n",
              "      <td>...</td>\n",
              "      <td>...</td>\n",
              "      <td>...</td>\n",
              "      <td>...</td>\n",
              "      <td>...</td>\n",
              "      <td>...</td>\n",
              "      <td>...</td>\n",
              "      <td>...</td>\n",
              "      <td>...</td>\n",
              "      <td>...</td>\n",
              "      <td>...</td>\n",
              "      <td>...</td>\n",
              "      <td>...</td>\n",
              "      <td>...</td>\n",
              "      <td>...</td>\n",
              "      <td>...</td>\n",
              "      <td>...</td>\n",
              "      <td>...</td>\n",
              "      <td>...</td>\n",
              "      <td>...</td>\n",
              "      <td>...</td>\n",
              "      <td>...</td>\n",
              "      <td>...</td>\n",
              "      <td>...</td>\n",
              "      <td>...</td>\n",
              "      <td>...</td>\n",
              "      <td>...</td>\n",
              "      <td>...</td>\n",
              "    </tr>\n",
              "    <tr>\n",
              "      <th>189</th>\n",
              "      <td>iPolitics</td>\n",
              "      <td>NaN</td>\n",
              "      <td>NaN</td>\n",
              "      <td>NaN</td>\n",
              "      <td>NaN</td>\n",
              "      <td>NaN</td>\n",
              "      <td>NaN</td>\n",
              "      <td>NaN</td>\n",
              "      <td>NaN</td>\n",
              "      <td>NaN</td>\n",
              "      <td>NaN</td>\n",
              "      <td>NaN</td>\n",
              "      <td>NaN</td>\n",
              "      <td>NaN</td>\n",
              "      <td>NaN</td>\n",
              "      <td>NaN</td>\n",
              "      <td>NaN</td>\n",
              "      <td>NaN</td>\n",
              "      <td>NaN</td>\n",
              "      <td>NaN</td>\n",
              "      <td>NaN</td>\n",
              "      <td>NaN</td>\n",
              "      <td>NaN</td>\n",
              "      <td>NaN</td>\n",
              "      <td>NaN</td>\n",
              "      <td>NaN</td>\n",
              "      <td>NaN</td>\n",
              "      <td>NaN</td>\n",
              "      <td>NaN</td>\n",
              "      <td>NaN</td>\n",
              "      <td>NaN</td>\n",
              "      <td>NaN</td>\n",
              "      <td>NaN</td>\n",
              "      <td>left_center_bias</td>\n",
              "      <td>4.0</td>\n",
              "      <td>0.0</td>\n",
              "      <td>0.0</td>\n",
              "      <td>0.0</td>\n",
              "      <td>0.0</td>\n",
              "      <td>0.0</td>\n",
              "      <td>0.0</td>\n",
              "      <td>0.0</td>\n",
              "      <td>0.0</td>\n",
              "      <td>0.0</td>\n",
              "      <td>0.0</td>\n",
              "      <td>0.0</td>\n",
              "      <td>0.0</td>\n",
              "      <td>NaN</td>\n",
              "      <td>NaN</td>\n",
              "      <td>NaN</td>\n",
              "      <td>NaN</td>\n",
              "      <td>NaN</td>\n",
              "      <td>NaN</td>\n",
              "      <td>NaN</td>\n",
              "      <td>NaN</td>\n",
              "      <td>NaN</td>\n",
              "      <td>NaN</td>\n",
              "      <td>NaN</td>\n",
              "    </tr>\n",
              "    <tr>\n",
              "      <th>190</th>\n",
              "      <td>oann</td>\n",
              "      <td>NaN</td>\n",
              "      <td>NaN</td>\n",
              "      <td>NaN</td>\n",
              "      <td>NaN</td>\n",
              "      <td>NaN</td>\n",
              "      <td>NaN</td>\n",
              "      <td>NaN</td>\n",
              "      <td>NaN</td>\n",
              "      <td>NaN</td>\n",
              "      <td>NaN</td>\n",
              "      <td>NaN</td>\n",
              "      <td>NaN</td>\n",
              "      <td>NaN</td>\n",
              "      <td>NaN</td>\n",
              "      <td>NaN</td>\n",
              "      <td>NaN</td>\n",
              "      <td>NaN</td>\n",
              "      <td>NaN</td>\n",
              "      <td>NaN</td>\n",
              "      <td>2.0</td>\n",
              "      <td>NaN</td>\n",
              "      <td>NaN</td>\n",
              "      <td>NaN</td>\n",
              "      <td>NaN</td>\n",
              "      <td>NaN</td>\n",
              "      <td>NaN</td>\n",
              "      <td>NaN</td>\n",
              "      <td>NaN</td>\n",
              "      <td>NaN</td>\n",
              "      <td>1.0</td>\n",
              "      <td>NaN</td>\n",
              "      <td>NaN</td>\n",
              "      <td>NaN</td>\n",
              "      <td>NaN</td>\n",
              "      <td>NaN</td>\n",
              "      <td>NaN</td>\n",
              "      <td>NaN</td>\n",
              "      <td>NaN</td>\n",
              "      <td>NaN</td>\n",
              "      <td>NaN</td>\n",
              "      <td>NaN</td>\n",
              "      <td>NaN</td>\n",
              "      <td>NaN</td>\n",
              "      <td>NaN</td>\n",
              "      <td>NaN</td>\n",
              "      <td>NaN</td>\n",
              "      <td>NaN</td>\n",
              "      <td>NaN</td>\n",
              "      <td>NaN</td>\n",
              "      <td>NaN</td>\n",
              "      <td>right</td>\n",
              "      <td>NaN</td>\n",
              "      <td>NaN</td>\n",
              "      <td>NaN</td>\n",
              "      <td>NaN</td>\n",
              "      <td>NaN</td>\n",
              "      <td>NaN</td>\n",
              "    </tr>\n",
              "    <tr>\n",
              "      <th>191</th>\n",
              "      <td>rferl</td>\n",
              "      <td>NaN</td>\n",
              "      <td>NaN</td>\n",
              "      <td>NaN</td>\n",
              "      <td>NaN</td>\n",
              "      <td>NaN</td>\n",
              "      <td>NaN</td>\n",
              "      <td>NaN</td>\n",
              "      <td>NaN</td>\n",
              "      <td>NaN</td>\n",
              "      <td>NaN</td>\n",
              "      <td>NaN</td>\n",
              "      <td>NaN</td>\n",
              "      <td>NaN</td>\n",
              "      <td>NaN</td>\n",
              "      <td>NaN</td>\n",
              "      <td>NaN</td>\n",
              "      <td>NaN</td>\n",
              "      <td>NaN</td>\n",
              "      <td>NaN</td>\n",
              "      <td>NaN</td>\n",
              "      <td>NaN</td>\n",
              "      <td>NaN</td>\n",
              "      <td>NaN</td>\n",
              "      <td>NaN</td>\n",
              "      <td>NaN</td>\n",
              "      <td>NaN</td>\n",
              "      <td>NaN</td>\n",
              "      <td>NaN</td>\n",
              "      <td>NaN</td>\n",
              "      <td>NaN</td>\n",
              "      <td>NaN</td>\n",
              "      <td>NaN</td>\n",
              "      <td>NaN</td>\n",
              "      <td>NaN</td>\n",
              "      <td>NaN</td>\n",
              "      <td>NaN</td>\n",
              "      <td>NaN</td>\n",
              "      <td>NaN</td>\n",
              "      <td>NaN</td>\n",
              "      <td>NaN</td>\n",
              "      <td>NaN</td>\n",
              "      <td>NaN</td>\n",
              "      <td>NaN</td>\n",
              "      <td>NaN</td>\n",
              "      <td>NaN</td>\n",
              "      <td>NaN</td>\n",
              "      <td>NaN</td>\n",
              "      <td>NaN</td>\n",
              "      <td>NaN</td>\n",
              "      <td>NaN</td>\n",
              "      <td>NaN</td>\n",
              "      <td>NaN</td>\n",
              "      <td>NaN</td>\n",
              "      <td>NaN</td>\n",
              "      <td>NaN</td>\n",
              "      <td>NaN</td>\n",
              "      <td>NaN</td>\n",
              "    </tr>\n",
              "    <tr>\n",
              "      <th>192</th>\n",
              "      <td>sott.net</td>\n",
              "      <td>NaN</td>\n",
              "      <td>NaN</td>\n",
              "      <td>NaN</td>\n",
              "      <td>NaN</td>\n",
              "      <td>NaN</td>\n",
              "      <td>NaN</td>\n",
              "      <td>NaN</td>\n",
              "      <td>NaN</td>\n",
              "      <td>NaN</td>\n",
              "      <td>NaN</td>\n",
              "      <td>NaN</td>\n",
              "      <td>NaN</td>\n",
              "      <td>NaN</td>\n",
              "      <td>NaN</td>\n",
              "      <td>NaN</td>\n",
              "      <td>NaN</td>\n",
              "      <td>NaN</td>\n",
              "      <td>NaN</td>\n",
              "      <td>NaN</td>\n",
              "      <td>NaN</td>\n",
              "      <td>NaN</td>\n",
              "      <td>NaN</td>\n",
              "      <td>NaN</td>\n",
              "      <td>NaN</td>\n",
              "      <td>NaN</td>\n",
              "      <td>NaN</td>\n",
              "      <td>NaN</td>\n",
              "      <td>NaN</td>\n",
              "      <td>NaN</td>\n",
              "      <td>NaN</td>\n",
              "      <td>NaN</td>\n",
              "      <td>NaN</td>\n",
              "      <td>conspiracy_pseudoscience</td>\n",
              "      <td>3.0</td>\n",
              "      <td>0.0</td>\n",
              "      <td>0.0</td>\n",
              "      <td>0.0</td>\n",
              "      <td>0.0</td>\n",
              "      <td>0.0</td>\n",
              "      <td>0.0</td>\n",
              "      <td>0.0</td>\n",
              "      <td>0.0</td>\n",
              "      <td>0.0</td>\n",
              "      <td>0.0</td>\n",
              "      <td>0.0</td>\n",
              "      <td>0.0</td>\n",
              "      <td>NaN</td>\n",
              "      <td>NaN</td>\n",
              "      <td>NaN</td>\n",
              "      <td>NaN</td>\n",
              "      <td>NaN</td>\n",
              "      <td>NaN</td>\n",
              "      <td>NaN</td>\n",
              "      <td>NaN</td>\n",
              "      <td>NaN</td>\n",
              "      <td>NaN</td>\n",
              "      <td>NaN</td>\n",
              "    </tr>\n",
              "    <tr>\n",
              "      <th>193</th>\n",
              "      <td>theRussophileorg</td>\n",
              "      <td>NaN</td>\n",
              "      <td>NaN</td>\n",
              "      <td>NaN</td>\n",
              "      <td>NaN</td>\n",
              "      <td>NaN</td>\n",
              "      <td>NaN</td>\n",
              "      <td>NaN</td>\n",
              "      <td>NaN</td>\n",
              "      <td>NaN</td>\n",
              "      <td>NaN</td>\n",
              "      <td>NaN</td>\n",
              "      <td>NaN</td>\n",
              "      <td>NaN</td>\n",
              "      <td>NaN</td>\n",
              "      <td>NaN</td>\n",
              "      <td>NaN</td>\n",
              "      <td>NaN</td>\n",
              "      <td>NaN</td>\n",
              "      <td>NaN</td>\n",
              "      <td>NaN</td>\n",
              "      <td>NaN</td>\n",
              "      <td>NaN</td>\n",
              "      <td>NaN</td>\n",
              "      <td>NaN</td>\n",
              "      <td>NaN</td>\n",
              "      <td>NaN</td>\n",
              "      <td>NaN</td>\n",
              "      <td>NaN</td>\n",
              "      <td>NaN</td>\n",
              "      <td>NaN</td>\n",
              "      <td>NaN</td>\n",
              "      <td>NaN</td>\n",
              "      <td>NaN</td>\n",
              "      <td>NaN</td>\n",
              "      <td>NaN</td>\n",
              "      <td>NaN</td>\n",
              "      <td>NaN</td>\n",
              "      <td>NaN</td>\n",
              "      <td>NaN</td>\n",
              "      <td>NaN</td>\n",
              "      <td>NaN</td>\n",
              "      <td>NaN</td>\n",
              "      <td>NaN</td>\n",
              "      <td>NaN</td>\n",
              "      <td>NaN</td>\n",
              "      <td>NaN</td>\n",
              "      <td>NaN</td>\n",
              "      <td>NaN</td>\n",
              "      <td>NaN</td>\n",
              "      <td>NaN</td>\n",
              "      <td>NaN</td>\n",
              "      <td>NaN</td>\n",
              "      <td>NaN</td>\n",
              "      <td>NaN</td>\n",
              "      <td>NaN</td>\n",
              "      <td>NaN</td>\n",
              "      <td>NaN</td>\n",
              "    </tr>\n",
              "  </tbody>\n",
              "</table>\n",
              "<p>194 rows × 58 columns</p>\n",
              "</div>"
            ],
            "text/plain": [
              "               Source  ...  PolitiFact, True\n",
              "0     21stCenturyWire  ...               NaN\n",
              "1            ABC News  ...               NaN\n",
              "2    AMERICAblog News  ...               NaN\n",
              "3       Activist Post  ...               NaN\n",
              "4      Addicting Info  ...               NaN\n",
              "..                ...  ...               ...\n",
              "189         iPolitics  ...               NaN\n",
              "190              oann  ...               NaN\n",
              "191             rferl  ...               NaN\n",
              "192          sott.net  ...               NaN\n",
              "193  theRussophileorg  ...               NaN\n",
              "\n",
              "[194 rows x 58 columns]"
            ]
          },
          "metadata": {
            "tags": []
          },
          "execution_count": 45
        }
      ]
    },
    {
      "cell_type": "markdown",
      "metadata": {
        "id": "mjWwnyS_x8jO",
        "colab_type": "text"
      },
      "source": [
        "**We observe that there total 194 rows and 58 columns in the labels dataset. Column1 represents source and rest of 8 columns represent various factors (or features) of evaluating the news outlet. We also observe that there are lot of NaN values for all the features.**"
      ]
    },
    {
      "cell_type": "code",
      "metadata": {
        "id": "mPgmuUlw5Rz_",
        "colab_type": "code",
        "outputId": "48bf5759-e27c-44a4-86e4-982701e7c0bc",
        "colab": {
          "base_uri": "https://localhost:8080/",
          "height": 230
        }
      },
      "source": [
        "labelSetFinal = labels_df[\"Source\"]\n",
        "labelSetFinal"
      ],
      "execution_count": 0,
      "outputs": [
        {
          "output_type": "execute_result",
          "data": {
            "text/plain": [
              "0       21stCenturyWire\n",
              "1              ABC News\n",
              "2      AMERICAblog News\n",
              "3         Activist Post\n",
              "4        Addicting Info\n",
              "             ...       \n",
              "189           iPolitics\n",
              "190                oann\n",
              "191               rferl\n",
              "192            sott.net\n",
              "193    theRussophileorg\n",
              "Name: Source, Length: 194, dtype: object"
            ]
          },
          "metadata": {
            "tags": []
          },
          "execution_count": 46
        }
      ]
    },
    {
      "cell_type": "code",
      "metadata": {
        "id": "JSdxduaCyRv1",
        "colab_type": "code",
        "colab": {}
      },
      "source": [
        "labelSet = [\"BBC\", \"MSNBC\", \"Crikey\"]"
      ],
      "execution_count": 0,
      "outputs": []
    },
    {
      "cell_type": "markdown",
      "metadata": {
        "id": "xn8Wj_yiyJvQ",
        "colab_type": "text"
      },
      "source": [
        "## **Extracting the list of articles from articles.db file**"
      ]
    },
    {
      "cell_type": "code",
      "metadata": {
        "id": "A3ohXUPcze5q",
        "colab_type": "code",
        "colab": {}
      },
      "source": [
        "dfFinal = pd.DataFrame([])"
      ],
      "execution_count": 0,
      "outputs": []
    },
    {
      "cell_type": "markdown",
      "metadata": {
        "id": "4tEST8DRyhK1",
        "colab_type": "text"
      },
      "source": [
        "## **Function to fetch the list of articles from articles.db file**"
      ]
    },
    {
      "cell_type": "code",
      "metadata": {
        "id": "3Q4FVFgh8vDK",
        "colab_type": "code",
        "colab": {}
      },
      "source": [
        "def nela_load_articles_from_source(source_name, count=-1):\n",
        "    conn = sqlite3.connect(\"/content/drive/My Drive/AlternusVeraDataSets2019/FinalExam/Transformers/SnehalYeole/Datasets_NELA/Datasets/articles.db\")\n",
        "\n",
        "    count_string = \"\"\n",
        "    if count != -1:\n",
        "        count_string = \"limit \" + str(count)\n",
        "\n",
        "    df = pd.read_sql_query(\n",
        "        \"SELECT * FROM articles WHERE source='\"\n",
        "        + str(source_name)\n",
        "        + \"' \" + \"LIMIT 100\"\n",
        "        #+ count_string \n",
        "        + \";\",\n",
        "        conn,\n",
        "    )\n",
        "    return df"
      ],
      "execution_count": 0,
      "outputs": []
    },
    {
      "cell_type": "markdown",
      "metadata": {
        "id": "Njh_gtCoyl3_",
        "colab_type": "text"
      },
      "source": [
        "## **The above function contains a query that will fetch 100 articles for each of the source outlets and append the articles in the dataframe.**"
      ]
    },
    {
      "cell_type": "code",
      "metadata": {
        "id": "9Md1vfYgyR2a",
        "colab_type": "code",
        "colab": {}
      },
      "source": [
        "for x in labelSetFinal:\n",
        "  df = nela_load_articles_from_source(x)\n",
        "  dfFinal = dfFinal.append(df)\n"
      ],
      "execution_count": 0,
      "outputs": []
    },
    {
      "cell_type": "markdown",
      "metadata": {
        "id": "zDYpjWmkz8P5",
        "colab_type": "text"
      },
      "source": [
        "## **Printing the list of fetch articles from the db file.**"
      ]
    },
    {
      "cell_type": "code",
      "metadata": {
        "id": "7uCFRL-y3Ore",
        "colab_type": "code",
        "outputId": "c5d37c0b-3364-41e7-eae8-b618b420f09d",
        "colab": {
          "base_uri": "https://localhost:8080/",
          "height": 411
        }
      },
      "source": [
        "dfFinal"
      ],
      "execution_count": 0,
      "outputs": [
        {
          "output_type": "execute_result",
          "data": {
            "text/html": [
              "<div>\n",
              "<style scoped>\n",
              "    .dataframe tbody tr th:only-of-type {\n",
              "        vertical-align: middle;\n",
              "    }\n",
              "\n",
              "    .dataframe tbody tr th {\n",
              "        vertical-align: top;\n",
              "    }\n",
              "\n",
              "    .dataframe thead th {\n",
              "        text-align: right;\n",
              "    }\n",
              "</style>\n",
              "<table border=\"1\" class=\"dataframe\">\n",
              "  <thead>\n",
              "    <tr style=\"text-align: right;\">\n",
              "      <th></th>\n",
              "      <th>date</th>\n",
              "      <th>source</th>\n",
              "      <th>name</th>\n",
              "      <th>content</th>\n",
              "    </tr>\n",
              "  </thead>\n",
              "  <tbody>\n",
              "    <tr>\n",
              "      <th>0</th>\n",
              "      <td>2018-07-16</td>\n",
              "      <td>21stCenturyWire</td>\n",
              "      <td>Israel Attacks Iranian-Linked Airbase in Alepp...</td>\n",
              "      <td>This latest report indicates Israel used its I...</td>\n",
              "    </tr>\n",
              "    <tr>\n",
              "      <th>1</th>\n",
              "      <td>2018-07-16</td>\n",
              "      <td>21stCenturyWire</td>\n",
              "      <td>Laurel Canyon the CIA Counter Culture Dave McG...</td>\n",
              "      <td>The United States is a pop cultural superpower...</td>\n",
              "    </tr>\n",
              "    <tr>\n",
              "      <th>2</th>\n",
              "      <td>2018-07-16</td>\n",
              "      <td>21stCenturyWire</td>\n",
              "      <td>PURELY POLITICAL Dont Expect Any Real Evidence...</td>\n",
              "      <td>As the mainstream press tries to get a grip on...</td>\n",
              "    </tr>\n",
              "    <tr>\n",
              "      <th>3</th>\n",
              "      <td>2018-07-17</td>\n",
              "      <td>21stCenturyWire</td>\n",
              "      <td>Iran Files Lawsuit Against US in International...</td>\n",
              "      <td>Iran has filed a lawsuit alleging the US viola...</td>\n",
              "    </tr>\n",
              "    <tr>\n",
              "      <th>4</th>\n",
              "      <td>2018-07-17</td>\n",
              "      <td>21stCenturyWire</td>\n",
              "      <td>No Exemptions for EU US Wants unprecedented fi...</td>\n",
              "      <td>At some point along their quest for regime cha...</td>\n",
              "    </tr>\n",
              "    <tr>\n",
              "      <th>...</th>\n",
              "      <td>...</td>\n",
              "      <td>...</td>\n",
              "      <td>...</td>\n",
              "      <td>...</td>\n",
              "    </tr>\n",
              "    <tr>\n",
              "      <th>95</th>\n",
              "      <td>2018-08-06</td>\n",
              "      <td>theRussophileorg</td>\n",
              "      <td>NATO to Set Up Its First Air Base in Western B...</td>\n",
              "      <td>This\\r\\n\\r\\n[post](https://www.strategic-cultu...</td>\n",
              "    </tr>\n",
              "    <tr>\n",
              "      <th>96</th>\n",
              "      <td>2018-08-06</td>\n",
              "      <td>theRussophileorg</td>\n",
              "      <td>NBCs Chuck Todd Trumps Dehumanizing Tweet on P...</td>\n",
              "      <td>This\\r\\n\\r\\n[post](https://truepundit.com/nbcs...</td>\n",
              "    </tr>\n",
              "    <tr>\n",
              "      <th>97</th>\n",
              "      <td>2018-08-06</td>\n",
              "      <td>theRussophileorg</td>\n",
              "      <td>Naya Pakistan New Pakistan Should Apply to Joi...</td>\n",
              "      <td>This\\r\\n\\r\\n[post](https://www.globalresearch....</td>\n",
              "    </tr>\n",
              "    <tr>\n",
              "      <th>98</th>\n",
              "      <td>2018-08-06</td>\n",
              "      <td>theRussophileorg</td>\n",
              "      <td>Naya Pakistan Should Apply To Join The Eurasia...</td>\n",
              "      <td>This\\r\\n\\r\\n[post](https://www.eurasiafuture.c...</td>\n",
              "    </tr>\n",
              "    <tr>\n",
              "      <th>99</th>\n",
              "      <td>2018-08-06</td>\n",
              "      <td>theRussophileorg</td>\n",
              "      <td>No more vodka for young Russians</td>\n",
              "      <td>It has already been two weeks since the start ...</td>\n",
              "    </tr>\n",
              "  </tbody>\n",
              "</table>\n",
              "<p>18071 rows × 4 columns</p>\n",
              "</div>"
            ],
            "text/plain": [
              "          date  ...                                            content\n",
              "0   2018-07-16  ...  This latest report indicates Israel used its I...\n",
              "1   2018-07-16  ...  The United States is a pop cultural superpower...\n",
              "2   2018-07-16  ...  As the mainstream press tries to get a grip on...\n",
              "3   2018-07-17  ...  Iran has filed a lawsuit alleging the US viola...\n",
              "4   2018-07-17  ...  At some point along their quest for regime cha...\n",
              "..         ...  ...                                                ...\n",
              "95  2018-08-06  ...  This\\r\\n\\r\\n[post](https://www.strategic-cultu...\n",
              "96  2018-08-06  ...  This\\r\\n\\r\\n[post](https://truepundit.com/nbcs...\n",
              "97  2018-08-06  ...  This\\r\\n\\r\\n[post](https://www.globalresearch....\n",
              "98  2018-08-06  ...  This\\r\\n\\r\\n[post](https://www.eurasiafuture.c...\n",
              "99  2018-08-06  ...  It has already been two weeks since the start ...\n",
              "\n",
              "[18071 rows x 4 columns]"
            ]
          },
          "metadata": {
            "tags": []
          },
          "execution_count": 51
        }
      ]
    },
    {
      "cell_type": "markdown",
      "metadata": {
        "id": "Sdny5uAu0HNt",
        "colab_type": "text"
      },
      "source": [
        "# **Step 3: Set Data Narrative : Set Business Objectives, what use case are you solving for**"
      ]
    },
    {
      "cell_type": "markdown",
      "metadata": {
        "id": "tp5Vvx0Y0Kbm",
        "colab_type": "text"
      },
      "source": [
        "We observed that the articles gathered in this dataset is found in an sqlite database. The database has one table name articles. This table has 4 textual columns:\n",
        "\n",
        "date: Date of article in yyyy-mm-dd format.\n",
        "source: Source of article.\n",
        "name: Title of article.\n",
        "content: Clean text content of article.\n",
        "The rows of the article are sorted first with respect to date and then with respect to source.The dataset's articles are also provided in plain-text files, with file-structure and file naming convension.\n",
        "\n",
        "We also observe that labels dataset conatins different source outlets and features for these articles. In order to determine the degree of fakeness for an article we will amalgamate articles dataset and labels dataset on the basis of source column. After amalgamation, we can select among different features available in order to determine the degree of fakeness of article from a particular source."
      ]
    },
    {
      "cell_type": "markdown",
      "metadata": {
        "id": "dk_TPkxb0Qaj",
        "colab_type": "text"
      },
      "source": [
        "## **Step 4: Exploratory Data Analysis and Visualization**"
      ]
    },
    {
      "cell_type": "markdown",
      "metadata": {
        "id": "KCBTDfSh0U2h",
        "colab_type": "text"
      },
      "source": [
        "## **4.1 Feature Analysis and Engineering**"
      ]
    },
    {
      "cell_type": "markdown",
      "metadata": {
        "id": "LCWwBYh70aJt",
        "colab_type": "text"
      },
      "source": [
        "In this project, we will deal with the below label to determine the degree of fakeness of article.\n",
        "\n",
        "Media Bias / Fact Check, factual_reporting\n",
        "\n",
        "This fetaure has values in the range 1.0 to 5.0\n",
        "\n",
        "1 - represents article is fake\n",
        "5 - represents article is true"
      ]
    },
    {
      "cell_type": "markdown",
      "metadata": {
        "id": "bEpprmAv0dMj",
        "colab_type": "text"
      },
      "source": [
        "## **4.2 Analyze data**"
      ]
    },
    {
      "cell_type": "markdown",
      "metadata": {
        "id": "-SilKlGs1pkC",
        "colab_type": "text"
      },
      "source": [
        "**Check for NaN values in the list of articles fetched.**"
      ]
    },
    {
      "cell_type": "code",
      "metadata": {
        "id": "5C5a5Fhg-qWg",
        "colab_type": "code",
        "outputId": "4d63c9a4-d015-4bb3-d99f-8e09938f0dc4",
        "colab": {
          "base_uri": "https://localhost:8080/",
          "height": 106
        }
      },
      "source": [
        "dfFinal.isnull().sum()"
      ],
      "execution_count": 0,
      "outputs": [
        {
          "output_type": "execute_result",
          "data": {
            "text/plain": [
              "date       0\n",
              "source     0\n",
              "name       0\n",
              "content    0\n",
              "dtype: int64"
            ]
          },
          "metadata": {
            "tags": []
          },
          "execution_count": 52
        }
      ]
    },
    {
      "cell_type": "markdown",
      "metadata": {
        "id": "7KbRwBFR1JTm",
        "colab_type": "text"
      },
      "source": [
        "# **Step 5. Data Prep: Curation**"
      ]
    },
    {
      "cell_type": "markdown",
      "metadata": {
        "id": "mloLoVYM1OWj",
        "colab_type": "text"
      },
      "source": [
        "## **5.1 Feature Selection and Extraction : what are the main features to use in this data set?**"
      ]
    },
    {
      "cell_type": "markdown",
      "metadata": {
        "id": "y5MUdb8e1RHi",
        "colab_type": "text"
      },
      "source": [
        "In this project, we will deal with the below label to determine the degree of fakeness of article.\n",
        "\n",
        "Media Bias / Fact Check, factual_reporting\n",
        "\n",
        "This fetaure has values in the range 1.0 to 5.0\n",
        "\n",
        "1 - represents article is fake\n",
        "5 - represents article is true"
      ]
    },
    {
      "cell_type": "markdown",
      "metadata": {
        "id": "GqZfb3961Y9S",
        "colab_type": "text"
      },
      "source": [
        "## **5.2 Data Verification: Do we have enough data?**"
      ]
    },
    {
      "cell_type": "markdown",
      "metadata": {
        "id": "gjQQF51G1b-w",
        "colab_type": "text"
      },
      "source": [
        "We dont have enough data in one dataset. Therefore, we need to amalgamate articles dataset and labels dataset, in order to get labels and source for each of the articles in the articles dataset."
      ]
    },
    {
      "cell_type": "markdown",
      "metadata": {
        "id": "fzJKkqja1drx",
        "colab_type": "text"
      },
      "source": [
        "## **5.3 Possibility of Amalgamation1: Add Dataset 2**"
      ]
    },
    {
      "cell_type": "markdown",
      "metadata": {
        "id": "mhbJnT6d1uWG",
        "colab_type": "text"
      },
      "source": [
        "\n",
        "**Calculating the lenght of content for each article and appending to the dataset.**"
      ]
    },
    {
      "cell_type": "code",
      "metadata": {
        "id": "XoQVMUsc_aXb",
        "colab_type": "code",
        "outputId": "41a16ae7-2e29-48e3-92ed-a60bec6dee23",
        "colab": {
          "base_uri": "https://localhost:8080/",
          "height": 285
        }
      },
      "source": [
        "length = []\n",
        "[length.append(len(str(text))) for text in dfFinal['content']]\n",
        "dfFinal['length'] = length\n",
        "dfFinal.head()"
      ],
      "execution_count": 0,
      "outputs": [
        {
          "output_type": "execute_result",
          "data": {
            "text/html": [
              "<div>\n",
              "<style scoped>\n",
              "    .dataframe tbody tr th:only-of-type {\n",
              "        vertical-align: middle;\n",
              "    }\n",
              "\n",
              "    .dataframe tbody tr th {\n",
              "        vertical-align: top;\n",
              "    }\n",
              "\n",
              "    .dataframe thead th {\n",
              "        text-align: right;\n",
              "    }\n",
              "</style>\n",
              "<table border=\"1\" class=\"dataframe\">\n",
              "  <thead>\n",
              "    <tr style=\"text-align: right;\">\n",
              "      <th></th>\n",
              "      <th>date</th>\n",
              "      <th>source</th>\n",
              "      <th>name</th>\n",
              "      <th>content</th>\n",
              "      <th>length</th>\n",
              "    </tr>\n",
              "  </thead>\n",
              "  <tbody>\n",
              "    <tr>\n",
              "      <th>0</th>\n",
              "      <td>2018-07-16</td>\n",
              "      <td>21stCenturyWire</td>\n",
              "      <td>Israel Attacks Iranian-Linked Airbase in Alepp...</td>\n",
              "      <td>This latest report indicates Israel used its I...</td>\n",
              "      <td>1388</td>\n",
              "    </tr>\n",
              "    <tr>\n",
              "      <th>1</th>\n",
              "      <td>2018-07-16</td>\n",
              "      <td>21stCenturyWire</td>\n",
              "      <td>Laurel Canyon the CIA Counter Culture Dave McG...</td>\n",
              "      <td>The United States is a pop cultural superpower...</td>\n",
              "      <td>1448</td>\n",
              "    </tr>\n",
              "    <tr>\n",
              "      <th>2</th>\n",
              "      <td>2018-07-16</td>\n",
              "      <td>21stCenturyWire</td>\n",
              "      <td>PURELY POLITICAL Dont Expect Any Real Evidence...</td>\n",
              "      <td>As the mainstream press tries to get a grip on...</td>\n",
              "      <td>7384</td>\n",
              "    </tr>\n",
              "    <tr>\n",
              "      <th>3</th>\n",
              "      <td>2018-07-17</td>\n",
              "      <td>21stCenturyWire</td>\n",
              "      <td>Iran Files Lawsuit Against US in International...</td>\n",
              "      <td>Iran has filed a lawsuit alleging the US viola...</td>\n",
              "      <td>2897</td>\n",
              "    </tr>\n",
              "    <tr>\n",
              "      <th>4</th>\n",
              "      <td>2018-07-17</td>\n",
              "      <td>21stCenturyWire</td>\n",
              "      <td>No Exemptions for EU US Wants unprecedented fi...</td>\n",
              "      <td>At some point along their quest for regime cha...</td>\n",
              "      <td>1355</td>\n",
              "    </tr>\n",
              "  </tbody>\n",
              "</table>\n",
              "</div>"
            ],
            "text/plain": [
              "         date  ... length\n",
              "0  2018-07-16  ...   1388\n",
              "1  2018-07-16  ...   1448\n",
              "2  2018-07-16  ...   7384\n",
              "3  2018-07-17  ...   2897\n",
              "4  2018-07-17  ...   1355\n",
              "\n",
              "[5 rows x 5 columns]"
            ]
          },
          "metadata": {
            "tags": []
          },
          "execution_count": 53
        }
      ]
    },
    {
      "cell_type": "code",
      "metadata": {
        "id": "ZNoURxvgEpij",
        "colab_type": "code",
        "outputId": "556aa9d8-4d0d-4103-9f9b-d9a86a9a348f",
        "colab": {
          "base_uri": "https://localhost:8080/",
          "height": 35
        }
      },
      "source": [
        "dfFinal.shape"
      ],
      "execution_count": 0,
      "outputs": [
        {
          "output_type": "execute_result",
          "data": {
            "text/plain": [
              "(18071, 5)"
            ]
          },
          "metadata": {
            "tags": []
          },
          "execution_count": 54
        }
      ]
    },
    {
      "cell_type": "markdown",
      "metadata": {
        "id": "0vD_G_sXGMLo",
        "colab_type": "text"
      },
      "source": [
        "\n",
        "    Source names NewsGuard labels:\n",
        "    NewsGuard, Does not repeatedly publish false content 1 true, 0 false\n",
        "    NewsGuard, Gathers and presents information responsibly 1 true, 0 false\n",
        "    NewsGuard, Regularly corrects or clarifies errors 1 true, 0 false\n",
        "    NewsGuard, Handles the difference between news and opinion responsibly 1 true, 0 false\n",
        "    NewsGuard, Avoids deceptive headlines 1 true, 0 false\n",
        "    NewsGuard, Website discloses ownership and financing 1 true, 0 false\n",
        "    NewsGuard, Clearly labels advertising 1 true, 0 false\n",
        "    NewsGuard, Reveals who's in charge, including any possible conflicts of interest 1 true, 0 false\n",
        "    NewsGuard, Provides information about content creators 1 true, 0 false\n",
        "    NewsGuard, score 0-100\n",
        "    NewsGuard, overall_class 1 good, 0 bad Pew Research Center\n",
        "    Pew Research Center, known_by_40% 1 true, 0 false\n",
        "    Pew Research Center, total 1 trusted, 0 undecided, -1 not trusted\n",
        "    Pew Research Center, consistently_liberal 1 trusted, 0 undecided, -1 not trusted\n",
        "    Pew Research Center, mostly_liberal 1 trusted, 0 undecided, -1 not trusted\n",
        "    Pew Research Center, mixed 1 trusted, 0 undecided, -1 not trusted\n",
        "    Pew Research Center, mostly conservative 1 trusted, 0 undecided, -1 not trusted\n",
        "    Pew Research Center, consistently conservative 1 trusted, 0 undecided, -1 not trusted Wikipedia\n",
        "    Wikipedia, is_fake 1 marked Open Sources\n",
        "    Open Sources, reliable # tag\n",
        "    Open Sources, fake # tag\n",
        "    Open Sources, unreliable # tag\n",
        "    Open Sources, bias # tag\n",
        "    Open Sources, conspiracy # tag\n",
        "    Open Sources, hate # tag\n",
        "    Open Sources, junksci # tag\n",
        "    Open Sources, rumor # tag\n",
        "    Open Sources, blog # tag\n",
        "    Open Sources, clickbait # tag\n",
        "    Open Sources, political # tag\n",
        "    Open Sources, satire # tag\n",
        "    Open Sources, state # tag Media Bias / Fact Check\n",
        "    Media Bias / Fact Check, label label\n",
        "    Media Bias / Fact Check, factual_reporting bad 1 - 5 good\n",
        "    Media Bias / Fact Check, extreme_left 1 true, 0 false\n",
        "    Media Bias / Fact Check, right 1 true, 0 false\n",
        "    Media Bias / Fact Check, extreme_right 1 true, 0 false\n",
        "    Media Bias / Fact Check, propaganda 1 true, 0 false\n",
        "    Media Bias / Fact Check, fake_news 1 true, 0 false\n",
        "    Media Bias / Fact Check, some_fake_news 1 true, 0 false\n",
        "    Media Bias / Fact Check, failed_fact_checks 1 true, 0 false\n",
        "    Media Bias / Fact Check, conspiracy 1 true, 0 false\n",
        "    Media Bias / Fact Check, pseudoscience 1 true, 0 false\n",
        "    Media Bias / Fact Check, hate_group 1 true, 0 false\n",
        "    Media Bias / Fact Check, anti_islam 1 true, 0 false\n",
        "    Media Bias / Fact Check, nationalism 1 true, 0 false Allsides\n",
        "    Allsides, bias_rating rating label\n",
        "    Allsides, community_agree # votes agreeing\n",
        "    Allsides, community_disagree # votes disagreeing\n",
        "    Allsides, community_label agreement label BuzzFeed\n",
        "    BuzzFeed, leaning left, right Politifact\n",
        "    PolitiFact, Pants on Fire! # counts\n",
        "    PolitiFact, False # counts\n",
        "    PolitiFact, Mostly False # counts\n",
        "    PolitiFact, Half-True # counts\n",
        "    PolitiFact, Mostly True # counts\n",
        "    PolitiFact, True # counts\n"
      ]
    },
    {
      "cell_type": "code",
      "metadata": {
        "id": "TLe8jQf3HHwQ",
        "colab_type": "code",
        "outputId": "a8e7823c-f0db-41ef-c846-5f86776bee0c",
        "colab": {
          "base_uri": "https://localhost:8080/",
          "height": 411
        }
      },
      "source": [
        "labels_df[[\"Source\", \"Media Bias / Fact Check, factual_reporting\", \"Media Bias / Fact Check, label\"]]\n",
        "labels_df[[\"Source\",\"factLabel\",\"bias_satire_conspiracy_reputation\"]] = labels_df[[\"Source\",\"Media Bias / Fact Check, factual_reporting\", \"Media Bias / Fact Check, label\"]]\n",
        "df_label1 = labels_df[[\"Source\",\"factLabel\",\"bias_satire_conspiracy_reputation\"]]\n",
        "df_label1"
      ],
      "execution_count": 0,
      "outputs": [
        {
          "output_type": "execute_result",
          "data": {
            "text/html": [
              "<div>\n",
              "<style scoped>\n",
              "    .dataframe tbody tr th:only-of-type {\n",
              "        vertical-align: middle;\n",
              "    }\n",
              "\n",
              "    .dataframe tbody tr th {\n",
              "        vertical-align: top;\n",
              "    }\n",
              "\n",
              "    .dataframe thead th {\n",
              "        text-align: right;\n",
              "    }\n",
              "</style>\n",
              "<table border=\"1\" class=\"dataframe\">\n",
              "  <thead>\n",
              "    <tr style=\"text-align: right;\">\n",
              "      <th></th>\n",
              "      <th>Source</th>\n",
              "      <th>factLabel</th>\n",
              "      <th>bias_satire_conspiracy_reputation</th>\n",
              "    </tr>\n",
              "  </thead>\n",
              "  <tbody>\n",
              "    <tr>\n",
              "      <th>0</th>\n",
              "      <td>21stCenturyWire</td>\n",
              "      <td>3.0</td>\n",
              "      <td>conspiracy_pseudoscience</td>\n",
              "    </tr>\n",
              "    <tr>\n",
              "      <th>1</th>\n",
              "      <td>ABC News</td>\n",
              "      <td>4.0</td>\n",
              "      <td>left_center_bias</td>\n",
              "    </tr>\n",
              "    <tr>\n",
              "      <th>2</th>\n",
              "      <td>AMERICAblog News</td>\n",
              "      <td>NaN</td>\n",
              "      <td>NaN</td>\n",
              "    </tr>\n",
              "    <tr>\n",
              "      <th>3</th>\n",
              "      <td>Activist Post</td>\n",
              "      <td>2.0</td>\n",
              "      <td>conspiracy_pseudoscience</td>\n",
              "    </tr>\n",
              "    <tr>\n",
              "      <th>4</th>\n",
              "      <td>Addicting Info</td>\n",
              "      <td>3.0</td>\n",
              "      <td>left_bias</td>\n",
              "    </tr>\n",
              "    <tr>\n",
              "      <th>...</th>\n",
              "      <td>...</td>\n",
              "      <td>...</td>\n",
              "      <td>...</td>\n",
              "    </tr>\n",
              "    <tr>\n",
              "      <th>189</th>\n",
              "      <td>iPolitics</td>\n",
              "      <td>4.0</td>\n",
              "      <td>left_center_bias</td>\n",
              "    </tr>\n",
              "    <tr>\n",
              "      <th>190</th>\n",
              "      <td>oann</td>\n",
              "      <td>NaN</td>\n",
              "      <td>NaN</td>\n",
              "    </tr>\n",
              "    <tr>\n",
              "      <th>191</th>\n",
              "      <td>rferl</td>\n",
              "      <td>NaN</td>\n",
              "      <td>NaN</td>\n",
              "    </tr>\n",
              "    <tr>\n",
              "      <th>192</th>\n",
              "      <td>sott.net</td>\n",
              "      <td>3.0</td>\n",
              "      <td>conspiracy_pseudoscience</td>\n",
              "    </tr>\n",
              "    <tr>\n",
              "      <th>193</th>\n",
              "      <td>theRussophileorg</td>\n",
              "      <td>NaN</td>\n",
              "      <td>NaN</td>\n",
              "    </tr>\n",
              "  </tbody>\n",
              "</table>\n",
              "<p>194 rows × 3 columns</p>\n",
              "</div>"
            ],
            "text/plain": [
              "               Source  factLabel bias_satire_conspiracy_reputation\n",
              "0     21stCenturyWire        3.0          conspiracy_pseudoscience\n",
              "1            ABC News        4.0                  left_center_bias\n",
              "2    AMERICAblog News        NaN                               NaN\n",
              "3       Activist Post        2.0          conspiracy_pseudoscience\n",
              "4      Addicting Info        3.0                         left_bias\n",
              "..                ...        ...                               ...\n",
              "189         iPolitics        4.0                  left_center_bias\n",
              "190              oann        NaN                               NaN\n",
              "191             rferl        NaN                               NaN\n",
              "192          sott.net        3.0          conspiracy_pseudoscience\n",
              "193  theRussophileorg        NaN                               NaN\n",
              "\n",
              "[194 rows x 3 columns]"
            ]
          },
          "metadata": {
            "tags": []
          },
          "execution_count": 55
        }
      ]
    },
    {
      "cell_type": "markdown",
      "metadata": {
        "id": "8gM51Ujj2C-u",
        "colab_type": "text"
      },
      "source": [
        "## **Checking for null values in the dataset.**"
      ]
    },
    {
      "cell_type": "code",
      "metadata": {
        "id": "tUR3nBQbH1f7",
        "colab_type": "code",
        "outputId": "df480844-8f25-46ba-defe-741f93a10427",
        "colab": {
          "base_uri": "https://localhost:8080/",
          "height": 88
        }
      },
      "source": [
        "df_label1.isnull().sum()"
      ],
      "execution_count": 0,
      "outputs": [
        {
          "output_type": "execute_result",
          "data": {
            "text/plain": [
              "Source                                0\n",
              "factLabel                            82\n",
              "bias_satire_conspiracy_reputation    59\n",
              "dtype: int64"
            ]
          },
          "metadata": {
            "tags": []
          },
          "execution_count": 56
        }
      ]
    },
    {
      "cell_type": "markdown",
      "metadata": {
        "id": "AuqU6N-42IrW",
        "colab_type": "text"
      },
      "source": [
        "\n",
        "**Replacing all the NaN values in the factLabel and bias column.**"
      ]
    },
    {
      "cell_type": "code",
      "metadata": {
        "id": "TG73HWFPJHrg",
        "colab_type": "code",
        "outputId": "28cde35a-4beb-4c79-cfac-613340252e4d",
        "colab": {
          "base_uri": "https://localhost:8080/",
          "height": 250
        }
      },
      "source": [
        "# df_label['label'].fillna('nolabel',inplace=True)\n",
        "df_label1['factLabel'] = df_label1['factLabel'].replace(np.nan, 0.0)\n",
        "df_label1['bias_satire_conspiracy_reputation'] = df_label1['bias_satire_conspiracy_reputation'].replace(np.nan, \"nolabel\")"
      ],
      "execution_count": 0,
      "outputs": [
        {
          "output_type": "stream",
          "text": [
            "/usr/local/lib/python3.6/dist-packages/ipykernel_launcher.py:1: SettingWithCopyWarning: \n",
            "A value is trying to be set on a copy of a slice from a DataFrame.\n",
            "Try using .loc[row_indexer,col_indexer] = value instead\n",
            "\n",
            "See the caveats in the documentation: http://pandas.pydata.org/pandas-docs/stable/user_guide/indexing.html#returning-a-view-versus-a-copy\n",
            "  \"\"\"Entry point for launching an IPython kernel.\n",
            "/usr/local/lib/python3.6/dist-packages/ipykernel_launcher.py:2: SettingWithCopyWarning: \n",
            "A value is trying to be set on a copy of a slice from a DataFrame.\n",
            "Try using .loc[row_indexer,col_indexer] = value instead\n",
            "\n",
            "See the caveats in the documentation: http://pandas.pydata.org/pandas-docs/stable/user_guide/indexing.html#returning-a-view-versus-a-copy\n",
            "  \n"
          ],
          "name": "stderr"
        }
      ]
    },
    {
      "cell_type": "code",
      "metadata": {
        "id": "LtZwbvAaJRzx",
        "colab_type": "code",
        "outputId": "4e85fb97-2f14-4120-b2ec-edec0d062fa6",
        "colab": {
          "base_uri": "https://localhost:8080/",
          "height": 88
        }
      },
      "source": [
        "df_label1.isnull().sum()"
      ],
      "execution_count": 0,
      "outputs": [
        {
          "output_type": "execute_result",
          "data": {
            "text/plain": [
              "Source                               0\n",
              "factLabel                            0\n",
              "bias_satire_conspiracy_reputation    0\n",
              "dtype: int64"
            ]
          },
          "metadata": {
            "tags": []
          },
          "execution_count": 58
        }
      ]
    },
    {
      "cell_type": "code",
      "metadata": {
        "id": "Cq6jT2P0JVH0",
        "colab_type": "code",
        "outputId": "051c1989-d5d1-4dd6-ecce-48a07bc2503a",
        "colab": {
          "base_uri": "https://localhost:8080/",
          "height": 411
        }
      },
      "source": [
        "df_label1"
      ],
      "execution_count": 0,
      "outputs": [
        {
          "output_type": "execute_result",
          "data": {
            "text/html": [
              "<div>\n",
              "<style scoped>\n",
              "    .dataframe tbody tr th:only-of-type {\n",
              "        vertical-align: middle;\n",
              "    }\n",
              "\n",
              "    .dataframe tbody tr th {\n",
              "        vertical-align: top;\n",
              "    }\n",
              "\n",
              "    .dataframe thead th {\n",
              "        text-align: right;\n",
              "    }\n",
              "</style>\n",
              "<table border=\"1\" class=\"dataframe\">\n",
              "  <thead>\n",
              "    <tr style=\"text-align: right;\">\n",
              "      <th></th>\n",
              "      <th>Source</th>\n",
              "      <th>factLabel</th>\n",
              "      <th>bias_satire_conspiracy_reputation</th>\n",
              "    </tr>\n",
              "  </thead>\n",
              "  <tbody>\n",
              "    <tr>\n",
              "      <th>0</th>\n",
              "      <td>21stCenturyWire</td>\n",
              "      <td>3.0</td>\n",
              "      <td>conspiracy_pseudoscience</td>\n",
              "    </tr>\n",
              "    <tr>\n",
              "      <th>1</th>\n",
              "      <td>ABC News</td>\n",
              "      <td>4.0</td>\n",
              "      <td>left_center_bias</td>\n",
              "    </tr>\n",
              "    <tr>\n",
              "      <th>2</th>\n",
              "      <td>AMERICAblog News</td>\n",
              "      <td>0.0</td>\n",
              "      <td>nolabel</td>\n",
              "    </tr>\n",
              "    <tr>\n",
              "      <th>3</th>\n",
              "      <td>Activist Post</td>\n",
              "      <td>2.0</td>\n",
              "      <td>conspiracy_pseudoscience</td>\n",
              "    </tr>\n",
              "    <tr>\n",
              "      <th>4</th>\n",
              "      <td>Addicting Info</td>\n",
              "      <td>3.0</td>\n",
              "      <td>left_bias</td>\n",
              "    </tr>\n",
              "    <tr>\n",
              "      <th>...</th>\n",
              "      <td>...</td>\n",
              "      <td>...</td>\n",
              "      <td>...</td>\n",
              "    </tr>\n",
              "    <tr>\n",
              "      <th>189</th>\n",
              "      <td>iPolitics</td>\n",
              "      <td>4.0</td>\n",
              "      <td>left_center_bias</td>\n",
              "    </tr>\n",
              "    <tr>\n",
              "      <th>190</th>\n",
              "      <td>oann</td>\n",
              "      <td>0.0</td>\n",
              "      <td>nolabel</td>\n",
              "    </tr>\n",
              "    <tr>\n",
              "      <th>191</th>\n",
              "      <td>rferl</td>\n",
              "      <td>0.0</td>\n",
              "      <td>nolabel</td>\n",
              "    </tr>\n",
              "    <tr>\n",
              "      <th>192</th>\n",
              "      <td>sott.net</td>\n",
              "      <td>3.0</td>\n",
              "      <td>conspiracy_pseudoscience</td>\n",
              "    </tr>\n",
              "    <tr>\n",
              "      <th>193</th>\n",
              "      <td>theRussophileorg</td>\n",
              "      <td>0.0</td>\n",
              "      <td>nolabel</td>\n",
              "    </tr>\n",
              "  </tbody>\n",
              "</table>\n",
              "<p>194 rows × 3 columns</p>\n",
              "</div>"
            ],
            "text/plain": [
              "               Source  factLabel bias_satire_conspiracy_reputation\n",
              "0     21stCenturyWire        3.0          conspiracy_pseudoscience\n",
              "1            ABC News        4.0                  left_center_bias\n",
              "2    AMERICAblog News        0.0                           nolabel\n",
              "3       Activist Post        2.0          conspiracy_pseudoscience\n",
              "4      Addicting Info        3.0                         left_bias\n",
              "..                ...        ...                               ...\n",
              "189         iPolitics        4.0                  left_center_bias\n",
              "190              oann        0.0                           nolabel\n",
              "191             rferl        0.0                           nolabel\n",
              "192          sott.net        3.0          conspiracy_pseudoscience\n",
              "193  theRussophileorg        0.0                           nolabel\n",
              "\n",
              "[194 rows x 3 columns]"
            ]
          },
          "metadata": {
            "tags": []
          },
          "execution_count": 59
        }
      ]
    },
    {
      "cell_type": "markdown",
      "metadata": {
        "id": "QHqMpUgo2RA_",
        "colab_type": "text"
      },
      "source": [
        "## **Printing the unique values of Factlabel**"
      ]
    },
    {
      "cell_type": "code",
      "metadata": {
        "id": "aeLjWi0sJgav",
        "colab_type": "code",
        "outputId": "001d718c-a209-42db-acbe-046eb9e7dd91",
        "colab": {
          "base_uri": "https://localhost:8080/",
          "height": 35
        }
      },
      "source": [
        "df_label1.factLabel.unique()"
      ],
      "execution_count": 0,
      "outputs": [
        {
          "output_type": "execute_result",
          "data": {
            "text/plain": [
              "array([3., 4., 0., 2., 1., 5.])"
            ]
          },
          "metadata": {
            "tags": []
          },
          "execution_count": 60
        }
      ]
    },
    {
      "cell_type": "markdown",
      "metadata": {
        "id": "OScZkZQw2WEg",
        "colab_type": "text"
      },
      "source": [
        "**Defining the function to Encode the Factlable into three categories. Adding the encoded label to the dataset.**"
      ]
    },
    {
      "cell_type": "code",
      "metadata": {
        "id": "OgcjMJgEJpOO",
        "colab_type": "code",
        "colab": {}
      },
      "source": [
        "true_labels = ['4.0', '5.0']\n",
        "false_labels = ['1.0', '2.0']\n",
        "neutral_nolabels = ['0.0', '3.0']\n",
        "def simplify_label(input_label):\n",
        "    if input_label in true_labels:\n",
        "        return 1\n",
        "    elif input_label in false_labels:\n",
        "        return 0\n",
        "    else:\n",
        "        return 2   "
      ],
      "execution_count": 0,
      "outputs": []
    },
    {
      "cell_type": "code",
      "metadata": {
        "id": "x5TUa8guKke7",
        "colab_type": "code",
        "outputId": "84c8eae0-71d4-43c2-ff9d-f14f9df084ce",
        "colab": {
          "base_uri": "https://localhost:8080/",
          "height": 144
        }
      },
      "source": [
        "df_label1[\"encoded_FactLabel\"] = df_label1.apply(lambda row: simplify_label(row['factLabel']), axis=1)"
      ],
      "execution_count": 0,
      "outputs": [
        {
          "output_type": "stream",
          "text": [
            "/usr/local/lib/python3.6/dist-packages/ipykernel_launcher.py:1: SettingWithCopyWarning: \n",
            "A value is trying to be set on a copy of a slice from a DataFrame.\n",
            "Try using .loc[row_indexer,col_indexer] = value instead\n",
            "\n",
            "See the caveats in the documentation: http://pandas.pydata.org/pandas-docs/stable/user_guide/indexing.html#returning-a-view-versus-a-copy\n",
            "  \"\"\"Entry point for launching an IPython kernel.\n"
          ],
          "name": "stderr"
        }
      ]
    },
    {
      "cell_type": "code",
      "metadata": {
        "id": "_JtZMb3FLbpD",
        "colab_type": "code",
        "outputId": "85aafba0-8532-491b-fb37-bf8e5a64e56b",
        "colab": {
          "base_uri": "https://localhost:8080/",
          "height": 411
        }
      },
      "source": [
        "df_label1"
      ],
      "execution_count": 0,
      "outputs": [
        {
          "output_type": "execute_result",
          "data": {
            "text/html": [
              "<div>\n",
              "<style scoped>\n",
              "    .dataframe tbody tr th:only-of-type {\n",
              "        vertical-align: middle;\n",
              "    }\n",
              "\n",
              "    .dataframe tbody tr th {\n",
              "        vertical-align: top;\n",
              "    }\n",
              "\n",
              "    .dataframe thead th {\n",
              "        text-align: right;\n",
              "    }\n",
              "</style>\n",
              "<table border=\"1\" class=\"dataframe\">\n",
              "  <thead>\n",
              "    <tr style=\"text-align: right;\">\n",
              "      <th></th>\n",
              "      <th>Source</th>\n",
              "      <th>factLabel</th>\n",
              "      <th>bias_satire_conspiracy_reputation</th>\n",
              "      <th>encoded_FactLabel</th>\n",
              "    </tr>\n",
              "  </thead>\n",
              "  <tbody>\n",
              "    <tr>\n",
              "      <th>0</th>\n",
              "      <td>21stCenturyWire</td>\n",
              "      <td>3.0</td>\n",
              "      <td>conspiracy_pseudoscience</td>\n",
              "      <td>2</td>\n",
              "    </tr>\n",
              "    <tr>\n",
              "      <th>1</th>\n",
              "      <td>ABC News</td>\n",
              "      <td>4.0</td>\n",
              "      <td>left_center_bias</td>\n",
              "      <td>2</td>\n",
              "    </tr>\n",
              "    <tr>\n",
              "      <th>2</th>\n",
              "      <td>AMERICAblog News</td>\n",
              "      <td>0.0</td>\n",
              "      <td>nolabel</td>\n",
              "      <td>2</td>\n",
              "    </tr>\n",
              "    <tr>\n",
              "      <th>3</th>\n",
              "      <td>Activist Post</td>\n",
              "      <td>2.0</td>\n",
              "      <td>conspiracy_pseudoscience</td>\n",
              "      <td>2</td>\n",
              "    </tr>\n",
              "    <tr>\n",
              "      <th>4</th>\n",
              "      <td>Addicting Info</td>\n",
              "      <td>3.0</td>\n",
              "      <td>left_bias</td>\n",
              "      <td>2</td>\n",
              "    </tr>\n",
              "    <tr>\n",
              "      <th>...</th>\n",
              "      <td>...</td>\n",
              "      <td>...</td>\n",
              "      <td>...</td>\n",
              "      <td>...</td>\n",
              "    </tr>\n",
              "    <tr>\n",
              "      <th>189</th>\n",
              "      <td>iPolitics</td>\n",
              "      <td>4.0</td>\n",
              "      <td>left_center_bias</td>\n",
              "      <td>2</td>\n",
              "    </tr>\n",
              "    <tr>\n",
              "      <th>190</th>\n",
              "      <td>oann</td>\n",
              "      <td>0.0</td>\n",
              "      <td>nolabel</td>\n",
              "      <td>2</td>\n",
              "    </tr>\n",
              "    <tr>\n",
              "      <th>191</th>\n",
              "      <td>rferl</td>\n",
              "      <td>0.0</td>\n",
              "      <td>nolabel</td>\n",
              "      <td>2</td>\n",
              "    </tr>\n",
              "    <tr>\n",
              "      <th>192</th>\n",
              "      <td>sott.net</td>\n",
              "      <td>3.0</td>\n",
              "      <td>conspiracy_pseudoscience</td>\n",
              "      <td>2</td>\n",
              "    </tr>\n",
              "    <tr>\n",
              "      <th>193</th>\n",
              "      <td>theRussophileorg</td>\n",
              "      <td>0.0</td>\n",
              "      <td>nolabel</td>\n",
              "      <td>2</td>\n",
              "    </tr>\n",
              "  </tbody>\n",
              "</table>\n",
              "<p>194 rows × 4 columns</p>\n",
              "</div>"
            ],
            "text/plain": [
              "               Source  ...  encoded_FactLabel\n",
              "0     21stCenturyWire  ...                  2\n",
              "1            ABC News  ...                  2\n",
              "2    AMERICAblog News  ...                  2\n",
              "3       Activist Post  ...                  2\n",
              "4      Addicting Info  ...                  2\n",
              "..                ...  ...                ...\n",
              "189         iPolitics  ...                  2\n",
              "190              oann  ...                  2\n",
              "191             rferl  ...                  2\n",
              "192          sott.net  ...                  2\n",
              "193  theRussophileorg  ...                  2\n",
              "\n",
              "[194 rows x 4 columns]"
            ]
          },
          "metadata": {
            "tags": []
          },
          "execution_count": 63
        }
      ]
    },
    {
      "cell_type": "markdown",
      "metadata": {
        "id": "A2vSy2742iov",
        "colab_type": "text"
      },
      "source": [
        "## **Dataset Amalgamation**"
      ]
    },
    {
      "cell_type": "code",
      "metadata": {
        "id": "Ucv078XEXTaf",
        "colab_type": "code",
        "outputId": "5a69cc56-b832-4524-f23f-fda3e6da688c",
        "colab": {
          "base_uri": "https://localhost:8080/",
          "height": 1000
        }
      },
      "source": [
        "df_label1.rename(columns = {'Source':'source'}, inplace = True) \n",
        "df_merge_col1 = pd.merge(dfFinal, df_label1, on='source')\n",
        "\n",
        "df_merge_col1"
      ],
      "execution_count": 0,
      "outputs": [
        {
          "output_type": "stream",
          "text": [
            "/usr/local/lib/python3.6/dist-packages/pandas/core/frame.py:4238: SettingWithCopyWarning: \n",
            "A value is trying to be set on a copy of a slice from a DataFrame\n",
            "\n",
            "See the caveats in the documentation: http://pandas.pydata.org/pandas-docs/stable/user_guide/indexing.html#returning-a-view-versus-a-copy\n",
            "  return super().rename(**kwargs)\n"
          ],
          "name": "stderr"
        },
        {
          "output_type": "execute_result",
          "data": {
            "text/html": [
              "<div>\n",
              "<style scoped>\n",
              "    .dataframe tbody tr th:only-of-type {\n",
              "        vertical-align: middle;\n",
              "    }\n",
              "\n",
              "    .dataframe tbody tr th {\n",
              "        vertical-align: top;\n",
              "    }\n",
              "\n",
              "    .dataframe thead th {\n",
              "        text-align: right;\n",
              "    }\n",
              "</style>\n",
              "<table border=\"1\" class=\"dataframe\">\n",
              "  <thead>\n",
              "    <tr style=\"text-align: right;\">\n",
              "      <th></th>\n",
              "      <th>date</th>\n",
              "      <th>source</th>\n",
              "      <th>name</th>\n",
              "      <th>content</th>\n",
              "      <th>length</th>\n",
              "      <th>factLabel</th>\n",
              "      <th>bias_satire_conspiracy_reputation</th>\n",
              "      <th>encoded_FactLabel</th>\n",
              "    </tr>\n",
              "  </thead>\n",
              "  <tbody>\n",
              "    <tr>\n",
              "      <th>0</th>\n",
              "      <td>2018-07-16</td>\n",
              "      <td>21stCenturyWire</td>\n",
              "      <td>Israel Attacks Iranian-Linked Airbase in Alepp...</td>\n",
              "      <td>This latest report indicates Israel used its I...</td>\n",
              "      <td>1388</td>\n",
              "      <td>3.0</td>\n",
              "      <td>conspiracy_pseudoscience</td>\n",
              "      <td>2</td>\n",
              "    </tr>\n",
              "    <tr>\n",
              "      <th>1</th>\n",
              "      <td>2018-07-16</td>\n",
              "      <td>21stCenturyWire</td>\n",
              "      <td>Laurel Canyon the CIA Counter Culture Dave McG...</td>\n",
              "      <td>The United States is a pop cultural superpower...</td>\n",
              "      <td>1448</td>\n",
              "      <td>3.0</td>\n",
              "      <td>conspiracy_pseudoscience</td>\n",
              "      <td>2</td>\n",
              "    </tr>\n",
              "    <tr>\n",
              "      <th>2</th>\n",
              "      <td>2018-07-16</td>\n",
              "      <td>21stCenturyWire</td>\n",
              "      <td>PURELY POLITICAL Dont Expect Any Real Evidence...</td>\n",
              "      <td>As the mainstream press tries to get a grip on...</td>\n",
              "      <td>7384</td>\n",
              "      <td>3.0</td>\n",
              "      <td>conspiracy_pseudoscience</td>\n",
              "      <td>2</td>\n",
              "    </tr>\n",
              "    <tr>\n",
              "      <th>3</th>\n",
              "      <td>2018-07-17</td>\n",
              "      <td>21stCenturyWire</td>\n",
              "      <td>Iran Files Lawsuit Against US in International...</td>\n",
              "      <td>Iran has filed a lawsuit alleging the US viola...</td>\n",
              "      <td>2897</td>\n",
              "      <td>3.0</td>\n",
              "      <td>conspiracy_pseudoscience</td>\n",
              "      <td>2</td>\n",
              "    </tr>\n",
              "    <tr>\n",
              "      <th>4</th>\n",
              "      <td>2018-07-17</td>\n",
              "      <td>21stCenturyWire</td>\n",
              "      <td>No Exemptions for EU US Wants unprecedented fi...</td>\n",
              "      <td>At some point along their quest for regime cha...</td>\n",
              "      <td>1355</td>\n",
              "      <td>3.0</td>\n",
              "      <td>conspiracy_pseudoscience</td>\n",
              "      <td>2</td>\n",
              "    </tr>\n",
              "    <tr>\n",
              "      <th>...</th>\n",
              "      <td>...</td>\n",
              "      <td>...</td>\n",
              "      <td>...</td>\n",
              "      <td>...</td>\n",
              "      <td>...</td>\n",
              "      <td>...</td>\n",
              "      <td>...</td>\n",
              "      <td>...</td>\n",
              "    </tr>\n",
              "    <tr>\n",
              "      <th>18066</th>\n",
              "      <td>2018-08-06</td>\n",
              "      <td>theRussophileorg</td>\n",
              "      <td>NATO to Set Up Its First Air Base in Western B...</td>\n",
              "      <td>This\\r\\n\\r\\n[post](https://www.strategic-cultu...</td>\n",
              "      <td>9599</td>\n",
              "      <td>0.0</td>\n",
              "      <td>nolabel</td>\n",
              "      <td>2</td>\n",
              "    </tr>\n",
              "    <tr>\n",
              "      <th>18067</th>\n",
              "      <td>2018-08-06</td>\n",
              "      <td>theRussophileorg</td>\n",
              "      <td>NBCs Chuck Todd Trumps Dehumanizing Tweet on P...</td>\n",
              "      <td>This\\r\\n\\r\\n[post](https://truepundit.com/nbcs...</td>\n",
              "      <td>3240</td>\n",
              "      <td>0.0</td>\n",
              "      <td>nolabel</td>\n",
              "      <td>2</td>\n",
              "    </tr>\n",
              "    <tr>\n",
              "      <th>18068</th>\n",
              "      <td>2018-08-06</td>\n",
              "      <td>theRussophileorg</td>\n",
              "      <td>Naya Pakistan New Pakistan Should Apply to Joi...</td>\n",
              "      <td>This\\r\\n\\r\\n[post](https://www.globalresearch....</td>\n",
              "      <td>4102</td>\n",
              "      <td>0.0</td>\n",
              "      <td>nolabel</td>\n",
              "      <td>2</td>\n",
              "    </tr>\n",
              "    <tr>\n",
              "      <th>18069</th>\n",
              "      <td>2018-08-06</td>\n",
              "      <td>theRussophileorg</td>\n",
              "      <td>Naya Pakistan Should Apply To Join The Eurasia...</td>\n",
              "      <td>This\\r\\n\\r\\n[post](https://www.eurasiafuture.c...</td>\n",
              "      <td>3900</td>\n",
              "      <td>0.0</td>\n",
              "      <td>nolabel</td>\n",
              "      <td>2</td>\n",
              "    </tr>\n",
              "    <tr>\n",
              "      <th>18070</th>\n",
              "      <td>2018-08-06</td>\n",
              "      <td>theRussophileorg</td>\n",
              "      <td>No more vodka for young Russians</td>\n",
              "      <td>It has already been two weeks since the start ...</td>\n",
              "      <td>5579</td>\n",
              "      <td>0.0</td>\n",
              "      <td>nolabel</td>\n",
              "      <td>2</td>\n",
              "    </tr>\n",
              "  </tbody>\n",
              "</table>\n",
              "<p>18071 rows × 8 columns</p>\n",
              "</div>"
            ],
            "text/plain": [
              "             date  ... encoded_FactLabel\n",
              "0      2018-07-16  ...                 2\n",
              "1      2018-07-16  ...                 2\n",
              "2      2018-07-16  ...                 2\n",
              "3      2018-07-17  ...                 2\n",
              "4      2018-07-17  ...                 2\n",
              "...           ...  ...               ...\n",
              "18066  2018-08-06  ...                 2\n",
              "18067  2018-08-06  ...                 2\n",
              "18068  2018-08-06  ...                 2\n",
              "18069  2018-08-06  ...                 2\n",
              "18070  2018-08-06  ...                 2\n",
              "\n",
              "[18071 rows x 8 columns]"
            ]
          },
          "metadata": {
            "tags": []
          },
          "execution_count": 64
        }
      ]
    },
    {
      "cell_type": "markdown",
      "metadata": {
        "id": "dne2K4Mo2ojz",
        "colab_type": "text"
      },
      "source": [
        "# **5.4 Data Cleansing**"
      ]
    },
    {
      "cell_type": "markdown",
      "metadata": {
        "id": "4yoPDWym2rEE",
        "colab_type": "text"
      },
      "source": [
        "## **Checking NaN values in the merged dataset**"
      ]
    },
    {
      "cell_type": "code",
      "metadata": {
        "id": "ZzQn_OtuX34Q",
        "colab_type": "code",
        "outputId": "04a09713-fb15-4147-f88d-2cecc2e7909d",
        "colab": {
          "base_uri": "https://localhost:8080/",
          "height": 177
        }
      },
      "source": [
        "df_merge_col1.isnull().sum()"
      ],
      "execution_count": 0,
      "outputs": [
        {
          "output_type": "execute_result",
          "data": {
            "text/plain": [
              "date                                 0\n",
              "source                               0\n",
              "name                                 0\n",
              "content                              0\n",
              "length                               0\n",
              "factLabel                            0\n",
              "bias_satire_conspiracy_reputation    0\n",
              "encoded_FactLabel                    0\n",
              "dtype: int64"
            ]
          },
          "metadata": {
            "tags": []
          },
          "execution_count": 65
        }
      ]
    },
    {
      "cell_type": "markdown",
      "metadata": {
        "id": "yE9LUCAd2wD1",
        "colab_type": "text"
      },
      "source": [
        "## **Renaming the name column to statement**"
      ]
    },
    {
      "cell_type": "code",
      "metadata": {
        "id": "khMkQamrY5A-",
        "colab_type": "code",
        "outputId": "e6393380-2231-4fa7-8511-9d5afa3918fd",
        "colab": {
          "base_uri": "https://localhost:8080/",
          "height": 993
        }
      },
      "source": [
        "df_merge_col1.rename(columns = {'name':'statement'}, inplace = True) \n",
        "df_merge_col1"
      ],
      "execution_count": 0,
      "outputs": [
        {
          "output_type": "execute_result",
          "data": {
            "text/html": [
              "<div>\n",
              "<style scoped>\n",
              "    .dataframe tbody tr th:only-of-type {\n",
              "        vertical-align: middle;\n",
              "    }\n",
              "\n",
              "    .dataframe tbody tr th {\n",
              "        vertical-align: top;\n",
              "    }\n",
              "\n",
              "    .dataframe thead th {\n",
              "        text-align: right;\n",
              "    }\n",
              "</style>\n",
              "<table border=\"1\" class=\"dataframe\">\n",
              "  <thead>\n",
              "    <tr style=\"text-align: right;\">\n",
              "      <th></th>\n",
              "      <th>date</th>\n",
              "      <th>source</th>\n",
              "      <th>statement</th>\n",
              "      <th>content</th>\n",
              "      <th>length</th>\n",
              "      <th>factLabel</th>\n",
              "      <th>bias_satire_conspiracy_reputation</th>\n",
              "      <th>encoded_FactLabel</th>\n",
              "    </tr>\n",
              "  </thead>\n",
              "  <tbody>\n",
              "    <tr>\n",
              "      <th>0</th>\n",
              "      <td>2018-07-16</td>\n",
              "      <td>21stCenturyWire</td>\n",
              "      <td>Israel Attacks Iranian-Linked Airbase in Alepp...</td>\n",
              "      <td>This latest report indicates Israel used its I...</td>\n",
              "      <td>1388</td>\n",
              "      <td>3.0</td>\n",
              "      <td>conspiracy_pseudoscience</td>\n",
              "      <td>2</td>\n",
              "    </tr>\n",
              "    <tr>\n",
              "      <th>1</th>\n",
              "      <td>2018-07-16</td>\n",
              "      <td>21stCenturyWire</td>\n",
              "      <td>Laurel Canyon the CIA Counter Culture Dave McG...</td>\n",
              "      <td>The United States is a pop cultural superpower...</td>\n",
              "      <td>1448</td>\n",
              "      <td>3.0</td>\n",
              "      <td>conspiracy_pseudoscience</td>\n",
              "      <td>2</td>\n",
              "    </tr>\n",
              "    <tr>\n",
              "      <th>2</th>\n",
              "      <td>2018-07-16</td>\n",
              "      <td>21stCenturyWire</td>\n",
              "      <td>PURELY POLITICAL Dont Expect Any Real Evidence...</td>\n",
              "      <td>As the mainstream press tries to get a grip on...</td>\n",
              "      <td>7384</td>\n",
              "      <td>3.0</td>\n",
              "      <td>conspiracy_pseudoscience</td>\n",
              "      <td>2</td>\n",
              "    </tr>\n",
              "    <tr>\n",
              "      <th>3</th>\n",
              "      <td>2018-07-17</td>\n",
              "      <td>21stCenturyWire</td>\n",
              "      <td>Iran Files Lawsuit Against US in International...</td>\n",
              "      <td>Iran has filed a lawsuit alleging the US viola...</td>\n",
              "      <td>2897</td>\n",
              "      <td>3.0</td>\n",
              "      <td>conspiracy_pseudoscience</td>\n",
              "      <td>2</td>\n",
              "    </tr>\n",
              "    <tr>\n",
              "      <th>4</th>\n",
              "      <td>2018-07-17</td>\n",
              "      <td>21stCenturyWire</td>\n",
              "      <td>No Exemptions for EU US Wants unprecedented fi...</td>\n",
              "      <td>At some point along their quest for regime cha...</td>\n",
              "      <td>1355</td>\n",
              "      <td>3.0</td>\n",
              "      <td>conspiracy_pseudoscience</td>\n",
              "      <td>2</td>\n",
              "    </tr>\n",
              "    <tr>\n",
              "      <th>...</th>\n",
              "      <td>...</td>\n",
              "      <td>...</td>\n",
              "      <td>...</td>\n",
              "      <td>...</td>\n",
              "      <td>...</td>\n",
              "      <td>...</td>\n",
              "      <td>...</td>\n",
              "      <td>...</td>\n",
              "    </tr>\n",
              "    <tr>\n",
              "      <th>18066</th>\n",
              "      <td>2018-08-06</td>\n",
              "      <td>theRussophileorg</td>\n",
              "      <td>NATO to Set Up Its First Air Base in Western B...</td>\n",
              "      <td>This\\r\\n\\r\\n[post](https://www.strategic-cultu...</td>\n",
              "      <td>9599</td>\n",
              "      <td>0.0</td>\n",
              "      <td>nolabel</td>\n",
              "      <td>2</td>\n",
              "    </tr>\n",
              "    <tr>\n",
              "      <th>18067</th>\n",
              "      <td>2018-08-06</td>\n",
              "      <td>theRussophileorg</td>\n",
              "      <td>NBCs Chuck Todd Trumps Dehumanizing Tweet on P...</td>\n",
              "      <td>This\\r\\n\\r\\n[post](https://truepundit.com/nbcs...</td>\n",
              "      <td>3240</td>\n",
              "      <td>0.0</td>\n",
              "      <td>nolabel</td>\n",
              "      <td>2</td>\n",
              "    </tr>\n",
              "    <tr>\n",
              "      <th>18068</th>\n",
              "      <td>2018-08-06</td>\n",
              "      <td>theRussophileorg</td>\n",
              "      <td>Naya Pakistan New Pakistan Should Apply to Joi...</td>\n",
              "      <td>This\\r\\n\\r\\n[post](https://www.globalresearch....</td>\n",
              "      <td>4102</td>\n",
              "      <td>0.0</td>\n",
              "      <td>nolabel</td>\n",
              "      <td>2</td>\n",
              "    </tr>\n",
              "    <tr>\n",
              "      <th>18069</th>\n",
              "      <td>2018-08-06</td>\n",
              "      <td>theRussophileorg</td>\n",
              "      <td>Naya Pakistan Should Apply To Join The Eurasia...</td>\n",
              "      <td>This\\r\\n\\r\\n[post](https://www.eurasiafuture.c...</td>\n",
              "      <td>3900</td>\n",
              "      <td>0.0</td>\n",
              "      <td>nolabel</td>\n",
              "      <td>2</td>\n",
              "    </tr>\n",
              "    <tr>\n",
              "      <th>18070</th>\n",
              "      <td>2018-08-06</td>\n",
              "      <td>theRussophileorg</td>\n",
              "      <td>No more vodka for young Russians</td>\n",
              "      <td>It has already been two weeks since the start ...</td>\n",
              "      <td>5579</td>\n",
              "      <td>0.0</td>\n",
              "      <td>nolabel</td>\n",
              "      <td>2</td>\n",
              "    </tr>\n",
              "  </tbody>\n",
              "</table>\n",
              "<p>18071 rows × 8 columns</p>\n",
              "</div>"
            ],
            "text/plain": [
              "             date  ... encoded_FactLabel\n",
              "0      2018-07-16  ...                 2\n",
              "1      2018-07-16  ...                 2\n",
              "2      2018-07-16  ...                 2\n",
              "3      2018-07-17  ...                 2\n",
              "4      2018-07-17  ...                 2\n",
              "...           ...  ...               ...\n",
              "18066  2018-08-06  ...                 2\n",
              "18067  2018-08-06  ...                 2\n",
              "18068  2018-08-06  ...                 2\n",
              "18069  2018-08-06  ...                 2\n",
              "18070  2018-08-06  ...                 2\n",
              "\n",
              "[18071 rows x 8 columns]"
            ]
          },
          "metadata": {
            "tags": []
          },
          "execution_count": 66
        }
      ]
    },
    {
      "cell_type": "markdown",
      "metadata": {
        "id": "tbtdSMHn23vj",
        "colab_type": "text"
      },
      "source": [
        "## **Saving the amalgamated dataset to the google drive.**"
      ]
    },
    {
      "cell_type": "code",
      "metadata": {
        "id": "37tJadEUNOI9",
        "colab_type": "code",
        "colab": {}
      },
      "source": [
        "df_merge_col1.to_csv('/content/drive/My Drive/AlternusVeraDataSets2019/FinalExam/Transformers/SnehalYeole/Datasets_NELA/Datasets/credibility_factchecks_NELA.csv')"
      ],
      "execution_count": 0,
      "outputs": []
    },
    {
      "cell_type": "markdown",
      "metadata": {
        "id": "ey_EKkq06_4z",
        "colab_type": "text"
      },
      "source": [
        "## **Conclusion:**\n",
        "\n",
        "The Data Preprocessing and Data Preparation on NELA dataset required analysis on the sources and articles from the dataset. There are several labels that are specific to a factor contributing in the determination of news fakeness or truthfulness. Choosing the appropriate label for the factor and amalagmating the NELA dataset with articles and labels dataset was a challenge as it required iterating the sources and articles and amalgamating the evenly distributed labels with NELA dataset. "
      ]
    }
  ]
}