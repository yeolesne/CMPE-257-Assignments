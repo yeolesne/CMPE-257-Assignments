{
  "nbformat": 4,
  "nbformat_minor": 0,
  "metadata": {
    "colab": {
      "name": "Transformers_Topic_Modeling_Cosine_Similarity.ipynb",
      "provenance": [],
      "collapsed_sections": []
    },
    "kernelspec": {
      "name": "python3",
      "display_name": "Python 3"
    }
  },
  "cells": [
    {
      "cell_type": "markdown",
      "metadata": {
        "id": "jjAIWGPb2ZMM",
        "colab_type": "text"
      },
      "source": [
        "## **Topic Naming using Cosine Similarity and Triangulation**"
      ]
    },
    {
      "cell_type": "markdown",
      "metadata": {
        "id": "aKaCUMNA20Hn",
        "colab_type": "text"
      },
      "source": [
        "**Team:** Transformers\n",
        "\n",
        "**Team Members:**\n",
        "\n",
        "Snehal Yeole (012548471)\n",
        "\n",
        "Poorva Agarwal (013770939)\n",
        "\n",
        "Amrutha Singh Balaji Singh (013778583)\n",
        "\n",
        "Anand Muralidhara (013752622)\n",
        "\n",
        "\n",
        "\n",
        "**Design Document:** https://drive.google.com/open?id=1HyKFBAzWEW9Eoa-x8wSOQNVVtDvH0BMz"
      ]
    },
    {
      "cell_type": "markdown",
      "metadata": {
        "id": "pdnjyhJshImJ",
        "colab_type": "text"
      },
      "source": [
        "### **Select documents/articles A1 and A2**"
      ]
    },
    {
      "cell_type": "markdown",
      "metadata": {
        "id": "0YF-ga0LUREL",
        "colab_type": "text"
      },
      "source": [
        "Two random documents/articles A1 and A2 are selected for this assignment. Article A1 explains about the Topic Modeling with sample example, and article A2 focuses on application of machine learning and NLP in the field of heathcare."
      ]
    },
    {
      "cell_type": "code",
      "metadata": {
        "id": "EPce3Gt6g4oJ",
        "colab_type": "code",
        "colab": {}
      },
      "source": [
        "article_A1 = \"Topic modelling can be described as a method for finding a group of words from a collection of documents that best represents the information in the collection. It can also be thought of as a form of text mining – a way to obtain recurring patterns of words in textual material.Intuitively, given that a document is about a particular topic, one would expect particular words to appear in the document more or less frequently: dog and bone will appear more often in documents about dogs, cat and meow will appear in documents about cats, and the and is will appear equally in both. A document typically concerns multiple topics in different proportions; thus, in a document that is 10% about cats and 90% about dogs, there would probably be about 9 times more dog words than cat words. The topics produced by topic modeling techniques are clusters of similar words. A topic model captures this intuition in a mathematical framework, which allows examining a set of documents and discovering, based on the statistics of the words in each, what the topics might be and what each document's balance of topics is.\"\n",
        "article_A2 = \"Using NLP and machine learning in healthcare to identify patients for a clinical trial is an exciting and moreover an essential use case. A few companies are now trying to resolve the challenges in this area using NLP engines for trial matching. With current advancements, it looks like NLP has the potential to automate trial matching and make it a seamless process.\""
      ],
      "execution_count": 0,
      "outputs": []
    },
    {
      "cell_type": "markdown",
      "metadata": {
        "id": "uXXM_Qbjhdne",
        "colab_type": "text"
      },
      "source": [
        "### **Tokenization**"
      ]
    },
    {
      "cell_type": "markdown",
      "metadata": {
        "id": "2mtzQYchVkal",
        "colab_type": "text"
      },
      "source": [
        "We will tokenize the sentences in a document/article using regular expressions tokenization. This splits the sentence into group of words, in this case, the words can be viewed as a token in a given sentence."
      ]
    },
    {
      "cell_type": "markdown",
      "metadata": {
        "id": "o8yYlW1T37vp",
        "colab_type": "text"
      },
      "source": [
        "**Apply Tokenization on article A1**"
      ]
    },
    {
      "cell_type": "markdown",
      "metadata": {
        "id": "66F0tUBxWtnY",
        "colab_type": "text"
      },
      "source": [
        "The first line of the code below creates an instance of RegexpTokenizer class. Second line converts the sentences in document A1 to lowercase and,the third line splits the text in A1 into tokens. The last line prints the output.  "
      ]
    },
    {
      "cell_type": "code",
      "metadata": {
        "id": "USa92kEfhgCx",
        "colab_type": "code",
        "outputId": "f0fa1a2a-dcd5-4abe-88cb-022e24d9f110",
        "colab": {
          "base_uri": "https://localhost:8080/",
          "height": 54
        }
      },
      "source": [
        "from nltk.tokenize import RegexpTokenizer\n",
        "tokenizer = RegexpTokenizer(r'\\w+')\n",
        "\n",
        "raw_document_A1 = article_A1.lower()\n",
        "tokens_article_A1 = tokenizer.tokenize(raw_document_A1)\n",
        "\n",
        "print(tokens_article_A1)"
      ],
      "execution_count": 0,
      "outputs": [
        {
          "output_type": "stream",
          "text": [
            "['topic', 'modelling', 'can', 'be', 'described', 'as', 'a', 'method', 'for', 'finding', 'a', 'group', 'of', 'words', 'from', 'a', 'collection', 'of', 'documents', 'that', 'best', 'represents', 'the', 'information', 'in', 'the', 'collection', 'it', 'can', 'also', 'be', 'thought', 'of', 'as', 'a', 'form', 'of', 'text', 'mining', 'a', 'way', 'to', 'obtain', 'recurring', 'patterns', 'of', 'words', 'in', 'textual', 'material', 'intuitively', 'given', 'that', 'a', 'document', 'is', 'about', 'a', 'particular', 'topic', 'one', 'would', 'expect', 'particular', 'words', 'to', 'appear', 'in', 'the', 'document', 'more', 'or', 'less', 'frequently', 'dog', 'and', 'bone', 'will', 'appear', 'more', 'often', 'in', 'documents', 'about', 'dogs', 'cat', 'and', 'meow', 'will', 'appear', 'in', 'documents', 'about', 'cats', 'and', 'the', 'and', 'is', 'will', 'appear', 'equally', 'in', 'both', 'a', 'document', 'typically', 'concerns', 'multiple', 'topics', 'in', 'different', 'proportions', 'thus', 'in', 'a', 'document', 'that', 'is', '10', 'about', 'cats', 'and', '90', 'about', 'dogs', 'there', 'would', 'probably', 'be', 'about', '9', 'times', 'more', 'dog', 'words', 'than', 'cat', 'words', 'the', 'topics', 'produced', 'by', 'topic', 'modeling', 'techniques', 'are', 'clusters', 'of', 'similar', 'words', 'a', 'topic', 'model', 'captures', 'this', 'intuition', 'in', 'a', 'mathematical', 'framework', 'which', 'allows', 'examining', 'a', 'set', 'of', 'documents', 'and', 'discovering', 'based', 'on', 'the', 'statistics', 'of', 'the', 'words', 'in', 'each', 'what', 'the', 'topics', 'might', 'be', 'and', 'what', 'each', 'document', 's', 'balance', 'of', 'topics', 'is']\n"
          ],
          "name": "stdout"
        }
      ]
    },
    {
      "cell_type": "markdown",
      "metadata": {
        "id": "REMKNsm74CFZ",
        "colab_type": "text"
      },
      "source": [
        "**Apply Tokenization on article A2**"
      ]
    },
    {
      "cell_type": "markdown",
      "metadata": {
        "id": "490lUcbwXs9T",
        "colab_type": "text"
      },
      "source": [
        "The first line of the code below converts the sentences in document A2 to lowercase, the second line splits the text in A2 into tokens and, the last line prints the output.  "
      ]
    },
    {
      "cell_type": "code",
      "metadata": {
        "id": "QAyaQm-UmDkK",
        "colab_type": "code",
        "outputId": "21801083-4b8c-43c9-8949-f036b27e3cde",
        "colab": {
          "base_uri": "https://localhost:8080/",
          "height": 54
        }
      },
      "source": [
        "raw_document_A2 = article_A2.lower()\n",
        "tokens_article_A2 = tokenizer.tokenize(raw_document_A2)\n",
        "\n",
        "print(tokens_article_A2)"
      ],
      "execution_count": 0,
      "outputs": [
        {
          "output_type": "stream",
          "text": [
            "['using', 'nlp', 'and', 'machine', 'learning', 'in', 'healthcare', 'to', 'identify', 'patients', 'for', 'a', 'clinical', 'trial', 'is', 'an', 'exciting', 'and', 'moreover', 'an', 'essential', 'use', 'case', 'a', 'few', 'companies', 'are', 'now', 'trying', 'to', 'resolve', 'the', 'challenges', 'in', 'this', 'area', 'using', 'nlp', 'engines', 'for', 'trial', 'matching', 'with', 'current', 'advancements', 'it', 'looks', 'like', 'nlp', 'has', 'the', 'potential', 'to', 'automate', 'trial', 'matching', 'and', 'make', 'it', 'a', 'seamless', 'process']\n"
          ],
          "name": "stdout"
        }
      ]
    },
    {
      "cell_type": "markdown",
      "metadata": {
        "id": "jeDoONZ5hy4F",
        "colab_type": "text"
      },
      "source": [
        "### **Remove Stop Words**"
      ]
    },
    {
      "cell_type": "markdown",
      "metadata": {
        "id": "jlSOkGeIYJ7o",
        "colab_type": "text"
      },
      "source": [
        "One of the major forms of text pre-processing in NLP is filtering out the useless data, and this useless words (data) in a document are referred to as stop words. \n",
        "\n",
        "**Examples for stop words are:** \"the\", \"a\", \"an\", \"in\", \"to\" etc."
      ]
    },
    {
      "cell_type": "markdown",
      "metadata": {
        "id": "sX9w_bNL4Qf7",
        "colab_type": "text"
      },
      "source": [
        "**Install the stop_words package**"
      ]
    },
    {
      "cell_type": "code",
      "metadata": {
        "id": "AlwtyEE6h2jL",
        "colab_type": "code",
        "outputId": "85fec024-0683-4456-daa7-d6d320446994",
        "colab": {
          "base_uri": "https://localhost:8080/",
          "height": 34
        }
      },
      "source": [
        "!pip install stop_words\n",
        "from stop_words import get_stop_words\n",
        "\n",
        "# create English stop words list\n",
        "stop_words = get_stop_words('en')"
      ],
      "execution_count": 0,
      "outputs": [
        {
          "output_type": "stream",
          "text": [
            "Requirement already satisfied: stop_words in /usr/local/lib/python3.6/dist-packages (2018.7.23)\n"
          ],
          "name": "stdout"
        }
      ]
    },
    {
      "cell_type": "markdown",
      "metadata": {
        "id": "iVAFRIKb4Ue0",
        "colab_type": "text"
      },
      "source": [
        "**Remove stop words from tokens in article A1**"
      ]
    },
    {
      "cell_type": "markdown",
      "metadata": {
        "id": "JLoqELd9ZIpQ",
        "colab_type": "text"
      },
      "source": [
        "The first line of the code below removes the English stop words from tokens in article A1 and the second line prints the new list called **'stopped_tokens_A1'**"
      ]
    },
    {
      "cell_type": "code",
      "metadata": {
        "id": "D0sX4KH_mTCT",
        "colab_type": "code",
        "outputId": "6f0ecc10-473c-452c-aca0-b312970495ac",
        "colab": {
          "base_uri": "https://localhost:8080/",
          "height": 54
        }
      },
      "source": [
        "# remove stop words from tokens\n",
        "stopwords_tokens_A1 = [i for i in tokens_article_A1 if not i in stop_words]\n",
        "\n",
        "print(stopwords_tokens_A1)"
      ],
      "execution_count": 0,
      "outputs": [
        {
          "output_type": "stream",
          "text": [
            "['topic', 'modelling', 'can', 'described', 'method', 'finding', 'group', 'words', 'collection', 'documents', 'best', 'represents', 'information', 'collection', 'can', 'also', 'thought', 'form', 'text', 'mining', 'way', 'obtain', 'recurring', 'patterns', 'words', 'textual', 'material', 'intuitively', 'given', 'document', 'particular', 'topic', 'one', 'expect', 'particular', 'words', 'appear', 'document', 'less', 'frequently', 'dog', 'bone', 'will', 'appear', 'often', 'documents', 'dogs', 'cat', 'meow', 'will', 'appear', 'documents', 'cats', 'will', 'appear', 'equally', 'document', 'typically', 'concerns', 'multiple', 'topics', 'different', 'proportions', 'thus', 'document', '10', 'cats', '90', 'dogs', 'probably', '9', 'times', 'dog', 'words', 'cat', 'words', 'topics', 'produced', 'topic', 'modeling', 'techniques', 'clusters', 'similar', 'words', 'topic', 'model', 'captures', 'intuition', 'mathematical', 'framework', 'allows', 'examining', 'set', 'documents', 'discovering', 'based', 'statistics', 'words', 'topics', 'might', 'document', 's', 'balance', 'topics']\n"
          ],
          "name": "stdout"
        }
      ]
    },
    {
      "cell_type": "markdown",
      "metadata": {
        "id": "X3Y0W3wV4eAf",
        "colab_type": "text"
      },
      "source": [
        "**Remove stop words from tokens in article A2**"
      ]
    },
    {
      "cell_type": "markdown",
      "metadata": {
        "id": "KjftdftHZuol",
        "colab_type": "text"
      },
      "source": [
        "The first line of the code below removes the English stop words from tokens in article A2 and the second line prints the new list called **'stopped_tokens_A2'**"
      ]
    },
    {
      "cell_type": "code",
      "metadata": {
        "id": "N5VnQCgBmaGE",
        "colab_type": "code",
        "outputId": "a02a0950-f8be-4fd1-c96f-9c3441226e0b",
        "colab": {
          "base_uri": "https://localhost:8080/",
          "height": 54
        }
      },
      "source": [
        "# remove stop words from tokens\n",
        "stopwords_tokens_A2 = [i for i in tokens_article_A2 if not i in stop_words]\n",
        "\n",
        "print(stopwords_tokens_A2)"
      ],
      "execution_count": 0,
      "outputs": [
        {
          "output_type": "stream",
          "text": [
            "['using', 'nlp', 'machine', 'learning', 'healthcare', 'identify', 'patients', 'clinical', 'trial', 'exciting', 'moreover', 'essential', 'use', 'case', 'companies', 'now', 'trying', 'resolve', 'challenges', 'area', 'using', 'nlp', 'engines', 'trial', 'matching', 'current', 'advancements', 'looks', 'like', 'nlp', 'potential', 'automate', 'trial', 'matching', 'make', 'seamless', 'process']\n"
          ],
          "name": "stdout"
        }
      ]
    },
    {
      "cell_type": "markdown",
      "metadata": {
        "id": "irsoEGzLiDfL",
        "colab_type": "text"
      },
      "source": [
        "### **Stemming**"
      ]
    },
    {
      "cell_type": "markdown",
      "metadata": {
        "id": "7X8bUW_saDw5",
        "colab_type": "text"
      },
      "source": [
        "Stemming is a **text normalization** technique in the field of Natural Language Processing that is used to prepare text, words, and documents for further processing. Stems are created by removing the suffixes or prefixes used with a word."
      ]
    },
    {
      "cell_type": "markdown",
      "metadata": {
        "id": "FdXxOIgV4nVP",
        "colab_type": "text"
      },
      "source": [
        "**Create an instance of class 'PorterStemmer'**"
      ]
    },
    {
      "cell_type": "code",
      "metadata": {
        "id": "yp9wE6SWiF-o",
        "colab_type": "code",
        "colab": {}
      },
      "source": [
        "from nltk.stem.porter import PorterStemmer\n",
        "\n",
        "# Create an instance of class PorterStemmer\n",
        "stemmer = PorterStemmer()"
      ],
      "execution_count": 0,
      "outputs": []
    },
    {
      "cell_type": "markdown",
      "metadata": {
        "id": "v2OiS1et45Hq",
        "colab_type": "text"
      },
      "source": [
        "**Stemming on article A1**"
      ]
    },
    {
      "cell_type": "markdown",
      "metadata": {
        "id": "hfiuLuEHbXvj",
        "colab_type": "text"
      },
      "source": [
        "In the code below, '.stem()' method is used to create a new stemmetized list called **texts_A1** for article A1, and the new list with stemmed words is printed."
      ]
    },
    {
      "cell_type": "code",
      "metadata": {
        "id": "SzlkdGWgiL5K",
        "colab_type": "code",
        "outputId": "e10bb7f9-9993-42b7-fc50-8ede5bb4b9e3",
        "colab": {
          "base_uri": "https://localhost:8080/",
          "height": 54
        }
      },
      "source": [
        "# stem token\n",
        "stemmed_texts_A1 = [stemmer.stem(i) for i in stopwords_tokens_A1]\n",
        "\n",
        "print(stemmed_texts_A1)"
      ],
      "execution_count": 0,
      "outputs": [
        {
          "output_type": "stream",
          "text": [
            "['topic', 'model', 'can', 'describ', 'method', 'find', 'group', 'word', 'collect', 'document', 'best', 'repres', 'inform', 'collect', 'can', 'also', 'thought', 'form', 'text', 'mine', 'way', 'obtain', 'recur', 'pattern', 'word', 'textual', 'materi', 'intuit', 'given', 'document', 'particular', 'topic', 'one', 'expect', 'particular', 'word', 'appear', 'document', 'less', 'frequent', 'dog', 'bone', 'will', 'appear', 'often', 'document', 'dog', 'cat', 'meow', 'will', 'appear', 'document', 'cat', 'will', 'appear', 'equal', 'document', 'typic', 'concern', 'multipl', 'topic', 'differ', 'proport', 'thu', 'document', '10', 'cat', '90', 'dog', 'probabl', '9', 'time', 'dog', 'word', 'cat', 'word', 'topic', 'produc', 'topic', 'model', 'techniqu', 'cluster', 'similar', 'word', 'topic', 'model', 'captur', 'intuit', 'mathemat', 'framework', 'allow', 'examin', 'set', 'document', 'discov', 'base', 'statist', 'word', 'topic', 'might', 'document', 's', 'balanc', 'topic']\n"
          ],
          "name": "stdout"
        }
      ]
    },
    {
      "cell_type": "markdown",
      "metadata": {
        "id": "biw4zus148ew",
        "colab_type": "text"
      },
      "source": [
        "**Stemming on article A2**"
      ]
    },
    {
      "cell_type": "markdown",
      "metadata": {
        "id": "xnmPubSdcKZc",
        "colab_type": "text"
      },
      "source": [
        "In the code below, '.stem()' method is used to create a new stemmetized list called **texts_A2** for article A2, and the new list with stemmed words is printed."
      ]
    },
    {
      "cell_type": "code",
      "metadata": {
        "id": "vFhIWauUih1H",
        "colab_type": "code",
        "outputId": "a3c09a3c-2212-4cbb-ffc0-99cf53d735cc",
        "colab": {
          "base_uri": "https://localhost:8080/",
          "height": 54
        }
      },
      "source": [
        "# stem token\n",
        "stemmed_texts_A2 = [stemmer.stem(i) for i in stopwords_tokens_A2]\n",
        "\n",
        "print(stemmed_texts_A2)"
      ],
      "execution_count": 0,
      "outputs": [
        {
          "output_type": "stream",
          "text": [
            "['use', 'nlp', 'machin', 'learn', 'healthcar', 'identifi', 'patient', 'clinic', 'trial', 'excit', 'moreov', 'essenti', 'use', 'case', 'compani', 'now', 'tri', 'resolv', 'challeng', 'area', 'use', 'nlp', 'engin', 'trial', 'match', 'current', 'advanc', 'look', 'like', 'nlp', 'potenti', 'autom', 'trial', 'match', 'make', 'seamless', 'process']\n"
          ],
          "name": "stdout"
        }
      ]
    },
    {
      "cell_type": "markdown",
      "metadata": {
        "id": "Pj41DUBMityz",
        "colab_type": "text"
      },
      "source": [
        "### **LDA model**"
      ]
    },
    {
      "cell_type": "markdown",
      "metadata": {
        "id": "t65XtEW-dE-f",
        "colab_type": "text"
      },
      "source": [
        "Topic modeling is a type of statistical modeling for discovering the abstract “topics” that occur in a collection of documents. Latent Dirichlet Allocation (LDA) is an example of topic model and is used to classify text in a document to a particular topic. It builds a topic per document model and words per topic model, modeled as Dirichlet distributions."
      ]
    },
    {
      "cell_type": "markdown",
      "metadata": {
        "id": "NwH4YzumeBRO",
        "colab_type": "text"
      },
      "source": [
        "**Preparing Document-Term Matrix for LDA**"
      ]
    },
    {
      "cell_type": "markdown",
      "metadata": {
        "id": "jcit9d_OeG5s",
        "colab_type": "text"
      },
      "source": [
        "The first step is to append the preprocessed data from both articles A1 ans A2 to the list 'text_list'. Then, the corpus is converted into a matrix representation. \n",
        "\n",
        "The first line of the code below creates a list 'text_list', the second and third lines appends the preprocessed texts from articles A1 and A2 to the above list. The fourth line creates the term dictionary of the corpus,where every unique term is assigned an index. The fifth line converts the corpus into a Document-Term Matrix using dictionary prepared above, and the last line prints the corpus."
      ]
    },
    {
      "cell_type": "code",
      "metadata": {
        "id": "jx-cIstaiwtp",
        "colab_type": "code",
        "outputId": "bb1cd7e4-57f6-4e46-e5d3-9650fd94f85e",
        "colab": {
          "base_uri": "https://localhost:8080/",
          "height": 54
        }
      },
      "source": [
        "from gensim import corpora, models\n",
        "preprocessed_text_list = []\n",
        "preprocessed_text_list.append(stemmed_texts_A1)\n",
        "preprocessed_text_list.append(stemmed_texts_A2)\n",
        "dictionary = corpora.Dictionary(preprocessed_text_list)\n",
        "corpus = [dictionary.doc2bow(text) for text in preprocessed_text_list]\n",
        "\n",
        "print(corpus)"
      ],
      "execution_count": 0,
      "outputs": [
        {
          "output_type": "stream",
          "text": [
            "[[(0, 1), (1, 1), (2, 1), (3, 1), (4, 1), (5, 4), (6, 1), (7, 1), (8, 1), (9, 1), (10, 2), (11, 1), (12, 4), (13, 1), (14, 2), (15, 1), (16, 1), (17, 1), (18, 1), (19, 9), (20, 4), (21, 1), (22, 1), (23, 1), (24, 1), (25, 1), (26, 1), (27, 1), (28, 1), (29, 1), (30, 1), (31, 2), (32, 1), (33, 1), (34, 1), (35, 1), (36, 1), (37, 1), (38, 1), (39, 3), (40, 1), (41, 1), (42, 1), (43, 1), (44, 2), (45, 1), (46, 1), (47, 1), (48, 1), (49, 1), (50, 1), (51, 1), (52, 1), (53, 1), (54, 1), (55, 1), (56, 1), (57, 1), (58, 1), (59, 1), (60, 1), (61, 8), (62, 1), (63, 1), (64, 3), (65, 7)], [(66, 1), (67, 1), (68, 1), (69, 1), (70, 1), (71, 1), (72, 1), (73, 1), (74, 1), (75, 1), (76, 1), (77, 1), (78, 1), (79, 1), (80, 1), (81, 1), (82, 1), (83, 1), (84, 2), (85, 1), (86, 3), (87, 1), (88, 1), (89, 1), (90, 1), (91, 1), (92, 1), (93, 1), (94, 3), (95, 3)]]\n"
          ],
          "name": "stdout"
        }
      ]
    },
    {
      "cell_type": "markdown",
      "metadata": {
        "id": "V3mrZqFtfJ57",
        "colab_type": "text"
      },
      "source": [
        "**Create the LDA object and train the LDA model on document-term matrix**"
      ]
    },
    {
      "cell_type": "markdown",
      "metadata": {
        "id": "yeSCbi7CfmCW",
        "colab_type": "text"
      },
      "source": [
        "The first line of code below creates the LDA object and train the LDA object model on document-term matrix by providing the required parameters such as number of topics and dictionary. The second line takes the number of topics and maximum words in a topic in 'lda_result_list'. The last line prints the list of topics found via LDA with the probability of occurence of each word in the topic."
      ]
    },
    {
      "cell_type": "code",
      "metadata": {
        "id": "gdB0QRPNi3zO",
        "colab_type": "code",
        "outputId": "da31252a-9436-4cd2-a9ac-ea9af0598dd8",
        "colab": {
          "base_uri": "https://localhost:8080/",
          "height": 1000
        }
      },
      "source": [
        "import gensim\n",
        "import numpy as np \n",
        "\n",
        "ldamodel = gensim.models.ldamodel.LdaModel(corpus, num_topics=5, id2word = dictionary, passes=20)\n",
        "lda_result_list = ldamodel.print_topics(num_topics=5, num_words=10)\n",
        "\n",
        "print(lda_result_list)"
      ],
      "execution_count": 0,
      "outputs": [
        {
          "output_type": "stream",
          "text": [
            "[(0, '0.010*\"document\" + 0.010*\"word\" + 0.010*\"topic\" + 0.010*\"appear\" + 0.010*\"dog\" + 0.010*\"cat\" + 0.010*\"will\" + 0.010*\"model\" + 0.010*\"can\" + 0.010*\"collect\"'), (1, '0.010*\"document\" + 0.010*\"word\" + 0.010*\"topic\" + 0.010*\"cat\" + 0.010*\"appear\" + 0.010*\"will\" + 0.010*\"dog\" + 0.010*\"can\" + 0.010*\"model\" + 0.010*\"particular\"'), (2, '0.075*\"document\" + 0.067*\"topic\" + 0.058*\"word\" + 0.034*\"cat\" + 0.034*\"dog\" + 0.034*\"appear\" + 0.026*\"model\" + 0.026*\"will\" + 0.018*\"intuit\" + 0.018*\"particular\"'), (3, '0.010*\"document\" + 0.010*\"word\" + 0.010*\"topic\" + 0.010*\"model\" + 0.010*\"will\" + 0.010*\"dog\" + 0.010*\"appear\" + 0.010*\"particular\" + 0.010*\"can\" + 0.010*\"cat\"'), (4, '0.057*\"nlp\" + 0.057*\"use\" + 0.057*\"trial\" + 0.039*\"match\" + 0.021*\"moreov\" + 0.021*\"look\" + 0.021*\"engin\" + 0.021*\"make\" + 0.021*\"machin\" + 0.021*\"essenti\"')]\n"
          ],
          "name": "stdout"
        },
        {
          "output_type": "stream",
          "text": [
            "/usr/local/lib/python3.6/dist-packages/gensim/models/ldamodel.py:1077: DeprecationWarning: Calling np.sum(generator) is deprecated, and in the future will give a different result. Use np.sum(np.fromiter(generator)) or the python sum builtin instead.\n",
            "  score += np.sum(cnt * logsumexp(Elogthetad + Elogbeta[:, int(id)]) for id, cnt in doc)\n",
            "/usr/local/lib/python3.6/dist-packages/gensim/models/ldamodel.py:1077: DeprecationWarning: Calling np.sum(generator) is deprecated, and in the future will give a different result. Use np.sum(np.fromiter(generator)) or the python sum builtin instead.\n",
            "  score += np.sum(cnt * logsumexp(Elogthetad + Elogbeta[:, int(id)]) for id, cnt in doc)\n",
            "/usr/local/lib/python3.6/dist-packages/gensim/models/ldamodel.py:1077: DeprecationWarning: Calling np.sum(generator) is deprecated, and in the future will give a different result. Use np.sum(np.fromiter(generator)) or the python sum builtin instead.\n",
            "  score += np.sum(cnt * logsumexp(Elogthetad + Elogbeta[:, int(id)]) for id, cnt in doc)\n",
            "/usr/local/lib/python3.6/dist-packages/gensim/models/ldamodel.py:1077: DeprecationWarning: Calling np.sum(generator) is deprecated, and in the future will give a different result. Use np.sum(np.fromiter(generator)) or the python sum builtin instead.\n",
            "  score += np.sum(cnt * logsumexp(Elogthetad + Elogbeta[:, int(id)]) for id, cnt in doc)\n",
            "/usr/local/lib/python3.6/dist-packages/gensim/models/ldamodel.py:1077: DeprecationWarning: Calling np.sum(generator) is deprecated, and in the future will give a different result. Use np.sum(np.fromiter(generator)) or the python sum builtin instead.\n",
            "  score += np.sum(cnt * logsumexp(Elogthetad + Elogbeta[:, int(id)]) for id, cnt in doc)\n",
            "/usr/local/lib/python3.6/dist-packages/gensim/models/ldamodel.py:1077: DeprecationWarning: Calling np.sum(generator) is deprecated, and in the future will give a different result. Use np.sum(np.fromiter(generator)) or the python sum builtin instead.\n",
            "  score += np.sum(cnt * logsumexp(Elogthetad + Elogbeta[:, int(id)]) for id, cnt in doc)\n",
            "/usr/local/lib/python3.6/dist-packages/gensim/models/ldamodel.py:1077: DeprecationWarning: Calling np.sum(generator) is deprecated, and in the future will give a different result. Use np.sum(np.fromiter(generator)) or the python sum builtin instead.\n",
            "  score += np.sum(cnt * logsumexp(Elogthetad + Elogbeta[:, int(id)]) for id, cnt in doc)\n",
            "/usr/local/lib/python3.6/dist-packages/gensim/models/ldamodel.py:1077: DeprecationWarning: Calling np.sum(generator) is deprecated, and in the future will give a different result. Use np.sum(np.fromiter(generator)) or the python sum builtin instead.\n",
            "  score += np.sum(cnt * logsumexp(Elogthetad + Elogbeta[:, int(id)]) for id, cnt in doc)\n",
            "/usr/local/lib/python3.6/dist-packages/gensim/models/ldamodel.py:1077: DeprecationWarning: Calling np.sum(generator) is deprecated, and in the future will give a different result. Use np.sum(np.fromiter(generator)) or the python sum builtin instead.\n",
            "  score += np.sum(cnt * logsumexp(Elogthetad + Elogbeta[:, int(id)]) for id, cnt in doc)\n",
            "/usr/local/lib/python3.6/dist-packages/gensim/models/ldamodel.py:1077: DeprecationWarning: Calling np.sum(generator) is deprecated, and in the future will give a different result. Use np.sum(np.fromiter(generator)) or the python sum builtin instead.\n",
            "  score += np.sum(cnt * logsumexp(Elogthetad + Elogbeta[:, int(id)]) for id, cnt in doc)\n",
            "/usr/local/lib/python3.6/dist-packages/gensim/models/ldamodel.py:1077: DeprecationWarning: Calling np.sum(generator) is deprecated, and in the future will give a different result. Use np.sum(np.fromiter(generator)) or the python sum builtin instead.\n",
            "  score += np.sum(cnt * logsumexp(Elogthetad + Elogbeta[:, int(id)]) for id, cnt in doc)\n",
            "/usr/local/lib/python3.6/dist-packages/gensim/models/ldamodel.py:1077: DeprecationWarning: Calling np.sum(generator) is deprecated, and in the future will give a different result. Use np.sum(np.fromiter(generator)) or the python sum builtin instead.\n",
            "  score += np.sum(cnt * logsumexp(Elogthetad + Elogbeta[:, int(id)]) for id, cnt in doc)\n",
            "/usr/local/lib/python3.6/dist-packages/gensim/models/ldamodel.py:1077: DeprecationWarning: Calling np.sum(generator) is deprecated, and in the future will give a different result. Use np.sum(np.fromiter(generator)) or the python sum builtin instead.\n",
            "  score += np.sum(cnt * logsumexp(Elogthetad + Elogbeta[:, int(id)]) for id, cnt in doc)\n",
            "/usr/local/lib/python3.6/dist-packages/gensim/models/ldamodel.py:1077: DeprecationWarning: Calling np.sum(generator) is deprecated, and in the future will give a different result. Use np.sum(np.fromiter(generator)) or the python sum builtin instead.\n",
            "  score += np.sum(cnt * logsumexp(Elogthetad + Elogbeta[:, int(id)]) for id, cnt in doc)\n",
            "/usr/local/lib/python3.6/dist-packages/gensim/models/ldamodel.py:1077: DeprecationWarning: Calling np.sum(generator) is deprecated, and in the future will give a different result. Use np.sum(np.fromiter(generator)) or the python sum builtin instead.\n",
            "  score += np.sum(cnt * logsumexp(Elogthetad + Elogbeta[:, int(id)]) for id, cnt in doc)\n",
            "/usr/local/lib/python3.6/dist-packages/gensim/models/ldamodel.py:1077: DeprecationWarning: Calling np.sum(generator) is deprecated, and in the future will give a different result. Use np.sum(np.fromiter(generator)) or the python sum builtin instead.\n",
            "  score += np.sum(cnt * logsumexp(Elogthetad + Elogbeta[:, int(id)]) for id, cnt in doc)\n",
            "/usr/local/lib/python3.6/dist-packages/gensim/models/ldamodel.py:1077: DeprecationWarning: Calling np.sum(generator) is deprecated, and in the future will give a different result. Use np.sum(np.fromiter(generator)) or the python sum builtin instead.\n",
            "  score += np.sum(cnt * logsumexp(Elogthetad + Elogbeta[:, int(id)]) for id, cnt in doc)\n",
            "/usr/local/lib/python3.6/dist-packages/gensim/models/ldamodel.py:1077: DeprecationWarning: Calling np.sum(generator) is deprecated, and in the future will give a different result. Use np.sum(np.fromiter(generator)) or the python sum builtin instead.\n",
            "  score += np.sum(cnt * logsumexp(Elogthetad + Elogbeta[:, int(id)]) for id, cnt in doc)\n",
            "/usr/local/lib/python3.6/dist-packages/gensim/models/ldamodel.py:1077: DeprecationWarning: Calling np.sum(generator) is deprecated, and in the future will give a different result. Use np.sum(np.fromiter(generator)) or the python sum builtin instead.\n",
            "  score += np.sum(cnt * logsumexp(Elogthetad + Elogbeta[:, int(id)]) for id, cnt in doc)\n",
            "/usr/local/lib/python3.6/dist-packages/gensim/models/ldamodel.py:1077: DeprecationWarning: Calling np.sum(generator) is deprecated, and in the future will give a different result. Use np.sum(np.fromiter(generator)) or the python sum builtin instead.\n",
            "  score += np.sum(cnt * logsumexp(Elogthetad + Elogbeta[:, int(id)]) for id, cnt in doc)\n",
            "/usr/local/lib/python3.6/dist-packages/gensim/models/ldamodel.py:1077: DeprecationWarning: Calling np.sum(generator) is deprecated, and in the future will give a different result. Use np.sum(np.fromiter(generator)) or the python sum builtin instead.\n",
            "  score += np.sum(cnt * logsumexp(Elogthetad + Elogbeta[:, int(id)]) for id, cnt in doc)\n",
            "/usr/local/lib/python3.6/dist-packages/gensim/models/ldamodel.py:1077: DeprecationWarning: Calling np.sum(generator) is deprecated, and in the future will give a different result. Use np.sum(np.fromiter(generator)) or the python sum builtin instead.\n",
            "  score += np.sum(cnt * logsumexp(Elogthetad + Elogbeta[:, int(id)]) for id, cnt in doc)\n",
            "/usr/local/lib/python3.6/dist-packages/gensim/models/ldamodel.py:1077: DeprecationWarning: Calling np.sum(generator) is deprecated, and in the future will give a different result. Use np.sum(np.fromiter(generator)) or the python sum builtin instead.\n",
            "  score += np.sum(cnt * logsumexp(Elogthetad + Elogbeta[:, int(id)]) for id, cnt in doc)\n",
            "/usr/local/lib/python3.6/dist-packages/gensim/models/ldamodel.py:1077: DeprecationWarning: Calling np.sum(generator) is deprecated, and in the future will give a different result. Use np.sum(np.fromiter(generator)) or the python sum builtin instead.\n",
            "  score += np.sum(cnt * logsumexp(Elogthetad + Elogbeta[:, int(id)]) for id, cnt in doc)\n",
            "/usr/local/lib/python3.6/dist-packages/gensim/models/ldamodel.py:1077: DeprecationWarning: Calling np.sum(generator) is deprecated, and in the future will give a different result. Use np.sum(np.fromiter(generator)) or the python sum builtin instead.\n",
            "  score += np.sum(cnt * logsumexp(Elogthetad + Elogbeta[:, int(id)]) for id, cnt in doc)\n",
            "/usr/local/lib/python3.6/dist-packages/gensim/models/ldamodel.py:1077: DeprecationWarning: Calling np.sum(generator) is deprecated, and in the future will give a different result. Use np.sum(np.fromiter(generator)) or the python sum builtin instead.\n",
            "  score += np.sum(cnt * logsumexp(Elogthetad + Elogbeta[:, int(id)]) for id, cnt in doc)\n",
            "/usr/local/lib/python3.6/dist-packages/gensim/models/ldamodel.py:1077: DeprecationWarning: Calling np.sum(generator) is deprecated, and in the future will give a different result. Use np.sum(np.fromiter(generator)) or the python sum builtin instead.\n",
            "  score += np.sum(cnt * logsumexp(Elogthetad + Elogbeta[:, int(id)]) for id, cnt in doc)\n",
            "/usr/local/lib/python3.6/dist-packages/gensim/models/ldamodel.py:1077: DeprecationWarning: Calling np.sum(generator) is deprecated, and in the future will give a different result. Use np.sum(np.fromiter(generator)) or the python sum builtin instead.\n",
            "  score += np.sum(cnt * logsumexp(Elogthetad + Elogbeta[:, int(id)]) for id, cnt in doc)\n",
            "/usr/local/lib/python3.6/dist-packages/gensim/models/ldamodel.py:1077: DeprecationWarning: Calling np.sum(generator) is deprecated, and in the future will give a different result. Use np.sum(np.fromiter(generator)) or the python sum builtin instead.\n",
            "  score += np.sum(cnt * logsumexp(Elogthetad + Elogbeta[:, int(id)]) for id, cnt in doc)\n",
            "/usr/local/lib/python3.6/dist-packages/gensim/models/ldamodel.py:1077: DeprecationWarning: Calling np.sum(generator) is deprecated, and in the future will give a different result. Use np.sum(np.fromiter(generator)) or the python sum builtin instead.\n",
            "  score += np.sum(cnt * logsumexp(Elogthetad + Elogbeta[:, int(id)]) for id, cnt in doc)\n",
            "/usr/local/lib/python3.6/dist-packages/gensim/models/ldamodel.py:1077: DeprecationWarning: Calling np.sum(generator) is deprecated, and in the future will give a different result. Use np.sum(np.fromiter(generator)) or the python sum builtin instead.\n",
            "  score += np.sum(cnt * logsumexp(Elogthetad + Elogbeta[:, int(id)]) for id, cnt in doc)\n",
            "/usr/local/lib/python3.6/dist-packages/gensim/models/ldamodel.py:1077: DeprecationWarning: Calling np.sum(generator) is deprecated, and in the future will give a different result. Use np.sum(np.fromiter(generator)) or the python sum builtin instead.\n",
            "  score += np.sum(cnt * logsumexp(Elogthetad + Elogbeta[:, int(id)]) for id, cnt in doc)\n",
            "/usr/local/lib/python3.6/dist-packages/gensim/models/ldamodel.py:1077: DeprecationWarning: Calling np.sum(generator) is deprecated, and in the future will give a different result. Use np.sum(np.fromiter(generator)) or the python sum builtin instead.\n",
            "  score += np.sum(cnt * logsumexp(Elogthetad + Elogbeta[:, int(id)]) for id, cnt in doc)\n",
            "/usr/local/lib/python3.6/dist-packages/gensim/models/ldamodel.py:1077: DeprecationWarning: Calling np.sum(generator) is deprecated, and in the future will give a different result. Use np.sum(np.fromiter(generator)) or the python sum builtin instead.\n",
            "  score += np.sum(cnt * logsumexp(Elogthetad + Elogbeta[:, int(id)]) for id, cnt in doc)\n",
            "/usr/local/lib/python3.6/dist-packages/gensim/models/ldamodel.py:1077: DeprecationWarning: Calling np.sum(generator) is deprecated, and in the future will give a different result. Use np.sum(np.fromiter(generator)) or the python sum builtin instead.\n",
            "  score += np.sum(cnt * logsumexp(Elogthetad + Elogbeta[:, int(id)]) for id, cnt in doc)\n",
            "/usr/local/lib/python3.6/dist-packages/gensim/models/ldamodel.py:1077: DeprecationWarning: Calling np.sum(generator) is deprecated, and in the future will give a different result. Use np.sum(np.fromiter(generator)) or the python sum builtin instead.\n",
            "  score += np.sum(cnt * logsumexp(Elogthetad + Elogbeta[:, int(id)]) for id, cnt in doc)\n",
            "/usr/local/lib/python3.6/dist-packages/gensim/models/ldamodel.py:1077: DeprecationWarning: Calling np.sum(generator) is deprecated, and in the future will give a different result. Use np.sum(np.fromiter(generator)) or the python sum builtin instead.\n",
            "  score += np.sum(cnt * logsumexp(Elogthetad + Elogbeta[:, int(id)]) for id, cnt in doc)\n",
            "/usr/local/lib/python3.6/dist-packages/gensim/models/ldamodel.py:1077: DeprecationWarning: Calling np.sum(generator) is deprecated, and in the future will give a different result. Use np.sum(np.fromiter(generator)) or the python sum builtin instead.\n",
            "  score += np.sum(cnt * logsumexp(Elogthetad + Elogbeta[:, int(id)]) for id, cnt in doc)\n",
            "/usr/local/lib/python3.6/dist-packages/gensim/models/ldamodel.py:1077: DeprecationWarning: Calling np.sum(generator) is deprecated, and in the future will give a different result. Use np.sum(np.fromiter(generator)) or the python sum builtin instead.\n",
            "  score += np.sum(cnt * logsumexp(Elogthetad + Elogbeta[:, int(id)]) for id, cnt in doc)\n",
            "/usr/local/lib/python3.6/dist-packages/gensim/models/ldamodel.py:1077: DeprecationWarning: Calling np.sum(generator) is deprecated, and in the future will give a different result. Use np.sum(np.fromiter(generator)) or the python sum builtin instead.\n",
            "  score += np.sum(cnt * logsumexp(Elogthetad + Elogbeta[:, int(id)]) for id, cnt in doc)\n"
          ],
          "name": "stderr"
        }
      ]
    },
    {
      "cell_type": "markdown",
      "metadata": {
        "id": "9w5X5DFmgtfz",
        "colab_type": "text"
      },
      "source": [
        "**Prepare the final list of topics**"
      ]
    },
    {
      "cell_type": "markdown",
      "metadata": {
        "id": "seUSmMZigx_x",
        "colab_type": "text"
      },
      "source": [
        "In the code below, the words in each topic is split into comma separated values and the new list 'final_lda_list_words' is printed."
      ]
    },
    {
      "cell_type": "code",
      "metadata": {
        "id": "3mAN6CzCi72D",
        "colab_type": "code",
        "outputId": "a274f575-559a-4a6f-e994-117edd7a9acd",
        "colab": {
          "base_uri": "https://localhost:8080/",
          "height": 54
        }
      },
      "source": [
        "def doit(text):      \n",
        "  import re\n",
        "  matches=re.findall(r'\\\"(.+?)\\\"',text)\n",
        "  return \",\".join(matches)\n",
        "\n",
        "final_lda_list_words = []\n",
        "for each_topic in lda_result_list:\n",
        "  new_list = []\n",
        "  string_value = doit(each_topic[1])\n",
        "  final_lda_list_words.append(string_value.split(\",\"))\n",
        "\n",
        "print(final_lda_list_words)"
      ],
      "execution_count": 0,
      "outputs": [
        {
          "output_type": "stream",
          "text": [
            "[['document', 'word', 'topic', 'appear', 'dog', 'cat', 'will', 'model', 'can', 'collect'], ['document', 'word', 'topic', 'cat', 'appear', 'will', 'dog', 'can', 'model', 'particular'], ['document', 'topic', 'word', 'cat', 'dog', 'appear', 'model', 'will', 'intuit', 'particular'], ['document', 'word', 'topic', 'model', 'will', 'dog', 'appear', 'particular', 'can', 'cat'], ['nlp', 'use', 'trial', 'match', 'moreov', 'look', 'engin', 'make', 'machin', 'essenti']]\n"
          ],
          "name": "stdout"
        }
      ]
    },
    {
      "cell_type": "markdown",
      "metadata": {
        "id": "eF0gBR8_CFLO",
        "colab_type": "text"
      },
      "source": [
        "**Install pyldavis module**"
      ]
    },
    {
      "cell_type": "code",
      "metadata": {
        "id": "9uYVJhVtB1lr",
        "colab_type": "code",
        "outputId": "8e1269b0-8daf-40e3-c9bb-77cc548e5659",
        "colab": {
          "base_uri": "https://localhost:8080/",
          "height": 382
        }
      },
      "source": [
        "pip install pyldavis"
      ],
      "execution_count": 0,
      "outputs": [
        {
          "output_type": "stream",
          "text": [
            "Requirement already satisfied: pyldavis in /usr/local/lib/python3.6/dist-packages (2.1.2)\n",
            "Requirement already satisfied: pandas>=0.17.0 in /usr/local/lib/python3.6/dist-packages (from pyldavis) (0.25.3)\n",
            "Requirement already satisfied: numexpr in /usr/local/lib/python3.6/dist-packages (from pyldavis) (2.7.0)\n",
            "Requirement already satisfied: wheel>=0.23.0 in /usr/local/lib/python3.6/dist-packages (from pyldavis) (0.33.6)\n",
            "Requirement already satisfied: pytest in /usr/local/lib/python3.6/dist-packages (from pyldavis) (3.6.4)\n",
            "Requirement already satisfied: funcy in /usr/local/lib/python3.6/dist-packages (from pyldavis) (1.13)\n",
            "Requirement already satisfied: jinja2>=2.7.2 in /usr/local/lib/python3.6/dist-packages (from pyldavis) (2.10.3)\n",
            "Requirement already satisfied: joblib>=0.8.4 in /usr/local/lib/python3.6/dist-packages (from pyldavis) (0.14.0)\n",
            "Requirement already satisfied: numpy>=1.9.2 in /usr/local/lib/python3.6/dist-packages (from pyldavis) (1.17.4)\n",
            "Requirement already satisfied: future in /usr/local/lib/python3.6/dist-packages (from pyldavis) (0.16.0)\n",
            "Requirement already satisfied: scipy>=0.18.0 in /usr/local/lib/python3.6/dist-packages (from pyldavis) (1.3.2)\n",
            "Requirement already satisfied: python-dateutil>=2.6.1 in /usr/local/lib/python3.6/dist-packages (from pandas>=0.17.0->pyldavis) (2.6.1)\n",
            "Requirement already satisfied: pytz>=2017.2 in /usr/local/lib/python3.6/dist-packages (from pandas>=0.17.0->pyldavis) (2018.9)\n",
            "Requirement already satisfied: setuptools in /usr/local/lib/python3.6/dist-packages (from pytest->pyldavis) (41.6.0)\n",
            "Requirement already satisfied: more-itertools>=4.0.0 in /usr/local/lib/python3.6/dist-packages (from pytest->pyldavis) (7.2.0)\n",
            "Requirement already satisfied: atomicwrites>=1.0 in /usr/local/lib/python3.6/dist-packages (from pytest->pyldavis) (1.3.0)\n",
            "Requirement already satisfied: attrs>=17.4.0 in /usr/local/lib/python3.6/dist-packages (from pytest->pyldavis) (19.3.0)\n",
            "Requirement already satisfied: pluggy<0.8,>=0.5 in /usr/local/lib/python3.6/dist-packages (from pytest->pyldavis) (0.7.1)\n",
            "Requirement already satisfied: six>=1.10.0 in /usr/local/lib/python3.6/dist-packages (from pytest->pyldavis) (1.12.0)\n",
            "Requirement already satisfied: py>=1.5.0 in /usr/local/lib/python3.6/dist-packages (from pytest->pyldavis) (1.8.0)\n",
            "Requirement already satisfied: MarkupSafe>=0.23 in /usr/local/lib/python3.6/dist-packages (from jinja2>=2.7.2->pyldavis) (1.1.1)\n"
          ],
          "name": "stdout"
        }
      ]
    },
    {
      "cell_type": "markdown",
      "metadata": {
        "id": "BCRzB1thCMO2",
        "colab_type": "text"
      },
      "source": [
        "### **Visualization of topics in articles A1 and A2 with pyLDAVis**"
      ]
    },
    {
      "cell_type": "code",
      "metadata": {
        "id": "jj87gp9iBba9",
        "colab_type": "code",
        "outputId": "5c420be1-a95c-436a-e810-6b194dd2c128",
        "colab": {
          "base_uri": "https://localhost:8080/",
          "height": 1000
        }
      },
      "source": [
        "import pyLDAvis.gensim\n",
        "import pyLDAvis.sklearn\n",
        "pyLDAvis.enable_notebook()\n",
        "vis = pyLDAvis.gensim.prepare(ldamodel, corpus, dictionary=ldamodel.id2word)\n",
        "vis"
      ],
      "execution_count": 0,
      "outputs": [
        {
          "output_type": "stream",
          "text": [
            "/usr/local/lib/python3.6/dist-packages/pyLDAvis/_prepare.py:257: FutureWarning: Sorting because non-concatenation axis is not aligned. A future version\n",
            "of pandas will change to not sort by default.\n",
            "\n",
            "To accept the future behavior, pass 'sort=False'.\n",
            "\n",
            "To retain the current behavior and silence the warning, pass 'sort=True'.\n",
            "\n",
            "  return pd.concat([default_term_info] + list(topic_dfs))\n"
          ],
          "name": "stderr"
        },
        {
          "output_type": "execute_result",
          "data": {
            "text/html": [
              "\n",
              "<link rel=\"stylesheet\" type=\"text/css\" href=\"https://cdn.rawgit.com/bmabey/pyLDAvis/files/ldavis.v1.0.0.css\">\n",
              "\n",
              "\n",
              "<div id=\"ldavis_el1211399744222444721229904946\"></div>\n",
              "<script type=\"text/javascript\">\n",
              "\n",
              "var ldavis_el1211399744222444721229904946_data = {\"mdsDat\": {\"x\": [-0.1608682470878314, 0.1639765193870987, -0.0011103401680650565, -0.0009927149128763114, -0.0010052172183258523], \"y\": [0.0, 0.0, -0.0, -0.0, 0.0], \"topics\": [1, 2, 3, 4, 5], \"cluster\": [1, 1, 1, 1, 1], \"Freq\": [73.33467864990234, 25.829038619995117, 0.27876007556915283, 0.2787586450576782, 0.27875858545303345]}, \"tinfo\": {\"Category\": [\"Default\", \"Default\", \"Default\", \"Default\", \"Default\", \"Default\", \"Default\", \"Default\", \"Default\", \"Default\", \"Default\", \"Default\", \"Default\", \"Default\", \"Default\", \"Default\", \"Default\", \"Default\", \"Default\", \"Default\", \"Default\", \"Default\", \"Default\", \"Default\", \"Default\", \"Default\", \"Default\", \"Default\", \"Default\", \"Default\", \"Topic1\", \"Topic1\", \"Topic1\", \"Topic1\", \"Topic1\", \"Topic1\", \"Topic1\", \"Topic1\", \"Topic1\", \"Topic1\", \"Topic1\", \"Topic1\", \"Topic1\", \"Topic1\", \"Topic1\", \"Topic1\", \"Topic1\", \"Topic1\", \"Topic1\", \"Topic1\", \"Topic1\", \"Topic1\", \"Topic1\", \"Topic1\", \"Topic1\", \"Topic1\", \"Topic1\", \"Topic1\", \"Topic1\", \"Topic1\", \"Topic1\", \"Topic1\", \"Topic1\", \"Topic1\", \"Topic2\", \"Topic2\", \"Topic2\", \"Topic2\", \"Topic2\", \"Topic2\", \"Topic2\", \"Topic2\", \"Topic2\", \"Topic2\", \"Topic2\", \"Topic2\", \"Topic2\", \"Topic2\", \"Topic2\", \"Topic2\", \"Topic2\", \"Topic2\", \"Topic2\", \"Topic2\", \"Topic2\", \"Topic2\", \"Topic2\", \"Topic2\", \"Topic2\", \"Topic2\", \"Topic2\", \"Topic2\", \"Topic2\", \"Topic2\", \"Topic3\", \"Topic3\", \"Topic3\", \"Topic3\", \"Topic3\", \"Topic3\", \"Topic3\", \"Topic3\", \"Topic3\", \"Topic3\", \"Topic3\", \"Topic3\", \"Topic3\", \"Topic3\", \"Topic3\", \"Topic3\", \"Topic3\", \"Topic3\", \"Topic3\", \"Topic3\", \"Topic3\", \"Topic3\", \"Topic3\", \"Topic3\", \"Topic3\", \"Topic3\", \"Topic3\", \"Topic3\", \"Topic3\", \"Topic3\", \"Topic3\", \"Topic3\", \"Topic3\", \"Topic3\", \"Topic3\", \"Topic3\", \"Topic3\", \"Topic3\", \"Topic3\", \"Topic3\", \"Topic3\", \"Topic3\", \"Topic3\", \"Topic3\", \"Topic3\", \"Topic3\", \"Topic3\", \"Topic3\", \"Topic3\", \"Topic3\", \"Topic3\", \"Topic3\", \"Topic3\", \"Topic3\", \"Topic3\", \"Topic3\", \"Topic4\", \"Topic4\", \"Topic4\", \"Topic4\", \"Topic4\", \"Topic4\", \"Topic4\", \"Topic4\", \"Topic4\", \"Topic4\", \"Topic4\", \"Topic4\", \"Topic4\", \"Topic4\", \"Topic4\", \"Topic4\", \"Topic4\", \"Topic4\", \"Topic4\", \"Topic4\", \"Topic4\", \"Topic4\", \"Topic4\", \"Topic4\", \"Topic4\", \"Topic4\", \"Topic4\", \"Topic4\", \"Topic4\", \"Topic4\", \"Topic4\", \"Topic4\", \"Topic4\", \"Topic4\", \"Topic4\", \"Topic4\", \"Topic4\", \"Topic4\", \"Topic4\", \"Topic4\", \"Topic4\", \"Topic4\", \"Topic4\", \"Topic4\", \"Topic4\", \"Topic4\", \"Topic4\", \"Topic4\", \"Topic4\", \"Topic4\", \"Topic4\", \"Topic4\", \"Topic4\", \"Topic4\", \"Topic4\", \"Topic4\", \"Topic4\", \"Topic4\", \"Topic4\", \"Topic5\", \"Topic5\", \"Topic5\", \"Topic5\", \"Topic5\", \"Topic5\", \"Topic5\", \"Topic5\", \"Topic5\", \"Topic5\", \"Topic5\", \"Topic5\", \"Topic5\", \"Topic5\", \"Topic5\", \"Topic5\", \"Topic5\", \"Topic5\", \"Topic5\", \"Topic5\", \"Topic5\", \"Topic5\", \"Topic5\", \"Topic5\", \"Topic5\", \"Topic5\", \"Topic5\", \"Topic5\", \"Topic5\", \"Topic5\", \"Topic5\", \"Topic5\", \"Topic5\", \"Topic5\", \"Topic5\", \"Topic5\", \"Topic5\", \"Topic5\", \"Topic5\", \"Topic5\", \"Topic5\", \"Topic5\", \"Topic5\", \"Topic5\", \"Topic5\", \"Topic5\", \"Topic5\", \"Topic5\", \"Topic5\", \"Topic5\", \"Topic5\", \"Topic5\", \"Topic5\", \"Topic5\", \"Topic5\", \"Topic5\"], \"Freq\": [7.0, 7.0, 6.0, 3.0, 3.0, 3.0, 2.0, 2.0, 1.0, 1.0, 1.0, 1.0, 2.0, 2.0, 2.0, 1.0, 1.0, 1.0, 1.0, 1.0, 1.0, 1.0, 1.0, 1.0, 1.0, 1.0, 1.0, 1.0, 1.0, 1.0, 7.721365928649902, 6.882333278656006, 6.042786598205566, 3.5250251293182373, 3.5249621868133545, 3.5250625610351562, 2.685748338699341, 2.6856939792633057, 1.8464106321334839, 1.8464267253875732, 1.8464423418045044, 1.8464723825454712, 1.007187008857727, 1.0072035789489746, 1.0071907043457031, 1.0072088241577148, 1.0071957111358643, 1.0072118043899536, 1.0072002410888672, 1.0071748495101929, 1.0071743726730347, 1.0071799755096436, 1.007182240486145, 1.0071560144424438, 1.0071539878845215, 1.007165551185608, 1.0071543455123901, 1.0071544647216797, 1.0071724653244019, 1.0071696043014526, 1.0071684122085571, 1.007175326347351, 1.007165551185608, 1.0071661472320557, 2.073577880859375, 2.073577880859375, 2.073577880859375, 1.425583004951477, 0.7775877714157104, 0.7775878310203552, 0.7775878310203552, 0.7775878310203552, 0.7775878310203552, 0.7775878310203552, 0.7775877714157104, 0.7775878310203552, 0.7775878310203552, 0.7775878310203552, 0.7775878310203552, 0.7775878310203552, 0.7775878310203552, 0.7775878310203552, 0.7775878310203552, 0.7775878310203552, 0.7775878310203552, 0.7775878310203552, 0.777587890625, 0.7775878310203552, 0.7775878310203552, 0.7775878310203552, 0.7775878310203552, 0.7775878310203552, 0.7775878310203552, 0.7775877714157104, 0.004090610425919294, 0.004090610891580582, 0.004090610425919294, 0.004090610425919294, 0.004090610425919294, 0.004090610425919294, 0.004090610425919294, 0.004090610425919294, 0.004090610425919294, 0.004090610425919294, 0.004090610425919294, 0.004090610425919294, 0.004090610425919294, 0.004090610425919294, 0.004090610425919294, 0.004090610425919294, 0.004090610425919294, 0.004090610425919294, 0.004090610425919294, 0.004090610425919294, 0.004090609960258007, 0.004090609960258007, 0.004090609960258007, 0.004090609960258007, 0.00409060949459672, 0.00409060949459672, 0.004095139447599649, 0.004095011856406927, 0.004094977863132954, 0.00409499928355217, 0.004120504017919302, 0.004114833660423756, 0.00411413935944438, 0.0041056605987250805, 0.0041044484823942184, 0.004102754406630993, 0.004101303871721029, 0.0040999772027134895, 0.004097786266356707, 0.004097558557987213, 0.004096822813153267, 0.0040961746126413345, 0.004094904754310846, 0.004094891250133514, 0.004094747360795736, 0.004094739910215139, 0.004094711039215326, 0.004094702657312155, 0.004094642121344805, 0.004094601143151522, 0.004094550386071205, 0.004094549920409918, 0.004094517789781094, 0.004094365518540144, 0.004094356205314398, 0.004094332922250032, 0.004094253294169903, 0.0040942528285086155, 0.0040942528285086155, 0.0040942528285086155, 0.0040942528285086155, 0.0040942528285086155, 0.0040942528285086155, 0.0040942528285086155, 0.0040942528285086155, 0.004094252362847328, 0.004094252362847328, 0.004094252362847328, 0.004094252362847328, 0.004094252362847328, 0.004094252362847328, 0.004094252362847328, 0.004094252362847328, 0.004094252362847328, 0.004094252362847328, 0.004094252362847328, 0.004094252362847328, 0.004094252362847328, 0.004094252362847328, 0.004094251897186041, 0.004094251897186041, 0.004094251897186041, 0.004094288684427738, 0.004094262141734362, 0.004094257950782776, 0.004094259813427925, 0.004094269126653671, 0.004094273317605257, 0.004094278439879417, 0.004094270523637533, 0.0040944297797977924, 0.004094391595572233, 0.004094364121556282, 0.004094330593943596, 0.00409431429579854, 0.004094312898814678, 0.00409430917352438, 0.0040943073108792305, 0.004094294272363186, 0.004094291944056749, 0.004094280302524567, 0.004094279836863279, 0.004094270057976246, 0.004094270057976246, 0.004094266798347235, 0.004094267729669809, 0.004094267729669809, 0.004094267729669809, 0.004094268195331097, 0.004094268195331097, 0.004094268660992384, 0.004094268195331097, 0.004094268195331097, 0.004094267729669809, 0.004094267264008522, 0.004093860276043415, 0.004093860276043415, 0.004093860276043415, 0.004093859810382128, 0.004093859810382128, 0.004093859810382128, 0.004093859810382128, 0.004093859810382128, 0.004093859810382128, 0.004093859810382128, 0.004093859810382128, 0.004093859810382128, 0.004093859810382128, 0.0040938593447208405, 0.0040938593447208405, 0.0040938593447208405, 0.0040938593447208405, 0.0040938593447208405, 0.0040938593447208405, 0.0040938593447208405, 0.0040938593447208405, 0.0040938593447208405, 0.0040938593447208405, 0.004093858879059553, 0.004093858879059553, 0.004093858879059553, 0.00409440603107214, 0.004094416741281748, 0.004094305448234081, 0.004094340838491917, 0.004094363190233707, 0.004094400908797979, 0.0040943860076367855, 0.0040976679883897305, 0.004096791613847017, 0.004096220247447491, 0.004095056094229221, 0.004095002077519894, 0.004094989970326424, 0.00409490754827857, 0.004094896838068962, 0.0040948716923594475, 0.0040947450324893, 0.004094704519957304, 0.004094625823199749, 0.004094379022717476, 0.00409436272457242, 0.004094358067959547, 0.004094335250556469, 0.00409432640299201, 0.004094317089766264, 0.00409430917352438, 0.004094305448234081, 0.004094303119927645, 0.004094296135008335, 0.004094291944056749], \"Term\": [\"document\", \"topic\", \"word\", \"appear\", \"dog\", \"cat\", \"will\", \"model\", \"can\", \"collect\", \"particular\", \"intuit\", \"trial\", \"use\", \"nlp\", \"match\", \"meow\", \"way\", \"framework\", \"differ\", \"also\", \"time\", \"less\", \"might\", \"thought\", \"typic\", \"pattern\", \"best\", \"bone\", \"frequent\", \"document\", \"topic\", \"word\", \"dog\", \"appear\", \"cat\", \"model\", \"will\", \"can\", \"collect\", \"particular\", \"intuit\", \"statist\", \"find\", \"10\", \"mathemat\", \"9\", \"probabl\", \"often\", \"describ\", \"thu\", \"captur\", \"one\", \"typic\", \"bone\", \"techniqu\", \"cluster\", \"method\", \"multipl\", \"discov\", \"examin\", \"concern\", \"recur\", \"repres\", \"use\", \"trial\", \"nlp\", \"match\", \"identifi\", \"advanc\", \"area\", \"autom\", \"case\", \"challeng\", \"clinic\", \"compani\", \"engin\", \"essenti\", \"excit\", \"healthcar\", \"current\", \"learn\", \"look\", \"machin\", \"make\", \"tri\", \"moreov\", \"now\", \"patient\", \"potenti\", \"resolv\", \"seamless\", \"like\", \"process\", \"identifi\", \"advanc\", \"clinic\", \"like\", \"look\", \"machin\", \"case\", \"challeng\", \"compani\", \"essenti\", \"excit\", \"healthcar\", \"area\", \"autom\", \"make\", \"now\", \"patient\", \"potenti\", \"resolv\", \"seamless\", \"engin\", \"process\", \"tri\", \"current\", \"learn\", \"moreov\", \"framework\", \"differ\", \"way\", \"meow\", \"document\", \"word\", \"topic\", \"appear\", \"dog\", \"cat\", \"will\", \"model\", \"can\", \"collect\", \"particular\", \"intuit\", \"also\", \"pattern\", \"form\", \"thought\", \"balanc\", \"might\", \"time\", \"less\", \"best\", \"frequent\", \"materi\", \"similar\", \"inform\", \"set\", \"process\", \"identifi\", \"clinic\", \"look\", \"area\", \"challeng\", \"essenti\", \"excit\", \"autom\", \"advanc\", \"potenti\", \"case\", \"tri\", \"seamless\", \"compani\", \"current\", \"engin\", \"healthcar\", \"patient\", \"learn\", \"now\", \"like\", \"moreov\", \"resolv\", \"machin\", \"make\", \"pattern\", \"way\", \"framework\", \"meow\", \"thought\", \"inform\", \"obtain\", \"set\", \"document\", \"word\", \"topic\", \"cat\", \"appear\", \"will\", \"dog\", \"can\", \"model\", \"particular\", \"collect\", \"intuit\", \"produc\", \"allow\", \"method\", \"techniqu\", \"s\", \"mine\", \"repres\", \"concern\", \"group\", \"90\", \"form\", \"equal\", \"best\", \"clinic\", \"area\", \"identifi\", \"challeng\", \"learn\", \"tri\", \"current\", \"process\", \"patient\", \"now\", \"autom\", \"healthcar\", \"look\", \"engin\", \"excit\", \"essenti\", \"like\", \"case\", \"make\", \"advanc\", \"potenti\", \"resolv\", \"machin\", \"moreov\", \"compani\", \"seamless\", \"way\", \"allow\", \"pattern\", \"time\", \"inform\", \"base\", \"mine\", \"document\", \"word\", \"topic\", \"model\", \"will\", \"dog\", \"appear\", \"particular\", \"can\", \"cat\", \"intuit\", \"collect\", \"given\", \"obtain\", \"method\", \"materi\", \"expect\", \"proport\", \"set\", \"typic\", \"recur\", \"90\", \"discov\"], \"Total\": [7.0, 7.0, 6.0, 3.0, 3.0, 3.0, 2.0, 2.0, 1.0, 1.0, 1.0, 1.0, 2.0, 2.0, 2.0, 1.0, 1.0, 1.0, 1.0, 1.0, 1.0, 1.0, 1.0, 1.0, 1.0, 1.0, 1.0, 1.0, 1.0, 1.0, 7.863448143005371, 7.024332523345947, 6.184816837310791, 3.666966199874878, 3.666916847229004, 3.6670331954956055, 2.8276872634887695, 2.8276352882385254, 1.9883314371109009, 1.9883503913879395, 1.9883676767349243, 1.9884006977081299, 1.149078130722046, 1.1490970849990845, 1.1490830183029175, 1.1491042375564575, 1.1490893363952637, 1.1491080522537231, 1.1490957736968994, 1.1490697860717773, 1.149070143699646, 1.14907705783844, 1.1490800380706787, 1.1490505933761597, 1.1490498781204224, 1.1490633487701416, 1.1490504741668701, 1.1490509510040283, 1.1490721702575684, 1.1490695476531982, 1.1490684747695923, 1.149078607559204, 1.149067759513855, 1.1490708589553833, 2.2537481784820557, 2.2537481784820557, 2.2537481784820557, 1.6057530641555786, 0.9577579498291016, 0.9577580094337463, 0.9577580094337463, 0.9577580094337463, 0.9577580094337463, 0.9577580094337463, 0.9577579498291016, 0.9577580094337463, 0.9577580094337463, 0.9577580094337463, 0.9577580094337463, 0.9577580094337463, 0.9577580094337463, 0.9577580094337463, 0.9577580094337463, 0.9577580094337463, 0.9577580094337463, 0.9577580094337463, 0.9577580690383911, 0.9577580094337463, 0.9577580094337463, 0.9577580094337463, 0.9577580094337463, 0.9577580094337463, 0.9577580094337463, 0.9577580094337463, 0.9577579498291016, 0.9577580094337463, 0.9577579498291016, 0.9577580094337463, 0.9577580094337463, 0.9577580094337463, 0.9577580094337463, 0.9577580094337463, 0.9577580094337463, 0.9577580094337463, 0.9577580094337463, 0.9577580094337463, 0.9577580094337463, 0.9577580094337463, 0.9577580094337463, 0.9577580094337463, 0.9577580094337463, 0.9577580094337463, 0.9577580094337463, 0.9577580094337463, 0.9577580094337463, 0.9577580094337463, 0.9577580094337463, 0.9577580094337463, 0.9577580094337463, 0.9577580690383911, 1.1490178108215332, 1.149020791053772, 1.1490144729614258, 1.149020791053772, 7.863448143005371, 6.184816837310791, 7.024332523345947, 3.666916847229004, 3.666966199874878, 3.6670331954956055, 2.8276352882385254, 2.8276872634887695, 1.9883314371109009, 1.9883503913879395, 1.9883676767349243, 1.9884006977081299, 1.1490269899368286, 1.149018406867981, 1.1490321159362793, 1.1490319967269897, 1.149033784866333, 1.1490329504013062, 1.149031162261963, 1.1490403413772583, 1.1490375995635986, 1.1490448713302612, 1.149033784866333, 1.1490435600280762, 1.1490390300750732, 1.149040937423706, 0.9577580094337463, 0.9577579498291016, 0.9577579498291016, 0.9577580094337463, 0.9577580094337463, 0.9577580094337463, 0.9577580094337463, 0.9577580094337463, 0.9577580094337463, 0.9577580094337463, 0.9577580094337463, 0.9577580094337463, 0.9577580094337463, 0.9577580094337463, 0.9577580094337463, 0.9577580094337463, 0.9577580094337463, 0.9577580094337463, 0.9577580094337463, 0.9577580094337463, 0.9577580094337463, 0.9577580094337463, 0.9577580690383911, 0.9577580094337463, 0.9577580094337463, 0.9577580094337463, 1.149018406867981, 1.1490144729614258, 1.1490178108215332, 1.149020791053772, 1.1490319967269897, 1.1490390300750732, 1.1490554809570312, 1.149040937423706, 7.863448143005371, 6.184816837310791, 7.024332523345947, 3.6670331954956055, 3.666916847229004, 2.8276352882385254, 3.666966199874878, 1.9883314371109009, 2.8276872634887695, 1.9883676767349243, 1.9883503913879395, 1.9884006977081299, 1.1490689516067505, 1.1490395069122314, 1.1490509510040283, 1.1490633487701416, 1.1490685939788818, 1.1490519046783447, 1.1490708589553833, 1.149078607559204, 1.1490558385849, 1.149052619934082, 1.1490321159362793, 1.1490529775619507, 1.1490375995635986, 0.9577579498291016, 0.9577580094337463, 0.9577579498291016, 0.9577580094337463, 0.9577580094337463, 0.9577580094337463, 0.9577580094337463, 0.9577580094337463, 0.9577580094337463, 0.9577580094337463, 0.9577580094337463, 0.9577580094337463, 0.9577580094337463, 0.9577580094337463, 0.9577580094337463, 0.9577580094337463, 0.9577580094337463, 0.9577580094337463, 0.9577580094337463, 0.9577580094337463, 0.9577580094337463, 0.9577580094337463, 0.9577580094337463, 0.9577580690383911, 0.9577580094337463, 0.9577580094337463, 1.1490144729614258, 1.1490395069122314, 1.149018406867981, 1.149031162261963, 1.1490390300750732, 1.1490575075149536, 1.1490519046783447, 7.863448143005371, 6.184816837310791, 7.024332523345947, 2.8276872634887695, 2.8276352882385254, 3.666966199874878, 3.666916847229004, 1.9883676767349243, 1.9883314371109009, 3.6670331954956055, 1.9884006977081299, 1.9883503913879395, 1.1490501165390015, 1.1490554809570312, 1.1490509510040283, 1.149033784866333, 1.1490520238876343, 1.149060845375061, 1.149040937423706, 1.1490505933761597, 1.149067759513855, 1.149052619934082, 1.1490695476531982], \"loglift\": [30.0, 29.0, 28.0, 27.0, 26.0, 25.0, 24.0, 23.0, 22.0, 21.0, 20.0, 19.0, 18.0, 17.0, 16.0, 15.0, 14.0, 13.0, 12.0, 11.0, 10.0, 9.0, 8.0, 7.0, 6.0, 5.0, 4.0, 3.0, 2.0, 1.0, 0.29190000891685486, 0.2897000014781952, 0.28690001368522644, 0.27070000767707825, 0.27070000767707825, 0.27070000767707825, 0.25859999656677246, 0.25859999656677246, 0.2361000031232834, 0.2361000031232834, 0.2361000031232834, 0.2361000031232834, 0.17829999327659607, 0.17829999327659607, 0.17829999327659607, 0.17829999327659607, 0.17829999327659607, 0.17829999327659607, 0.17829999327659607, 0.17829999327659607, 0.17829999327659607, 0.17829999327659607, 0.17829999327659607, 0.17829999327659607, 0.17829999327659607, 0.17829999327659607, 0.17829999327659607, 0.17829999327659607, 0.17829999327659607, 0.17829999327659607, 0.17829999327659607, 0.17829999327659607, 0.17829999327659607, 0.17829999327659607, 1.270400047302246, 1.270400047302246, 1.270400047302246, 1.2346999645233154, 1.145300030708313, 1.145300030708313, 1.145300030708313, 1.145300030708313, 1.145300030708313, 1.145300030708313, 1.145300030708313, 1.145300030708313, 1.145300030708313, 1.145300030708313, 1.145300030708313, 1.145300030708313, 1.145300030708313, 1.145300030708313, 1.145300030708313, 1.145300030708313, 1.145300030708313, 1.145300030708313, 1.145300030708313, 1.145300030708313, 1.145300030708313, 1.145300030708313, 1.145300030708313, 1.145300030708313, 1.145300030708313, 1.145300030708313, 0.42669999599456787, 0.42669999599456787, 0.42669999599456787, 0.42669999599456787, 0.42669999599456787, 0.42669999599456787, 0.42669999599456787, 0.42669999599456787, 0.42669999599456787, 0.42669999599456787, 0.42669999599456787, 0.42669999599456787, 0.42669999599456787, 0.42669999599456787, 0.42669999599456787, 0.42669999599456787, 0.42669999599456787, 0.42669999599456787, 0.42669999599456787, 0.42669999599456787, 0.42669999599456787, 0.42669999599456787, 0.42669999599456787, 0.42669999599456787, 0.42669999599456787, 0.42669999599456787, 0.24570000171661377, 0.24570000171661377, 0.24570000171661377, 0.24570000171661377, -1.6713999509811401, -1.4327000379562378, -1.5600999593734741, -0.9121999740600586, -0.9125000238418579, -0.9128999710083008, -0.6532999873161316, -0.6536999940872192, -0.3019999861717224, -0.3021000027656555, -0.30230000615119934, -0.30250000953674316, 0.24560000002384186, 0.24570000171661377, 0.24560000002384186, 0.24560000002384186, 0.24560000002384186, 0.24560000002384186, 0.24560000002384186, 0.24560000002384186, 0.24560000002384186, 0.24549999833106995, 0.24549999833106995, 0.24549999833106995, 0.24549999833106995, 0.24549999833106995, 0.4275999963283539, 0.4275999963283539, 0.4275999963283539, 0.4275999963283539, 0.4275999963283539, 0.4275999963283539, 0.4275999963283539, 0.4275999963283539, 0.4275999963283539, 0.4275999963283539, 0.4275999963283539, 0.4275999963283539, 0.4275999963283539, 0.4275999963283539, 0.4275999963283539, 0.4275999963283539, 0.4275999963283539, 0.4275999963283539, 0.4275999963283539, 0.4275999963283539, 0.4275999963283539, 0.4275999963283539, 0.4275999963283539, 0.4275999963283539, 0.4275999963283539, 0.4275999963283539, 0.24549999833106995, 0.24549999833106995, 0.24549999833106995, 0.24549999833106995, 0.24549999833106995, 0.24549999833106995, 0.24549999833106995, 0.24549999833106995, -1.6778000593185425, -1.4377000331878662, -1.5649000406265259, -0.9150000214576721, -0.914900004863739, -0.6549999713897705, -0.914900004863739, -0.3028999865055084, -0.6549999713897705, -0.3028999865055084, -0.3028999865055084, -0.3028999865055084, 0.24549999833106995, 0.24549999833106995, 0.24549999833106995, 0.24549999833106995, 0.24549999833106995, 0.24549999833106995, 0.24549999833106995, 0.24549999833106995, 0.24549999833106995, 0.24549999833106995, 0.24549999833106995, 0.24549999833106995, 0.24549999833106995, 0.42750000953674316, 0.42750000953674316, 0.42750000953674316, 0.42750000953674316, 0.42750000953674316, 0.42750000953674316, 0.42750000953674316, 0.42750000953674316, 0.42750000953674316, 0.42750000953674316, 0.42750000953674316, 0.42750000953674316, 0.42750000953674316, 0.42750000953674316, 0.42750000953674316, 0.42750000953674316, 0.42750000953674316, 0.42750000953674316, 0.42750000953674316, 0.42750000953674316, 0.42750000953674316, 0.42750000953674316, 0.42750000953674316, 0.42750000953674316, 0.42750000953674316, 0.42750000953674316, 0.24549999833106995, 0.24549999833106995, 0.24549999833106995, 0.24549999833106995, 0.24549999833106995, 0.24549999833106995, 0.24549999833106995, -1.6770000457763672, -1.4371000528335571, -1.5644999742507935, -0.6549000144004822, -0.6547999978065491, -0.9147999882698059, -0.9147999882698059, -0.302700012922287, -0.302700012922287, -0.914900004863739, -0.3027999997138977, -0.3027999997138977, 0.24549999833106995, 0.24549999833106995, 0.24549999833106995, 0.24549999833106995, 0.24549999833106995, 0.24549999833106995, 0.24549999833106995, 0.24549999833106995, 0.24549999833106995, 0.24549999833106995, 0.24549999833106995], \"logprob\": [30.0, 29.0, 28.0, 27.0, 26.0, 25.0, 24.0, 23.0, 22.0, 21.0, 20.0, 19.0, 18.0, 17.0, 16.0, 15.0, 14.0, 13.0, 12.0, 11.0, 10.0, 9.0, 8.0, 7.0, 6.0, 5.0, 4.0, 3.0, 2.0, 1.0, -2.594599962234497, -2.709700107574463, -2.8397998809814453, -3.378700017929077, -3.3787999153137207, -3.378700017929077, -3.650700092315674, -3.650700092315674, -4.025400161743164, -4.025400161743164, -4.025400161743164, -4.025300025939941, -4.631499767303467, -4.631400108337402, -4.631499767303467, -4.631400108337402, -4.631499767303467, -4.631400108337402, -4.631400108337402, -4.631499767303467, -4.631499767303467, -4.631499767303467, -4.631499767303467, -4.631499767303467, -4.631499767303467, -4.631499767303467, -4.631499767303467, -4.631499767303467, -4.631499767303467, -4.631499767303467, -4.631499767303467, -4.631499767303467, -4.631499767303467, -4.631499767303467, -2.865799903869629, -2.865799903869629, -2.865799903869629, -3.240499973297119, -3.84660005569458, -3.84660005569458, -3.84660005569458, -3.84660005569458, -3.84660005569458, -3.84660005569458, -3.84660005569458, -3.84660005569458, -3.84660005569458, -3.84660005569458, -3.84660005569458, -3.84660005569458, -3.84660005569458, -3.84660005569458, -3.84660005569458, -3.84660005569458, -3.84660005569458, -3.84660005569458, -3.84660005569458, -3.84660005569458, -3.84660005569458, -3.84660005569458, -3.84660005569458, -3.84660005569458, -3.84660005569458, -3.84660005569458, -4.565199851989746, -4.565199851989746, -4.565199851989746, -4.565199851989746, -4.565199851989746, -4.565199851989746, -4.565199851989746, -4.565199851989746, -4.565199851989746, -4.565199851989746, -4.565199851989746, -4.565199851989746, -4.565199851989746, -4.565199851989746, -4.565199851989746, -4.565199851989746, -4.565199851989746, -4.565199851989746, -4.565199851989746, -4.565199851989746, -4.565199851989746, -4.565199851989746, -4.565199851989746, -4.565199851989746, -4.565199851989746, -4.565199851989746, -4.5640997886657715, -4.564199924468994, -4.564199924468994, -4.564199924468994, -4.558000087738037, -4.559299945831299, -4.559500217437744, -4.561600208282471, -4.5619001388549805, -4.562300205230713, -4.562600135803223, -4.563000202178955, -4.563499927520752, -4.563600063323975, -4.563700199127197, -4.563899993896484, -4.564199924468994, -4.564199924468994, -4.564199924468994, -4.564199924468994, -4.564199924468994, -4.564199924468994, -4.564300060272217, -4.564300060272217, -4.564300060272217, -4.564300060272217, -4.564300060272217, -4.564300060272217, -4.564300060272217, -4.564300060272217, -4.5644001960754395, -4.5644001960754395, -4.5644001960754395, -4.5644001960754395, -4.5644001960754395, -4.5644001960754395, -4.5644001960754395, -4.5644001960754395, -4.5644001960754395, -4.5644001960754395, -4.5644001960754395, -4.5644001960754395, -4.5644001960754395, -4.5644001960754395, -4.5644001960754395, -4.5644001960754395, -4.5644001960754395, -4.5644001960754395, -4.5644001960754395, -4.5644001960754395, -4.5644001960754395, -4.5644001960754395, -4.5644001960754395, -4.5644001960754395, -4.5644001960754395, -4.5644001960754395, -4.564300060272217, -4.564300060272217, -4.5644001960754395, -4.5644001960754395, -4.564300060272217, -4.564300060272217, -4.564300060272217, -4.564300060272217, -4.564300060272217, -4.564300060272217, -4.564300060272217, -4.564300060272217, -4.564300060272217, -4.564300060272217, -4.564300060272217, -4.564300060272217, -4.564300060272217, -4.564300060272217, -4.564300060272217, -4.564300060272217, -4.564300060272217, -4.564300060272217, -4.564300060272217, -4.564300060272217, -4.564300060272217, -4.564300060272217, -4.564300060272217, -4.564300060272217, -4.564300060272217, -4.564300060272217, -4.564300060272217, -4.564300060272217, -4.564300060272217, -4.5644001960754395, -4.5644001960754395, -4.5644001960754395, -4.5644001960754395, -4.5644001960754395, -4.5644001960754395, -4.5644001960754395, -4.5644001960754395, -4.5644001960754395, -4.5644001960754395, -4.5644001960754395, -4.5644001960754395, -4.5644001960754395, -4.5644001960754395, -4.5644001960754395, -4.5644001960754395, -4.5644001960754395, -4.5644001960754395, -4.5644001960754395, -4.5644001960754395, -4.5644001960754395, -4.5644001960754395, -4.5644001960754395, -4.5644001960754395, -4.5644001960754395, -4.5644001960754395, -4.564300060272217, -4.564300060272217, -4.564300060272217, -4.564300060272217, -4.564300060272217, -4.564300060272217, -4.564300060272217, -4.563499927520752, -4.563700199127197, -4.563899993896484, -4.564199924468994, -4.564199924468994, -4.564199924468994, -4.564199924468994, -4.564199924468994, -4.564199924468994, -4.564199924468994, -4.564199924468994, -4.564300060272217, -4.564300060272217, -4.564300060272217, -4.564300060272217, -4.564300060272217, -4.564300060272217, -4.564300060272217, -4.564300060272217, -4.564300060272217, -4.564300060272217, -4.564300060272217, -4.564300060272217]}, \"token.table\": {\"Topic\": [1, 1, 1, 2, 1, 1, 1, 2, 2, 1, 1, 1, 1, 1, 1, 2, 1, 2, 2, 1, 1, 2, 1, 2, 1, 1, 1, 1, 1, 2, 1, 2, 1, 2, 1, 1, 1, 1, 1, 1, 1, 2, 2, 1, 1, 2, 1, 2, 2, 2, 2, 2, 1, 1, 1, 1, 1, 1, 1, 2, 1, 2, 2, 1, 1, 1, 1, 2, 1, 2, 1, 2, 1, 1, 1, 1, 2, 1, 2, 1, 1, 1, 1, 1, 1, 1, 1, 2, 2, 1, 2, 1, 1, 1], \"Freq\": [0.870259165763855, 0.8702543377876282, 0.8702821731567383, 1.044105052947998, 0.870292067527771, 0.8703016042709351, 1.090834617614746, 1.044105052947998, 1.044105052947998, 0.8702964186668396, 0.8702784776687622, 0.8702935576438904, 0.8702842593193054, 1.0058685541152954, 0.8702636361122131, 1.044105052947998, 1.0908000469207764, 1.044105052947998, 1.0441051721572876, 0.8702837824821472, 1.0058588981628418, 1.044105052947998, 0.8702625036239624, 1.044105052947998, 0.8702691793441772, 0.8703062534332275, 0.8702693581581116, 1.0173653364181519, 1.0908199548721313, 1.044105052947998, 0.8702818751335144, 1.044105052947998, 0.8702701330184937, 1.044105052947998, 0.8702825903892517, 0.8702484965324402, 0.8702976703643799, 0.870308518409729, 0.8702880144119263, 0.8702840805053711, 0.8702797293663025, 1.044105052947998, 1.0441051721572876, 0.8702924847602844, 1.0058335065841675, 1.044105052947998, 0.8702914714813232, 1.044105052947998, 1.044105052947998, 1.044105052947998, 1.044105052947998, 0.6227607727050781, 0.8702964186668396, 0.8702430725097656, 0.8703062534332275, 0.8702834248542786, 0.8702970743179321, 0.8702827095985413, 1.0609376430511475, 1.044105052947998, 0.8702673316001892, 0.887410581111908, 1.044105052947998, 0.8702799677848816, 0.8702495098114014, 0.8702613711357117, 1.0058501958847046, 1.044105052947998, 0.8703081011772156, 1.044105052947998, 0.8702401518821716, 1.044105052947998, 0.870269775390625, 0.8702759146690369, 0.8702706694602966, 0.8702683448791504, 1.044105052947998, 0.8702700734138489, 1.044105052947998, 0.870290994644165, 0.8702890276908875, 0.870262861251831, 0.8702740669250488, 0.8702977895736694, 0.8702688813209534, 0.870298445224762, 0.9965359568595886, 1.044105052947998, 0.887410581111908, 0.8702837228775024, 0.887410581111908, 0.8703110814094543, 1.0609571933746338, 0.9701176285743713], \"Term\": [\"10\", \"9\", \"90\", \"advanc\", \"allow\", \"also\", \"appear\", \"area\", \"autom\", \"balanc\", \"base\", \"best\", \"bone\", \"can\", \"captur\", \"case\", \"cat\", \"challeng\", \"clinic\", \"cluster\", \"collect\", \"compani\", \"concern\", \"current\", \"describ\", \"differ\", \"discov\", \"document\", \"dog\", \"engin\", \"equal\", \"essenti\", \"examin\", \"excit\", \"expect\", \"find\", \"form\", \"framework\", \"frequent\", \"given\", \"group\", \"healthcar\", \"identifi\", \"inform\", \"intuit\", \"learn\", \"less\", \"like\", \"look\", \"machin\", \"make\", \"match\", \"materi\", \"mathemat\", \"meow\", \"method\", \"might\", \"mine\", \"model\", \"moreov\", \"multipl\", \"nlp\", \"now\", \"obtain\", \"often\", \"one\", \"particular\", \"patient\", \"pattern\", \"potenti\", \"probabl\", \"process\", \"produc\", \"proport\", \"recur\", \"repres\", \"resolv\", \"s\", \"seamless\", \"set\", \"similar\", \"statist\", \"techniqu\", \"thought\", \"thu\", \"time\", \"topic\", \"tri\", \"trial\", \"typic\", \"use\", \"way\", \"will\", \"word\"]}, \"R\": 30, \"lambda.step\": 0.01, \"plot.opts\": {\"xlab\": \"PC1\", \"ylab\": \"PC2\"}, \"topic.order\": [3, 5, 1, 2, 4]};\n",
              "\n",
              "function LDAvis_load_lib(url, callback){\n",
              "  var s = document.createElement('script');\n",
              "  s.src = url;\n",
              "  s.async = true;\n",
              "  s.onreadystatechange = s.onload = callback;\n",
              "  s.onerror = function(){console.warn(\"failed to load library \" + url);};\n",
              "  document.getElementsByTagName(\"head\")[0].appendChild(s);\n",
              "}\n",
              "\n",
              "if(typeof(LDAvis) !== \"undefined\"){\n",
              "   // already loaded: just create the visualization\n",
              "   !function(LDAvis){\n",
              "       new LDAvis(\"#\" + \"ldavis_el1211399744222444721229904946\", ldavis_el1211399744222444721229904946_data);\n",
              "   }(LDAvis);\n",
              "}else if(typeof define === \"function\" && define.amd){\n",
              "   // require.js is available: use it to load d3/LDAvis\n",
              "   require.config({paths: {d3: \"https://cdnjs.cloudflare.com/ajax/libs/d3/3.5.5/d3.min\"}});\n",
              "   require([\"d3\"], function(d3){\n",
              "      window.d3 = d3;\n",
              "      LDAvis_load_lib(\"https://cdn.rawgit.com/bmabey/pyLDAvis/files/ldavis.v1.0.0.js\", function(){\n",
              "        new LDAvis(\"#\" + \"ldavis_el1211399744222444721229904946\", ldavis_el1211399744222444721229904946_data);\n",
              "      });\n",
              "    });\n",
              "}else{\n",
              "    // require.js not available: dynamically load d3 & LDAvis\n",
              "    LDAvis_load_lib(\"https://cdnjs.cloudflare.com/ajax/libs/d3/3.5.5/d3.min.js\", function(){\n",
              "         LDAvis_load_lib(\"https://cdn.rawgit.com/bmabey/pyLDAvis/files/ldavis.v1.0.0.js\", function(){\n",
              "                 new LDAvis(\"#\" + \"ldavis_el1211399744222444721229904946\", ldavis_el1211399744222444721229904946_data);\n",
              "            })\n",
              "         });\n",
              "}\n",
              "</script>"
            ],
            "text/plain": [
              "PreparedData(topic_coordinates=              x    y  topics  cluster       Freq\n",
              "topic                                           \n",
              "2     -0.160868  0.0       1        1  73.334679\n",
              "4      0.163977  0.0       2        1  25.829039\n",
              "0     -0.001110 -0.0       3        1   0.278760\n",
              "1     -0.000993 -0.0       4        1   0.278759\n",
              "3     -0.001005  0.0       5        1   0.278759, topic_info=   Category      Freq      Term     Total  loglift  logprob\n",
              "19  Default  7.000000  document  7.000000  30.0000  30.0000\n",
              "61  Default  7.000000     topic  7.000000  29.0000  29.0000\n",
              "65  Default  6.000000      word  6.000000  28.0000  28.0000\n",
              "5   Default  3.000000    appear  3.000000  27.0000  27.0000\n",
              "20  Default  3.000000       dog  3.000000  26.0000  26.0000\n",
              "..      ...       ...       ...       ...      ...      ...\n",
              "52   Topic5  0.004094       set  1.149041   0.2455  -4.5643\n",
              "62   Topic5  0.004094     typic  1.149051   0.2455  -4.5643\n",
              "49   Topic5  0.004094     recur  1.149068   0.2455  -4.5643\n",
              "2    Topic5  0.004094        90  1.149053   0.2455  -4.5643\n",
              "18   Topic5  0.004094    discov  1.149070   0.2455  -4.5643\n",
              "\n",
              "[265 rows x 6 columns], token_table=      Topic      Freq    Term\n",
              "term                         \n",
              "0         1  0.870259      10\n",
              "1         1  0.870254       9\n",
              "2         1  0.870282      90\n",
              "66        2  1.044105  advanc\n",
              "3         1  0.870292   allow\n",
              "...     ...       ...     ...\n",
              "62        1  0.870284   typic\n",
              "95        2  0.887411     use\n",
              "63        1  0.870311     way\n",
              "64        1  1.060957    will\n",
              "65        1  0.970118    word\n",
              "\n",
              "[94 rows x 3 columns], R=30, lambda_step=0.01, plot_opts={'xlab': 'PC1', 'ylab': 'PC2'}, topic_order=[3, 5, 1, 2, 4])"
            ]
          },
          "metadata": {
            "tags": []
          },
          "execution_count": 98
        }
      ]
    },
    {
      "cell_type": "markdown",
      "metadata": {
        "id": "ZbrrAyWuhVw-",
        "colab_type": "text"
      },
      "source": [
        "The area of circle represents the importance of each topic over the entire corpus, the distance between the center of circles indicate the similarity between topics. For each topic, the histogram on the right side listed the top 30 most relevant terms. LDA helped to extract 5 main topics from the documents A1 and A2.\n",
        "\n",
        "For topic 1, the top relevant terms are **document, topic, word, cat, appear, dog, will, model, and can**. Similarly, we can list the most imortant terms for topic 2."
      ]
    },
    {
      "cell_type": "markdown",
      "metadata": {
        "id": "PeyeDN3jyNJe",
        "colab_type": "text"
      },
      "source": [
        "### **Visualization of topics in articles A1 and A2 with Word Clouds**"
      ]
    },
    {
      "cell_type": "code",
      "metadata": {
        "id": "c4VjK-CFyR7K",
        "colab_type": "code",
        "outputId": "e7dfaa4c-7d43-498f-a1ad-f278e7fb7e5a",
        "colab": {
          "base_uri": "https://localhost:8080/",
          "height": 625
        }
      },
      "source": [
        "# 1. Wordcloud of Top N words in each topic\n",
        "from matplotlib import pyplot as plt\n",
        "from wordcloud import WordCloud, STOPWORDS\n",
        "import matplotlib.colors as mcolors\n",
        "\n",
        "cols = [color for name, color in mcolors.TABLEAU_COLORS.items()]  # more colors: 'mcolors.XKCD_COLORS'\n",
        "\n",
        "cloud = WordCloud(stopwords=stop_words,\n",
        "                  background_color='white',\n",
        "                  width=2500,\n",
        "                  height=1800,\n",
        "                  max_words=10,\n",
        "                  colormap='tab10',\n",
        "                  color_func=lambda *args, **kwargs: cols[i],\n",
        "                  prefer_horizontal=1.0)\n",
        "\n",
        "topics = ldamodel.show_topics(formatted=False)\n",
        "\n",
        "fig, axes = plt.subplots(2, 2, figsize=(10,10), sharex=True, sharey=True)\n",
        "\n",
        "for i, ax in enumerate(axes.flatten()):\n",
        "    fig.add_subplot(ax)\n",
        "    topic_words = dict(topics[i][1])\n",
        "    cloud.generate_from_frequencies(topic_words, max_font_size=300)\n",
        "    plt.gca().imshow(cloud)\n",
        "    plt.gca().set_title('Topic ' + str(i), fontdict=dict(size=16))\n",
        "    plt.gca().axis('off')\n",
        "\n",
        "\n",
        "plt.subplots_adjust(wspace=0, hspace=0)\n",
        "plt.axis('off')\n",
        "plt.margins(x=0, y=0)\n",
        "plt.tight_layout()\n",
        "plt.show()"
      ],
      "execution_count": 0,
      "outputs": [
        {
          "output_type": "display_data",
          "data": {
            "image/png": "[encoded data removed]",
            "text/plain": [
              "<Figure size 720x720 with 4 Axes>"
            ]
          },
          "metadata": {
            "tags": []
          }
        }
      ]
    },
    {
      "cell_type": "markdown",
      "metadata": {
        "id": "kOs7eb9ucdl-",
        "colab_type": "text"
      },
      "source": [
        "The visualization with Word Clouds gives the top 10 words in articles A1 and A2"
      ]
    },
    {
      "cell_type": "markdown",
      "metadata": {
        "id": "41KMq36RjA9U",
        "colab_type": "text"
      },
      "source": [
        "### **Training the MultinomialNB with X and Y data**"
      ]
    },
    {
      "cell_type": "markdown",
      "metadata": {
        "id": "ZhTOpF0HsUuD",
        "colab_type": "text"
      },
      "source": [
        "**Take the manual labels and topics from articles A1 and A2**"
      ]
    },
    {
      "cell_type": "markdown",
      "metadata": {
        "id": "4b5C7n4eryqD",
        "colab_type": "text"
      },
      "source": [
        "The output from articles A1 and A2 will be provided to the MultiNB model for training. The topics from both articles will become the x-axis and the manual labels will become the y-axis."
      ]
    },
    {
      "cell_type": "code",
      "metadata": {
        "id": "kT7aT_UQjI2t",
        "colab_type": "code",
        "outputId": "1c5d4afe-da4a-4fa9-9853-eee1efec3195",
        "colab": {
          "base_uri": "https://localhost:8080/",
          "height": 206
        }
      },
      "source": [
        "import pandas as pd\n",
        "\n",
        "article_A1_and_A2 = pd.DataFrame(final_lda_list_words) \n",
        "article_A1_and_A2['label'] = ['health', 'nlp', 'topicmodel', 'documentmodel', 'animals']\n",
        "article_A1_and_A2[\"topic\"] = article_A1_and_A2[0] +\" \"+ article_A1_and_A2[1] + \" \" + article_A1_and_A2[2] +\" \"+ article_A1_and_A2[3] + \" \" + article_A1_and_A2[4] +\" \"+ article_A1_and_A2[5] + \" \" + article_A1_and_A2[6] +\" \"+ article_A1_and_A2[7] + \" \" + article_A1_and_A2[8] +\" \"+ article_A1_and_A2[9]\n",
        "article_A1_and_A2.head()"
      ],
      "execution_count": 0,
      "outputs": [
        {
          "output_type": "execute_result",
          "data": {
            "text/html": [
              "<div>\n",
              "<style scoped>\n",
              "    .dataframe tbody tr th:only-of-type {\n",
              "        vertical-align: middle;\n",
              "    }\n",
              "\n",
              "    .dataframe tbody tr th {\n",
              "        vertical-align: top;\n",
              "    }\n",
              "\n",
              "    .dataframe thead th {\n",
              "        text-align: right;\n",
              "    }\n",
              "</style>\n",
              "<table border=\"1\" class=\"dataframe\">\n",
              "  <thead>\n",
              "    <tr style=\"text-align: right;\">\n",
              "      <th></th>\n",
              "      <th>0</th>\n",
              "      <th>1</th>\n",
              "      <th>2</th>\n",
              "      <th>3</th>\n",
              "      <th>4</th>\n",
              "      <th>5</th>\n",
              "      <th>6</th>\n",
              "      <th>7</th>\n",
              "      <th>8</th>\n",
              "      <th>9</th>\n",
              "      <th>label</th>\n",
              "      <th>topic</th>\n",
              "    </tr>\n",
              "  </thead>\n",
              "  <tbody>\n",
              "    <tr>\n",
              "      <th>0</th>\n",
              "      <td>document</td>\n",
              "      <td>word</td>\n",
              "      <td>topic</td>\n",
              "      <td>appear</td>\n",
              "      <td>dog</td>\n",
              "      <td>cat</td>\n",
              "      <td>will</td>\n",
              "      <td>model</td>\n",
              "      <td>can</td>\n",
              "      <td>collect</td>\n",
              "      <td>health</td>\n",
              "      <td>document word topic appear dog cat will model ...</td>\n",
              "    </tr>\n",
              "    <tr>\n",
              "      <th>1</th>\n",
              "      <td>document</td>\n",
              "      <td>word</td>\n",
              "      <td>topic</td>\n",
              "      <td>cat</td>\n",
              "      <td>appear</td>\n",
              "      <td>will</td>\n",
              "      <td>dog</td>\n",
              "      <td>can</td>\n",
              "      <td>model</td>\n",
              "      <td>particular</td>\n",
              "      <td>nlp</td>\n",
              "      <td>document word topic cat appear will dog can mo...</td>\n",
              "    </tr>\n",
              "    <tr>\n",
              "      <th>2</th>\n",
              "      <td>document</td>\n",
              "      <td>topic</td>\n",
              "      <td>word</td>\n",
              "      <td>cat</td>\n",
              "      <td>dog</td>\n",
              "      <td>appear</td>\n",
              "      <td>model</td>\n",
              "      <td>will</td>\n",
              "      <td>intuit</td>\n",
              "      <td>particular</td>\n",
              "      <td>topicmodel</td>\n",
              "      <td>document topic word cat dog appear model will ...</td>\n",
              "    </tr>\n",
              "    <tr>\n",
              "      <th>3</th>\n",
              "      <td>document</td>\n",
              "      <td>word</td>\n",
              "      <td>topic</td>\n",
              "      <td>model</td>\n",
              "      <td>will</td>\n",
              "      <td>dog</td>\n",
              "      <td>appear</td>\n",
              "      <td>particular</td>\n",
              "      <td>can</td>\n",
              "      <td>cat</td>\n",
              "      <td>documentmodel</td>\n",
              "      <td>document word topic model will dog appear part...</td>\n",
              "    </tr>\n",
              "    <tr>\n",
              "      <th>4</th>\n",
              "      <td>nlp</td>\n",
              "      <td>use</td>\n",
              "      <td>trial</td>\n",
              "      <td>match</td>\n",
              "      <td>moreov</td>\n",
              "      <td>look</td>\n",
              "      <td>engin</td>\n",
              "      <td>make</td>\n",
              "      <td>machin</td>\n",
              "      <td>essenti</td>\n",
              "      <td>animals</td>\n",
              "      <td>nlp use trial match moreov look engin make mac...</td>\n",
              "    </tr>\n",
              "  </tbody>\n",
              "</table>\n",
              "</div>"
            ],
            "text/plain": [
              "          0  ...                                              topic\n",
              "0  document  ...  document word topic appear dog cat will model ...\n",
              "1  document  ...  document word topic cat appear will dog can mo...\n",
              "2  document  ...  document topic word cat dog appear model will ...\n",
              "3  document  ...  document word topic model will dog appear part...\n",
              "4       nlp  ...  nlp use trial match moreov look engin make mac...\n",
              "\n",
              "[5 rows x 12 columns]"
            ]
          },
          "metadata": {
            "tags": []
          },
          "execution_count": 100
        }
      ]
    },
    {
      "cell_type": "markdown",
      "metadata": {
        "id": "4EzR9pjtshAn",
        "colab_type": "text"
      },
      "source": [
        "**Prepare and pre-process the data for MultiNB training**"
      ]
    },
    {
      "cell_type": "markdown",
      "metadata": {
        "id": "49uj7gMusoLj",
        "colab_type": "text"
      },
      "source": [
        "The output from articles A1 and A2 is pre-processed by removing stop words, puncuation marks, converting to lowercases before providing the input to the MultiNB for training."
      ]
    },
    {
      "cell_type": "code",
      "metadata": {
        "id": "lqYU7tm6jQps",
        "colab_type": "code",
        "outputId": "b01b917f-3335-4300-b51a-49b4b5bbe081",
        "colab": {
          "base_uri": "https://localhost:8080/",
          "height": 799
        }
      },
      "source": [
        "from sklearn.feature_extraction.text import CountVectorizer\n",
        "import string\n",
        "\n",
        "# For NLP\n",
        "import nltk\n",
        "from nltk.corpus import stopwords\n",
        "nltk.download('stopwords')\n",
        "\n",
        "def text_preprocess(text):\n",
        "  \n",
        "    # remove the punctuations from document\n",
        "    nopunc = [i for i in text if i not in string.punctuation]\n",
        "    nn = \"\".join(nopunc)\n",
        "    \n",
        "    # convert the text into lowercase\n",
        "    nn = nn.lower().split()\n",
        "    \n",
        "    # remove the stop words such as \"to\", \"the\", \"is\" etc:\n",
        "    nostop = [words for words in nn if words not in stopwords.words('english')]\n",
        "    return(nostop)\n",
        "\n",
        "cv_transformer = CountVectorizer(analyzer = text_preprocess)\n",
        "x = cv_transformer.fit_transform(article_A1_and_A2['topic'])\n",
        "print(x)\n",
        "y = article_A1_and_A2['label']"
      ],
      "execution_count": 0,
      "outputs": [
        {
          "output_type": "stream",
          "text": [
            "[nltk_data] Downloading package stopwords to /root/nltk_data...\n",
            "[nltk_data]   Package stopwords is already up-to-date!\n",
            "  (0, 3)\t1\n",
            "  (0, 19)\t1\n",
            "  (0, 16)\t1\n",
            "  (0, 0)\t1\n",
            "  (0, 4)\t1\n",
            "  (0, 1)\t1\n",
            "  (0, 12)\t1\n",
            "  (0, 2)\t1\n",
            "  (1, 3)\t1\n",
            "  (1, 19)\t1\n",
            "  (1, 16)\t1\n",
            "  (1, 0)\t1\n",
            "  (1, 4)\t1\n",
            "  (1, 1)\t1\n",
            "  (1, 12)\t1\n",
            "  (1, 15)\t1\n",
            "  (2, 3)\t1\n",
            "  (2, 19)\t1\n",
            "  (2, 16)\t1\n",
            "  (2, 0)\t1\n",
            "  (2, 4)\t1\n",
            "  (2, 1)\t1\n",
            "  (2, 12)\t1\n",
            "  (2, 15)\t1\n",
            "  (2, 7)\t1\n",
            "  (3, 3)\t1\n",
            "  (3, 19)\t1\n",
            "  (3, 16)\t1\n",
            "  (3, 0)\t1\n",
            "  (3, 4)\t1\n",
            "  (3, 1)\t1\n",
            "  (3, 12)\t1\n",
            "  (3, 15)\t1\n",
            "  (4, 14)\t1\n",
            "  (4, 18)\t1\n",
            "  (4, 17)\t1\n",
            "  (4, 11)\t1\n",
            "  (4, 13)\t1\n",
            "  (4, 8)\t1\n",
            "  (4, 5)\t1\n",
            "  (4, 10)\t1\n",
            "  (4, 9)\t1\n",
            "  (4, 6)\t1\n"
          ],
          "name": "stdout"
        }
      ]
    },
    {
      "cell_type": "markdown",
      "metadata": {
        "id": "4cvHOaeLtBPD",
        "colab_type": "text"
      },
      "source": [
        "**Split the data (topics and labels) into training and testing sets**"
      ]
    },
    {
      "cell_type": "code",
      "metadata": {
        "id": "85Y8cRZZjU2L",
        "colab_type": "code",
        "colab": {}
      },
      "source": [
        "from sklearn.model_selection import train_test_split\n",
        "x_train, x_test, y_train, y_test = train_test_split(x, y, test_size = 0.2, random_state = 101)"
      ],
      "execution_count": 0,
      "outputs": []
    },
    {
      "cell_type": "markdown",
      "metadata": {
        "id": "Sjjw91iMvBcE",
        "colab_type": "text"
      },
      "source": [
        "**Train the MultiNB model using 'fit' and 'predict' functions**"
      ]
    },
    {
      "cell_type": "code",
      "metadata": {
        "id": "SYy9ENLljZbo",
        "colab_type": "code",
        "outputId": "0ddb801f-0caf-4e3e-de22-bcdde5e6d48f",
        "colab": {
          "base_uri": "https://localhost:8080/",
          "height": 52
        }
      },
      "source": [
        "from sklearn.naive_bayes import MultinomialNB\n",
        "multi = MultinomialNB()\n",
        "multi.fit(x, y)\n",
        "MultinomialNB(alpha=1.0, class_prior=None, fit_prior=True)\n",
        "predictions = multi.predict(x)\n",
        "predictions"
      ],
      "execution_count": 0,
      "outputs": [
        {
          "output_type": "execute_result",
          "data": {
            "text/plain": [
              "array(['health', 'documentmodel', 'topicmodel', 'documentmodel',\n",
              "       'animals'], dtype='<U13')"
            ]
          },
          "metadata": {
            "tags": []
          },
          "execution_count": 103
        }
      ]
    },
    {
      "cell_type": "markdown",
      "metadata": {
        "id": "9lHPPis8jk8T",
        "colab_type": "text"
      },
      "source": [
        "### **Applying LDA on article A3**"
      ]
    },
    {
      "cell_type": "markdown",
      "metadata": {
        "id": "9R4daoiqv5TA",
        "colab_type": "text"
      },
      "source": [
        "**Select random document/article A3**"
      ]
    },
    {
      "cell_type": "markdown",
      "metadata": {
        "id": "a08lgyKKvUqK",
        "colab_type": "text"
      },
      "source": [
        "Select any random document A3. The article A3 provides explanation about the Deep learning concept"
      ]
    },
    {
      "cell_type": "code",
      "metadata": {
        "id": "JwUjUclGjnh4",
        "colab_type": "code",
        "colab": {}
      },
      "source": [
        "document_A3 = \"Deep learning is a class of machine learning algorithms that uses multiple layers to progressively extract higher level features from the raw input. For example, in image processing, lower layers may identify edges, while higher layers may identify the concepts relevant to a human such as digits or letters or faces.\""
      ],
      "execution_count": 0,
      "outputs": []
    },
    {
      "cell_type": "markdown",
      "metadata": {
        "id": "ixZnB_ovwAFo",
        "colab_type": "text"
      },
      "source": [
        "**Tokenization on article A3**"
      ]
    },
    {
      "cell_type": "markdown",
      "metadata": {
        "id": "m-0vypVvxivO",
        "colab_type": "text"
      },
      "source": [
        "The first line of the code below converts the sentences in document A3 to lowercase, the second line splits the text in A3 into tokens and, the last line prints the output. "
      ]
    },
    {
      "cell_type": "code",
      "metadata": {
        "id": "dFbNv3vbjsVr",
        "colab_type": "code",
        "outputId": "8bcf1c4a-cd65-41c7-eef5-532fc95662a0",
        "colab": {
          "base_uri": "https://localhost:8080/",
          "height": 54
        }
      },
      "source": [
        "from nltk.tokenize import RegexpTokenizer\n",
        "tokenizer = RegexpTokenizer(r'\\w+')\n",
        "\n",
        "raw_A3 = document_A3.lower()\n",
        "tokens_A3 = tokenizer.tokenize(raw_A3)\n",
        "\n",
        "print(tokens_A3)"
      ],
      "execution_count": 0,
      "outputs": [
        {
          "output_type": "stream",
          "text": [
            "['deep', 'learning', 'is', 'a', 'class', 'of', 'machine', 'learning', 'algorithms', 'that', 'uses', 'multiple', 'layers', 'to', 'progressively', 'extract', 'higher', 'level', 'features', 'from', 'the', 'raw', 'input', 'for', 'example', 'in', 'image', 'processing', 'lower', 'layers', 'may', 'identify', 'edges', 'while', 'higher', 'layers', 'may', 'identify', 'the', 'concepts', 'relevant', 'to', 'a', 'human', 'such', 'as', 'digits', 'or', 'letters', 'or', 'faces']\n"
          ],
          "name": "stdout"
        }
      ]
    },
    {
      "cell_type": "markdown",
      "metadata": {
        "id": "aoSbnf5uwDPg",
        "colab_type": "text"
      },
      "source": [
        "**Remove Stop Words from tokens in article A3**"
      ]
    },
    {
      "cell_type": "markdown",
      "metadata": {
        "id": "I9-zhzoIxv0y",
        "colab_type": "text"
      },
      "source": [
        "The first line of the code below removes the English stop words from tokens in article A3 and the second line prints the new list called **'stopped_tokens_A3'**"
      ]
    },
    {
      "cell_type": "code",
      "metadata": {
        "id": "FbXoa3LPjvYn",
        "colab_type": "code",
        "outputId": "2b27f902-3425-46f3-8978-bf7ca8ed3ab4",
        "colab": {
          "base_uri": "https://localhost:8080/",
          "height": 54
        }
      },
      "source": [
        "# remove stop words from tokens\n",
        "stopped_tokens_A3 = [i for i in tokens_A3 if not i in stop_words]\n",
        "\n",
        "print(stopped_tokens_A3)"
      ],
      "execution_count": 0,
      "outputs": [
        {
          "output_type": "stream",
          "text": [
            "['deep', 'learning', 'class', 'machine', 'learning', 'algorithms', 'uses', 'multiple', 'layers', 'progressively', 'extract', 'higher', 'level', 'features', 'raw', 'input', 'example', 'image', 'processing', 'lower', 'layers', 'may', 'identify', 'edges', 'higher', 'layers', 'may', 'identify', 'concepts', 'relevant', 'human', 'digits', 'letters', 'faces']\n"
          ],
          "name": "stdout"
        }
      ]
    },
    {
      "cell_type": "markdown",
      "metadata": {
        "id": "nXkM0TL2wHD2",
        "colab_type": "text"
      },
      "source": [
        "**Stemming on article A3**"
      ]
    },
    {
      "cell_type": "markdown",
      "metadata": {
        "id": "ZP2ubf3hxVL7",
        "colab_type": "text"
      },
      "source": [
        "In the code below, '.stem()' method is used to create a new stemmetized list called **texts_A3** for article A3, and the new list with stemmed words is printed."
      ]
    },
    {
      "cell_type": "code",
      "metadata": {
        "id": "EALJIMhkjycF",
        "colab_type": "code",
        "outputId": "fbc6ccc6-5f9a-4a7a-8a67-55af017fbf14",
        "colab": {
          "base_uri": "https://localhost:8080/",
          "height": 54
        }
      },
      "source": [
        "# stem token\n",
        "texts_A3 = [stemmer.stem(i) for i in stopped_tokens_A3]\n",
        "\n",
        "print(texts_A3)"
      ],
      "execution_count": 0,
      "outputs": [
        {
          "output_type": "stream",
          "text": [
            "['deep', 'learn', 'class', 'machin', 'learn', 'algorithm', 'use', 'multipl', 'layer', 'progress', 'extract', 'higher', 'level', 'featur', 'raw', 'input', 'exampl', 'imag', 'process', 'lower', 'layer', 'may', 'identifi', 'edg', 'higher', 'layer', 'may', 'identifi', 'concept', 'relev', 'human', 'digit', 'letter', 'face']\n"
          ],
          "name": "stdout"
        }
      ]
    },
    {
      "cell_type": "markdown",
      "metadata": {
        "id": "wY_2GNzywTJE",
        "colab_type": "text"
      },
      "source": [
        "**Preparing Document-Term Matrix for LDA**"
      ]
    },
    {
      "cell_type": "markdown",
      "metadata": {
        "id": "23DqviesyQzI",
        "colab_type": "text"
      },
      "source": [
        "The first line creates the term dictionary of the corpus,where every unique term is assigned an index. The second line converts the corpus into a Document-Term Matrix using dictionary prepared above, and the last line prints the corpus."
      ]
    },
    {
      "cell_type": "code",
      "metadata": {
        "id": "q_Lr66WUj1SR",
        "colab_type": "code",
        "outputId": "9818a60a-0a47-4f13-de7c-3bd6b1166d55",
        "colab": {
          "base_uri": "https://localhost:8080/",
          "height": 54
        }
      },
      "source": [
        "from gensim import corpora, models\n",
        "\n",
        "dictionary_A3 = corpora.Dictionary([texts_A3])\n",
        "corpus_A3 = [dictionary_A3.doc2bow(text) for text in [texts_A3]]\n",
        "\n",
        "print(corpus_A3)"
      ],
      "execution_count": 0,
      "outputs": [
        {
          "output_type": "stream",
          "text": [
            "[[(0, 1), (1, 1), (2, 1), (3, 1), (4, 1), (5, 1), (6, 1), (7, 1), (8, 1), (9, 1), (10, 2), (11, 1), (12, 2), (13, 1), (14, 1), (15, 3), (16, 2), (17, 1), (18, 1), (19, 1), (20, 1), (21, 2), (22, 1), (23, 1), (24, 1), (25, 1), (26, 1), (27, 1)]]\n"
          ],
          "name": "stdout"
        }
      ]
    },
    {
      "cell_type": "markdown",
      "metadata": {
        "id": "I7-ubntfwcCm",
        "colab_type": "text"
      },
      "source": [
        "**Create the LDA object and train the LDA model on document-term matrix**"
      ]
    },
    {
      "cell_type": "markdown",
      "metadata": {
        "id": "gIMltwyhydpK",
        "colab_type": "text"
      },
      "source": [
        "The first line of code below creates the LDA object and train the LDA object model on document-term matrix by providing the required parameters such as number of topics and dictionary. The second line takes the number of topics and maximum words in a topic in 'lda_result_list_A3'. The last line prints the list of topics found via LDA with the probability of occurence of each word in the topic."
      ]
    },
    {
      "cell_type": "code",
      "metadata": {
        "id": "OyGePcNfj7eJ",
        "colab_type": "code",
        "outputId": "5aa42fb3-96dc-4577-b08c-2303fb2e9424",
        "colab": {
          "base_uri": "https://localhost:8080/",
          "height": 1000
        }
      },
      "source": [
        "ldamodel = gensim.models.ldamodel.LdaModel(corpus, num_topics=5, id2word = dictionary, passes=20)\n",
        "lda_result_list_A3 = ldamodel.print_topics(num_topics=5, num_words=10)\n",
        "\n",
        "print(lda_result_list_A3)"
      ],
      "execution_count": 0,
      "outputs": [
        {
          "output_type": "stream",
          "text": [
            "[(0, '0.010*\"learn\" + 0.010*\"resolv\" + 0.010*\"moreov\" + 0.010*\"current\" + 0.010*\"look\" + 0.010*\"identifi\" + 0.010*\"healthcar\" + 0.010*\"essenti\" + 0.010*\"excit\" + 0.010*\"now\"'), (1, '0.075*\"document\" + 0.067*\"topic\" + 0.058*\"word\" + 0.034*\"appear\" + 0.034*\"cat\" + 0.034*\"dog\" + 0.026*\"will\" + 0.026*\"model\" + 0.018*\"intuit\" + 0.018*\"can\"'), (2, '0.057*\"use\" + 0.057*\"nlp\" + 0.057*\"trial\" + 0.039*\"match\" + 0.021*\"case\" + 0.021*\"like\" + 0.021*\"identifi\" + 0.021*\"advanc\" + 0.021*\"process\" + 0.021*\"make\"'), (3, '0.010*\"document\" + 0.010*\"topic\" + 0.010*\"cat\" + 0.010*\"word\" + 0.010*\"dog\" + 0.010*\"model\" + 0.010*\"appear\" + 0.010*\"particular\" + 0.010*\"will\" + 0.010*\"collect\"'), (4, '0.011*\"document\" + 0.010*\"topic\" + 0.010*\"word\" + 0.010*\"dog\" + 0.010*\"appear\" + 0.010*\"cat\" + 0.010*\"model\" + 0.010*\"will\" + 0.010*\"particular\" + 0.010*\"collect\"')]\n"
          ],
          "name": "stdout"
        },
        {
          "output_type": "stream",
          "text": [
            "/usr/local/lib/python3.6/dist-packages/gensim/models/ldamodel.py:1077: DeprecationWarning: Calling np.sum(generator) is deprecated, and in the future will give a different result. Use np.sum(np.fromiter(generator)) or the python sum builtin instead.\n",
            "  score += np.sum(cnt * logsumexp(Elogthetad + Elogbeta[:, int(id)]) for id, cnt in doc)\n",
            "/usr/local/lib/python3.6/dist-packages/gensim/models/ldamodel.py:1077: DeprecationWarning: Calling np.sum(generator) is deprecated, and in the future will give a different result. Use np.sum(np.fromiter(generator)) or the python sum builtin instead.\n",
            "  score += np.sum(cnt * logsumexp(Elogthetad + Elogbeta[:, int(id)]) for id, cnt in doc)\n",
            "/usr/local/lib/python3.6/dist-packages/gensim/models/ldamodel.py:1077: DeprecationWarning: Calling np.sum(generator) is deprecated, and in the future will give a different result. Use np.sum(np.fromiter(generator)) or the python sum builtin instead.\n",
            "  score += np.sum(cnt * logsumexp(Elogthetad + Elogbeta[:, int(id)]) for id, cnt in doc)\n",
            "/usr/local/lib/python3.6/dist-packages/gensim/models/ldamodel.py:1077: DeprecationWarning: Calling np.sum(generator) is deprecated, and in the future will give a different result. Use np.sum(np.fromiter(generator)) or the python sum builtin instead.\n",
            "  score += np.sum(cnt * logsumexp(Elogthetad + Elogbeta[:, int(id)]) for id, cnt in doc)\n",
            "/usr/local/lib/python3.6/dist-packages/gensim/models/ldamodel.py:1077: DeprecationWarning: Calling np.sum(generator) is deprecated, and in the future will give a different result. Use np.sum(np.fromiter(generator)) or the python sum builtin instead.\n",
            "  score += np.sum(cnt * logsumexp(Elogthetad + Elogbeta[:, int(id)]) for id, cnt in doc)\n",
            "/usr/local/lib/python3.6/dist-packages/gensim/models/ldamodel.py:1077: DeprecationWarning: Calling np.sum(generator) is deprecated, and in the future will give a different result. Use np.sum(np.fromiter(generator)) or the python sum builtin instead.\n",
            "  score += np.sum(cnt * logsumexp(Elogthetad + Elogbeta[:, int(id)]) for id, cnt in doc)\n",
            "/usr/local/lib/python3.6/dist-packages/gensim/models/ldamodel.py:1077: DeprecationWarning: Calling np.sum(generator) is deprecated, and in the future will give a different result. Use np.sum(np.fromiter(generator)) or the python sum builtin instead.\n",
            "  score += np.sum(cnt * logsumexp(Elogthetad + Elogbeta[:, int(id)]) for id, cnt in doc)\n",
            "/usr/local/lib/python3.6/dist-packages/gensim/models/ldamodel.py:1077: DeprecationWarning: Calling np.sum(generator) is deprecated, and in the future will give a different result. Use np.sum(np.fromiter(generator)) or the python sum builtin instead.\n",
            "  score += np.sum(cnt * logsumexp(Elogthetad + Elogbeta[:, int(id)]) for id, cnt in doc)\n",
            "/usr/local/lib/python3.6/dist-packages/gensim/models/ldamodel.py:1077: DeprecationWarning: Calling np.sum(generator) is deprecated, and in the future will give a different result. Use np.sum(np.fromiter(generator)) or the python sum builtin instead.\n",
            "  score += np.sum(cnt * logsumexp(Elogthetad + Elogbeta[:, int(id)]) for id, cnt in doc)\n",
            "/usr/local/lib/python3.6/dist-packages/gensim/models/ldamodel.py:1077: DeprecationWarning: Calling np.sum(generator) is deprecated, and in the future will give a different result. Use np.sum(np.fromiter(generator)) or the python sum builtin instead.\n",
            "  score += np.sum(cnt * logsumexp(Elogthetad + Elogbeta[:, int(id)]) for id, cnt in doc)\n",
            "/usr/local/lib/python3.6/dist-packages/gensim/models/ldamodel.py:1077: DeprecationWarning: Calling np.sum(generator) is deprecated, and in the future will give a different result. Use np.sum(np.fromiter(generator)) or the python sum builtin instead.\n",
            "  score += np.sum(cnt * logsumexp(Elogthetad + Elogbeta[:, int(id)]) for id, cnt in doc)\n",
            "/usr/local/lib/python3.6/dist-packages/gensim/models/ldamodel.py:1077: DeprecationWarning: Calling np.sum(generator) is deprecated, and in the future will give a different result. Use np.sum(np.fromiter(generator)) or the python sum builtin instead.\n",
            "  score += np.sum(cnt * logsumexp(Elogthetad + Elogbeta[:, int(id)]) for id, cnt in doc)\n",
            "/usr/local/lib/python3.6/dist-packages/gensim/models/ldamodel.py:1077: DeprecationWarning: Calling np.sum(generator) is deprecated, and in the future will give a different result. Use np.sum(np.fromiter(generator)) or the python sum builtin instead.\n",
            "  score += np.sum(cnt * logsumexp(Elogthetad + Elogbeta[:, int(id)]) for id, cnt in doc)\n",
            "/usr/local/lib/python3.6/dist-packages/gensim/models/ldamodel.py:1077: DeprecationWarning: Calling np.sum(generator) is deprecated, and in the future will give a different result. Use np.sum(np.fromiter(generator)) or the python sum builtin instead.\n",
            "  score += np.sum(cnt * logsumexp(Elogthetad + Elogbeta[:, int(id)]) for id, cnt in doc)\n",
            "/usr/local/lib/python3.6/dist-packages/gensim/models/ldamodel.py:1077: DeprecationWarning: Calling np.sum(generator) is deprecated, and in the future will give a different result. Use np.sum(np.fromiter(generator)) or the python sum builtin instead.\n",
            "  score += np.sum(cnt * logsumexp(Elogthetad + Elogbeta[:, int(id)]) for id, cnt in doc)\n",
            "/usr/local/lib/python3.6/dist-packages/gensim/models/ldamodel.py:1077: DeprecationWarning: Calling np.sum(generator) is deprecated, and in the future will give a different result. Use np.sum(np.fromiter(generator)) or the python sum builtin instead.\n",
            "  score += np.sum(cnt * logsumexp(Elogthetad + Elogbeta[:, int(id)]) for id, cnt in doc)\n",
            "/usr/local/lib/python3.6/dist-packages/gensim/models/ldamodel.py:1077: DeprecationWarning: Calling np.sum(generator) is deprecated, and in the future will give a different result. Use np.sum(np.fromiter(generator)) or the python sum builtin instead.\n",
            "  score += np.sum(cnt * logsumexp(Elogthetad + Elogbeta[:, int(id)]) for id, cnt in doc)\n",
            "/usr/local/lib/python3.6/dist-packages/gensim/models/ldamodel.py:1077: DeprecationWarning: Calling np.sum(generator) is deprecated, and in the future will give a different result. Use np.sum(np.fromiter(generator)) or the python sum builtin instead.\n",
            "  score += np.sum(cnt * logsumexp(Elogthetad + Elogbeta[:, int(id)]) for id, cnt in doc)\n",
            "/usr/local/lib/python3.6/dist-packages/gensim/models/ldamodel.py:1077: DeprecationWarning: Calling np.sum(generator) is deprecated, and in the future will give a different result. Use np.sum(np.fromiter(generator)) or the python sum builtin instead.\n",
            "  score += np.sum(cnt * logsumexp(Elogthetad + Elogbeta[:, int(id)]) for id, cnt in doc)\n",
            "/usr/local/lib/python3.6/dist-packages/gensim/models/ldamodel.py:1077: DeprecationWarning: Calling np.sum(generator) is deprecated, and in the future will give a different result. Use np.sum(np.fromiter(generator)) or the python sum builtin instead.\n",
            "  score += np.sum(cnt * logsumexp(Elogthetad + Elogbeta[:, int(id)]) for id, cnt in doc)\n",
            "/usr/local/lib/python3.6/dist-packages/gensim/models/ldamodel.py:1077: DeprecationWarning: Calling np.sum(generator) is deprecated, and in the future will give a different result. Use np.sum(np.fromiter(generator)) or the python sum builtin instead.\n",
            "  score += np.sum(cnt * logsumexp(Elogthetad + Elogbeta[:, int(id)]) for id, cnt in doc)\n",
            "/usr/local/lib/python3.6/dist-packages/gensim/models/ldamodel.py:1077: DeprecationWarning: Calling np.sum(generator) is deprecated, and in the future will give a different result. Use np.sum(np.fromiter(generator)) or the python sum builtin instead.\n",
            "  score += np.sum(cnt * logsumexp(Elogthetad + Elogbeta[:, int(id)]) for id, cnt in doc)\n",
            "/usr/local/lib/python3.6/dist-packages/gensim/models/ldamodel.py:1077: DeprecationWarning: Calling np.sum(generator) is deprecated, and in the future will give a different result. Use np.sum(np.fromiter(generator)) or the python sum builtin instead.\n",
            "  score += np.sum(cnt * logsumexp(Elogthetad + Elogbeta[:, int(id)]) for id, cnt in doc)\n",
            "/usr/local/lib/python3.6/dist-packages/gensim/models/ldamodel.py:1077: DeprecationWarning: Calling np.sum(generator) is deprecated, and in the future will give a different result. Use np.sum(np.fromiter(generator)) or the python sum builtin instead.\n",
            "  score += np.sum(cnt * logsumexp(Elogthetad + Elogbeta[:, int(id)]) for id, cnt in doc)\n",
            "/usr/local/lib/python3.6/dist-packages/gensim/models/ldamodel.py:1077: DeprecationWarning: Calling np.sum(generator) is deprecated, and in the future will give a different result. Use np.sum(np.fromiter(generator)) or the python sum builtin instead.\n",
            "  score += np.sum(cnt * logsumexp(Elogthetad + Elogbeta[:, int(id)]) for id, cnt in doc)\n",
            "/usr/local/lib/python3.6/dist-packages/gensim/models/ldamodel.py:1077: DeprecationWarning: Calling np.sum(generator) is deprecated, and in the future will give a different result. Use np.sum(np.fromiter(generator)) or the python sum builtin instead.\n",
            "  score += np.sum(cnt * logsumexp(Elogthetad + Elogbeta[:, int(id)]) for id, cnt in doc)\n",
            "/usr/local/lib/python3.6/dist-packages/gensim/models/ldamodel.py:1077: DeprecationWarning: Calling np.sum(generator) is deprecated, and in the future will give a different result. Use np.sum(np.fromiter(generator)) or the python sum builtin instead.\n",
            "  score += np.sum(cnt * logsumexp(Elogthetad + Elogbeta[:, int(id)]) for id, cnt in doc)\n",
            "/usr/local/lib/python3.6/dist-packages/gensim/models/ldamodel.py:1077: DeprecationWarning: Calling np.sum(generator) is deprecated, and in the future will give a different result. Use np.sum(np.fromiter(generator)) or the python sum builtin instead.\n",
            "  score += np.sum(cnt * logsumexp(Elogthetad + Elogbeta[:, int(id)]) for id, cnt in doc)\n",
            "/usr/local/lib/python3.6/dist-packages/gensim/models/ldamodel.py:1077: DeprecationWarning: Calling np.sum(generator) is deprecated, and in the future will give a different result. Use np.sum(np.fromiter(generator)) or the python sum builtin instead.\n",
            "  score += np.sum(cnt * logsumexp(Elogthetad + Elogbeta[:, int(id)]) for id, cnt in doc)\n",
            "/usr/local/lib/python3.6/dist-packages/gensim/models/ldamodel.py:1077: DeprecationWarning: Calling np.sum(generator) is deprecated, and in the future will give a different result. Use np.sum(np.fromiter(generator)) or the python sum builtin instead.\n",
            "  score += np.sum(cnt * logsumexp(Elogthetad + Elogbeta[:, int(id)]) for id, cnt in doc)\n",
            "/usr/local/lib/python3.6/dist-packages/gensim/models/ldamodel.py:1077: DeprecationWarning: Calling np.sum(generator) is deprecated, and in the future will give a different result. Use np.sum(np.fromiter(generator)) or the python sum builtin instead.\n",
            "  score += np.sum(cnt * logsumexp(Elogthetad + Elogbeta[:, int(id)]) for id, cnt in doc)\n",
            "/usr/local/lib/python3.6/dist-packages/gensim/models/ldamodel.py:1077: DeprecationWarning: Calling np.sum(generator) is deprecated, and in the future will give a different result. Use np.sum(np.fromiter(generator)) or the python sum builtin instead.\n",
            "  score += np.sum(cnt * logsumexp(Elogthetad + Elogbeta[:, int(id)]) for id, cnt in doc)\n",
            "/usr/local/lib/python3.6/dist-packages/gensim/models/ldamodel.py:1077: DeprecationWarning: Calling np.sum(generator) is deprecated, and in the future will give a different result. Use np.sum(np.fromiter(generator)) or the python sum builtin instead.\n",
            "  score += np.sum(cnt * logsumexp(Elogthetad + Elogbeta[:, int(id)]) for id, cnt in doc)\n",
            "/usr/local/lib/python3.6/dist-packages/gensim/models/ldamodel.py:1077: DeprecationWarning: Calling np.sum(generator) is deprecated, and in the future will give a different result. Use np.sum(np.fromiter(generator)) or the python sum builtin instead.\n",
            "  score += np.sum(cnt * logsumexp(Elogthetad + Elogbeta[:, int(id)]) for id, cnt in doc)\n",
            "/usr/local/lib/python3.6/dist-packages/gensim/models/ldamodel.py:1077: DeprecationWarning: Calling np.sum(generator) is deprecated, and in the future will give a different result. Use np.sum(np.fromiter(generator)) or the python sum builtin instead.\n",
            "  score += np.sum(cnt * logsumexp(Elogthetad + Elogbeta[:, int(id)]) for id, cnt in doc)\n",
            "/usr/local/lib/python3.6/dist-packages/gensim/models/ldamodel.py:1077: DeprecationWarning: Calling np.sum(generator) is deprecated, and in the future will give a different result. Use np.sum(np.fromiter(generator)) or the python sum builtin instead.\n",
            "  score += np.sum(cnt * logsumexp(Elogthetad + Elogbeta[:, int(id)]) for id, cnt in doc)\n",
            "/usr/local/lib/python3.6/dist-packages/gensim/models/ldamodel.py:1077: DeprecationWarning: Calling np.sum(generator) is deprecated, and in the future will give a different result. Use np.sum(np.fromiter(generator)) or the python sum builtin instead.\n",
            "  score += np.sum(cnt * logsumexp(Elogthetad + Elogbeta[:, int(id)]) for id, cnt in doc)\n",
            "/usr/local/lib/python3.6/dist-packages/gensim/models/ldamodel.py:1077: DeprecationWarning: Calling np.sum(generator) is deprecated, and in the future will give a different result. Use np.sum(np.fromiter(generator)) or the python sum builtin instead.\n",
            "  score += np.sum(cnt * logsumexp(Elogthetad + Elogbeta[:, int(id)]) for id, cnt in doc)\n",
            "/usr/local/lib/python3.6/dist-packages/gensim/models/ldamodel.py:1077: DeprecationWarning: Calling np.sum(generator) is deprecated, and in the future will give a different result. Use np.sum(np.fromiter(generator)) or the python sum builtin instead.\n",
            "  score += np.sum(cnt * logsumexp(Elogthetad + Elogbeta[:, int(id)]) for id, cnt in doc)\n",
            "/usr/local/lib/python3.6/dist-packages/gensim/models/ldamodel.py:1077: DeprecationWarning: Calling np.sum(generator) is deprecated, and in the future will give a different result. Use np.sum(np.fromiter(generator)) or the python sum builtin instead.\n",
            "  score += np.sum(cnt * logsumexp(Elogthetad + Elogbeta[:, int(id)]) for id, cnt in doc)\n"
          ],
          "name": "stderr"
        }
      ]
    },
    {
      "cell_type": "markdown",
      "metadata": {
        "id": "yo6Vm5gpwmXg",
        "colab_type": "text"
      },
      "source": [
        "**Prepare the final list of topics**"
      ]
    },
    {
      "cell_type": "markdown",
      "metadata": {
        "id": "hNvXlk9Mys5b",
        "colab_type": "text"
      },
      "source": [
        "In the code below, the words in each topic is split into comma separated values and the new list 'final_lda_list_words_A3' is printed."
      ]
    },
    {
      "cell_type": "code",
      "metadata": {
        "id": "rtyYIIyJj-ig",
        "colab_type": "code",
        "outputId": "66abdbee-c34b-4907-9d42-bebd447aa1b3",
        "colab": {
          "base_uri": "https://localhost:8080/",
          "height": 54
        }
      },
      "source": [
        "def doit(text):      \n",
        "  import re\n",
        "  matches=re.findall(r'\\\"(.+?)\\\"',text)\n",
        "  return \",\".join(matches)\n",
        "\n",
        "final_lda_list_words_A3 = []\n",
        "for each_topic in lda_result_list_A3:\n",
        "  new_list = []\n",
        "  string_value = doit(each_topic[1])\n",
        "  #print(string_value.split(\",\"))\n",
        "  final_lda_list_words_A3.append(string_value.split(\",\"))\n",
        "\n",
        "print(final_lda_list_words_A3)"
      ],
      "execution_count": 0,
      "outputs": [
        {
          "output_type": "stream",
          "text": [
            "[['learn', 'resolv', 'moreov', 'current', 'look', 'identifi', 'healthcar', 'essenti', 'excit', 'now'], ['document', 'topic', 'word', 'appear', 'cat', 'dog', 'will', 'model', 'intuit', 'can'], ['use', 'nlp', 'trial', 'match', 'case', 'like', 'identifi', 'advanc', 'process', 'make'], ['document', 'topic', 'cat', 'word', 'dog', 'model', 'appear', 'particular', 'will', 'collect'], ['document', 'topic', 'word', 'dog', 'appear', 'cat', 'model', 'will', 'particular', 'collect']]\n"
          ],
          "name": "stdout"
        }
      ]
    },
    {
      "cell_type": "markdown",
      "metadata": {
        "id": "IhB389G1Ck3j",
        "colab_type": "text"
      },
      "source": [
        "### **Visualization of topics in article A3 with pyLDAVis**"
      ]
    },
    {
      "cell_type": "code",
      "metadata": {
        "id": "0KsWEJymClHb",
        "colab_type": "code",
        "outputId": "7293a49c-93ab-498f-d47e-4773aa2df627",
        "colab": {
          "base_uri": "https://localhost:8080/",
          "height": 1000
        }
      },
      "source": [
        "import pyLDAvis.gensim\n",
        "import pyLDAvis.sklearn\n",
        "pyLDAvis.enable_notebook()\n",
        "vis = pyLDAvis.gensim.prepare(ldamodel, corpus, dictionary=ldamodel.id2word)\n",
        "vis"
      ],
      "execution_count": 0,
      "outputs": [
        {
          "output_type": "stream",
          "text": [
            "/usr/local/lib/python3.6/dist-packages/pyLDAvis/_prepare.py:257: FutureWarning: Sorting because non-concatenation axis is not aligned. A future version\n",
            "of pandas will change to not sort by default.\n",
            "\n",
            "To accept the future behavior, pass 'sort=False'.\n",
            "\n",
            "To retain the current behavior and silence the warning, pass 'sort=True'.\n",
            "\n",
            "  return pd.concat([default_term_info] + list(topic_dfs))\n"
          ],
          "name": "stderr"
        },
        {
          "output_type": "execute_result",
          "data": {
            "text/html": [
              "\n",
              "<link rel=\"stylesheet\" type=\"text/css\" href=\"https://cdn.rawgit.com/bmabey/pyLDAvis/files/ldavis.v1.0.0.css\">\n",
              "\n",
              "\n",
              "<div id=\"ldavis_el121139974424897480264478914\"></div>\n",
              "<script type=\"text/javascript\">\n",
              "\n",
              "var ldavis_el121139974424897480264478914_data = {\"mdsDat\": {\"x\": [-0.1608775739703551, 0.16400008027632823, -0.001120665689458464, -0.000987063952602214, -0.0010147766639124782], \"y\": [0.0, 0.0, -0.0, -0.0, 0.0], \"topics\": [1, 2, 3, 4, 5], \"cluster\": [1, 1, 1, 1, 1], \"Freq\": [73.33467864990234, 25.829038619995117, 0.2787586450576782, 0.2787581980228424, 0.27875816822052]}, \"tinfo\": {\"Category\": [\"Default\", \"Default\", \"Default\", \"Default\", \"Default\", \"Default\", \"Default\", \"Default\", \"Default\", \"Default\", \"Default\", \"Default\", \"Default\", \"Default\", \"Default\", \"Default\", \"Default\", \"Default\", \"Default\", \"Default\", \"Default\", \"Default\", \"Default\", \"Default\", \"Default\", \"Default\", \"Default\", \"Default\", \"Default\", \"Default\", \"Topic1\", \"Topic1\", \"Topic1\", \"Topic1\", \"Topic1\", \"Topic1\", \"Topic1\", \"Topic1\", \"Topic1\", \"Topic1\", \"Topic1\", \"Topic1\", \"Topic1\", \"Topic1\", \"Topic1\", \"Topic1\", \"Topic1\", \"Topic1\", \"Topic1\", \"Topic1\", \"Topic1\", \"Topic1\", \"Topic1\", \"Topic1\", \"Topic1\", \"Topic1\", \"Topic1\", \"Topic1\", \"Topic1\", \"Topic1\", \"Topic2\", \"Topic2\", \"Topic2\", \"Topic2\", \"Topic2\", \"Topic2\", \"Topic2\", \"Topic2\", \"Topic2\", \"Topic2\", \"Topic2\", \"Topic2\", \"Topic2\", \"Topic2\", \"Topic2\", \"Topic2\", \"Topic2\", \"Topic2\", \"Topic2\", \"Topic2\", \"Topic2\", \"Topic2\", \"Topic2\", \"Topic2\", \"Topic2\", \"Topic2\", \"Topic2\", \"Topic2\", \"Topic2\", \"Topic2\", \"Topic3\", \"Topic3\", \"Topic3\", \"Topic3\", \"Topic3\", \"Topic3\", \"Topic3\", \"Topic3\", \"Topic3\", \"Topic3\", \"Topic3\", \"Topic3\", \"Topic3\", \"Topic3\", \"Topic3\", \"Topic3\", \"Topic3\", \"Topic3\", \"Topic3\", \"Topic3\", \"Topic3\", \"Topic3\", \"Topic3\", \"Topic3\", \"Topic3\", \"Topic3\", \"Topic3\", \"Topic3\", \"Topic3\", \"Topic3\", \"Topic3\", \"Topic3\", \"Topic3\", \"Topic3\", \"Topic3\", \"Topic3\", \"Topic3\", \"Topic3\", \"Topic3\", \"Topic3\", \"Topic3\", \"Topic3\", \"Topic3\", \"Topic3\", \"Topic3\", \"Topic3\", \"Topic3\", \"Topic3\", \"Topic3\", \"Topic3\", \"Topic3\", \"Topic3\", \"Topic3\", \"Topic3\", \"Topic3\", \"Topic3\", \"Topic4\", \"Topic4\", \"Topic4\", \"Topic4\", \"Topic4\", \"Topic4\", \"Topic4\", \"Topic4\", \"Topic4\", \"Topic4\", \"Topic4\", \"Topic4\", \"Topic4\", \"Topic4\", \"Topic4\", \"Topic4\", \"Topic4\", \"Topic4\", \"Topic4\", \"Topic4\", \"Topic4\", \"Topic4\", \"Topic4\", \"Topic4\", \"Topic4\", \"Topic4\", \"Topic4\", \"Topic4\", \"Topic4\", \"Topic4\", \"Topic4\", \"Topic4\", \"Topic4\", \"Topic4\", \"Topic4\", \"Topic4\", \"Topic4\", \"Topic4\", \"Topic5\", \"Topic5\", \"Topic5\", \"Topic5\", \"Topic5\", \"Topic5\", \"Topic5\", \"Topic5\", \"Topic5\", \"Topic5\", \"Topic5\", \"Topic5\", \"Topic5\", \"Topic5\", \"Topic5\", \"Topic5\", \"Topic5\", \"Topic5\", \"Topic5\", \"Topic5\", \"Topic5\", \"Topic5\", \"Topic5\", \"Topic5\", \"Topic5\", \"Topic5\", \"Topic5\", \"Topic5\", \"Topic5\", \"Topic5\", \"Topic5\", \"Topic5\", \"Topic5\", \"Topic5\", \"Topic5\", \"Topic5\", \"Topic5\", \"Topic5\", \"Topic5\", \"Topic5\", \"Topic5\", \"Topic5\", \"Topic5\", \"Topic5\", \"Topic5\", \"Topic5\", \"Topic5\", \"Topic5\", \"Topic5\", \"Topic5\", \"Topic5\", \"Topic5\", \"Topic5\", \"Topic5\", \"Topic5\", \"Topic5\"], \"Freq\": [7.0, 7.0, 6.0, 3.0, 3.0, 3.0, 2.0, 2.0, 1.0, 1.0, 1.0, 1.0, 2.0, 2.0, 2.0, 1.0, 1.0, 1.0, 1.0, 1.0, 1.0, 1.0, 1.0, 1.0, 1.0, 1.0, 1.0, 1.0, 1.0, 1.0, 7.721169471740723, 6.882111549377441, 6.043079853057861, 3.5250260829925537, 3.525012254714966, 3.52494740486145, 2.685770273208618, 2.685669183731079, 1.8464791774749756, 1.8464722633361816, 1.846429467201233, 1.846364140510559, 1.007207989692688, 1.0071938037872314, 1.0071938037872314, 1.0071899890899658, 1.0071841478347778, 1.0071840286254883, 1.0071824789047241, 1.0071808099746704, 1.0071793794631958, 1.0071768760681152, 1.007177710533142, 1.0071724653244019, 1.0071721076965332, 1.007171869277954, 1.0071699619293213, 1.007169485092163, 1.0071710348129272, 1.007169246673584, 2.0736725330352783, 2.073662042617798, 2.073657274246216, 1.4256517887115479, 0.7776290774345398, 0.7776278257369995, 0.777626633644104, 0.7776257991790771, 0.7776251435279846, 0.7776243686676025, 0.7776243686676025, 0.7776245474815369, 0.7776241302490234, 0.7776243090629578, 0.7776238918304443, 0.77762371301651, 0.7776240110397339, 0.777623176574707, 0.777623176574707, 0.7776225209236145, 0.777622401714325, 0.7776222229003906, 0.7776217460632324, 0.7776218056678772, 0.777621328830719, 0.7776214480400085, 0.777620255947113, 0.7776204347610474, 0.7776199579238892, 0.7776192426681519, 0.004090171307325363, 0.0040901717729866505, 0.004090171307325363, 0.004090171307325363, 0.0040901717729866505, 0.0040901717729866505, 0.0040901717729866505, 0.004090171307325363, 0.004090171307325363, 0.004090171307325363, 0.0040901717729866505, 0.0040901717729866505, 0.004090171307325363, 0.0040901717729866505, 0.0040901717729866505, 0.0040901717729866505, 0.004090171307325363, 0.0040901717729866505, 0.0040901717729866505, 0.004090171307325363, 0.004090170841664076, 0.004090171307325363, 0.004090171307325363, 0.004090171307325363, 0.004090171307325363, 0.0040901717729866505, 0.004095420707017183, 0.004094845149666071, 0.004094900097697973, 0.004094856791198254, 0.004128302913159132, 0.004119396675378084, 0.004112381488084793, 0.004105900414288044, 0.0041049327701330185, 0.004103729967027903, 0.00410189013928175, 0.004100814927369356, 0.004099130630493164, 0.0040979995392262936, 0.004097240045666695, 0.004097125958651304, 0.00409482978284359, 0.004094714764505625, 0.004094657022505999, 0.004094602540135384, 0.004094505216926336, 0.004094463773071766, 0.004094437230378389, 0.004094415344297886, 0.004094344098120928, 0.004094340372830629, 0.004094304051250219, 0.004094296135008335, 0.004094295669347048, 0.004094237461686134, 0.004094271454960108, 0.004094272386282682, 0.004094271920621395, 0.004094271920621395, 0.004094271920621395, 0.004094271920621395, 0.004094271920621395, 0.004094271920621395, 0.004094271454960108, 0.004094271920621395, 0.004094272386282682, 0.004094271920621395, 0.004094271454960108, 0.004094271454960108, 0.004094271454960108, 0.004094271920621395, 0.004094271454960108, 0.004094271920621395, 0.004094271920621395, 0.004094271454960108, 0.004094271454960108, 0.004094271454960108, 0.004094271454960108, 0.004094271920621395, 0.004094271454960108, 0.004094271454960108, 0.004094258416444063, 0.004094258416444063, 0.004094258416444063, 0.004094258416444063, 0.004094258416444063, 0.004094258416444063, 0.004094258416444063, 0.004094258416444063, 0.004094264470040798, 0.004094265401363373, 0.004094264470040798, 0.004094263538718224, 0.004093530122190714, 0.004093505907803774, 0.004093497525900602, 0.004093492869287729, 0.004093463066965342, 0.00409345980733633, 0.004093450494110584, 0.004093448165804148, 0.004093436058610678, 0.00409343047067523, 0.004093423951417208, 0.004093407653272152, 0.004093407653272152, 0.004093391355127096, 0.00409338204190135, 0.004093380644917488, 0.004093375988304615, 0.00409336993470788, 0.004093368537724018, 0.004093368537724018, 0.004093364346772432, 0.004093344323337078, 0.004093322437256575, 0.004093295894563198, 0.004093259572982788, 0.004093220457434654, 0.004094510804861784, 0.0040946053341031075, 0.004094450734555721, 0.004094311967492104, 0.004094348289072514, 0.004102571401745081, 0.004101403523236513, 0.004097962286323309, 0.004097706638276577, 0.004097363445907831, 0.00409667519852519, 0.004096414428204298, 0.004095384851098061, 0.004095285199582577, 0.004094916861504316, 0.004094638861715794, 0.004094577860087156, 0.004094552248716354, 0.004094402305781841, 0.004094336181879044, 0.004094298463314772, 0.004094293806701899, 0.004094262607395649, 0.004094246309250593, 0.004094243980944157, 0.004094210918992758, 0.004094208125025034, 0.004094197414815426, 0.00409419322386384, 0.004094173200428486], \"Term\": [\"document\", \"topic\", \"word\", \"dog\", \"cat\", \"appear\", \"model\", \"will\", \"particular\", \"collect\", \"can\", \"intuit\", \"trial\", \"nlp\", \"use\", \"match\", \"expect\", \"proport\", \"discov\", \"also\", \"multipl\", \"base\", \"10\", \"text\", \"one\", \"frequent\", \"describ\", \"allow\", \"find\", \"pattern\", \"document\", \"topic\", \"word\", \"appear\", \"cat\", \"dog\", \"will\", \"model\", \"intuit\", \"can\", \"collect\", \"particular\", \"produc\", \"mine\", \"typic\", \"thu\", \"given\", \"bone\", \"meow\", \"9\", \"obtain\", \"less\", \"way\", \"materi\", \"group\", \"cluster\", \"inform\", \"captur\", \"might\", \"techniqu\", \"use\", \"nlp\", \"trial\", \"match\", \"case\", \"like\", \"identifi\", \"advanc\", \"process\", \"seamless\", \"current\", \"make\", \"tri\", \"essenti\", \"engin\", \"compani\", \"patient\", \"moreov\", \"clinic\", \"learn\", \"potenti\", \"machin\", \"autom\", \"healthcar\", \"look\", \"excit\", \"area\", \"now\", \"resolv\", \"challeng\", \"challeng\", \"resolv\", \"area\", \"now\", \"look\", \"excit\", \"autom\", \"healthcar\", \"machin\", \"potenti\", \"learn\", \"moreov\", \"clinic\", \"compani\", \"engin\", \"patient\", \"tri\", \"seamless\", \"current\", \"essenti\", \"make\", \"process\", \"advanc\", \"identifi\", \"like\", \"case\", \"expect\", \"proport\", \"10\", \"base\", \"document\", \"topic\", \"word\", \"dog\", \"appear\", \"cat\", \"model\", \"will\", \"particular\", \"collect\", \"can\", \"intuit\", \"discov\", \"text\", \"frequent\", \"allow\", \"multipl\", \"equal\", \"also\", \"differ\", \"s\", \"one\", \"examin\", \"describ\", \"pattern\", \"balanc\", \"challeng\", \"resolv\", \"area\", \"now\", \"look\", \"excit\", \"autom\", \"healthcar\", \"machin\", \"potenti\", \"learn\", \"moreov\", \"clinic\", \"compani\", \"engin\", \"tri\", \"patient\", \"essenti\", \"current\", \"seamless\", \"make\", \"process\", \"advanc\", \"identifi\", \"like\", \"case\", \"expect\", \"proport\", \"also\", \"discov\", \"10\", \"multipl\", \"one\", \"s\", \"trial\", \"use\", \"match\", \"nlp\", \"challeng\", \"resolv\", \"area\", \"now\", \"look\", \"excit\", \"autom\", \"healthcar\", \"machin\", \"potenti\", \"learn\", \"clinic\", \"moreov\", \"compani\", \"engin\", \"patient\", \"tri\", \"essenti\", \"seamless\", \"current\", \"make\", \"process\", \"advanc\", \"identifi\", \"like\", \"case\", \"find\", \"captur\", \"concern\", \"also\", \"set\", \"document\", \"topic\", \"cat\", \"word\", \"dog\", \"model\", \"appear\", \"particular\", \"will\", \"collect\", \"can\", \"intuit\", \"trial\", \"nlp\", \"often\", \"less\", \"90\", \"produc\", \"statist\", \"describ\", \"one\", \"proport\", \"probabl\", \"repres\", \"recur\"], \"Total\": [7.0, 7.0, 6.0, 3.0, 3.0, 3.0, 2.0, 2.0, 1.0, 1.0, 1.0, 1.0, 2.0, 2.0, 2.0, 1.0, 1.0, 1.0, 1.0, 1.0, 1.0, 1.0, 1.0, 1.0, 1.0, 1.0, 1.0, 1.0, 1.0, 1.0, 7.863102436065674, 7.024034023284912, 6.184991836547852, 3.666929244995117, 3.6669156551361084, 3.6668524742126465, 2.8276681900024414, 2.8275697231292725, 1.988372564315796, 1.9883657693862915, 1.9883241653442383, 1.9882603883743286, 1.1490966081619263, 1.1490826606750488, 1.1490826606750488, 1.1490789651870728, 1.1490732431411743, 1.1490731239318848, 1.1490716934204102, 1.1490700244903564, 1.1490685939788818, 1.1490660905838013, 1.1490670442581177, 1.1490617990493774, 1.1490615606307983, 1.1490612030029297, 1.1490594148635864, 1.1490589380264282, 1.149060606956482, 1.1490586996078491, 2.253845691680908, 2.253835678100586, 2.253830909729004, 1.6058244705200195, 0.9578014016151428, 0.9578001499176025, 0.9577990174293518, 0.9577982425689697, 0.9577975869178772, 0.9577968120574951, 0.9577968120574951, 0.9577969908714294, 0.957796573638916, 0.9577967524528503, 0.9577963948249817, 0.9577962160110474, 0.9577965140342712, 0.9577956795692444, 0.9577956795692444, 0.9577950239181519, 0.9577949047088623, 0.957794725894928, 0.9577943086624146, 0.9577943682670593, 0.9577938914299011, 0.9577940106391907, 0.9577928185462952, 0.9577929973602295, 0.9577925801277161, 0.9577918648719788, 0.9577918648719788, 0.9577925801277161, 0.9577928185462952, 0.9577929973602295, 0.9577938914299011, 0.9577940106391907, 0.9577943086624146, 0.9577943682670593, 0.957794725894928, 0.9577949047088623, 0.9577950239181519, 0.9577956795692444, 0.9577956795692444, 0.9577962160110474, 0.9577963948249817, 0.9577965140342712, 0.957796573638916, 0.9577968120574951, 0.9577968120574951, 0.9577967524528503, 0.9577969908714294, 0.9577975869178772, 0.9577982425689697, 0.9577990174293518, 0.9578001499176025, 0.9578014016151428, 1.1489956378936768, 1.1490075588226318, 1.1490250825881958, 1.149024248123169, 7.863102436065674, 7.024034023284912, 6.184991836547852, 3.6668524742126465, 3.666929244995117, 3.6669156551361084, 2.8275697231292725, 2.8276681900024414, 1.9882603883743286, 1.9883241653442383, 1.9883657693862915, 1.988372564315796, 1.1490195989608765, 1.1490259170532227, 1.149027705192566, 1.1490291357040405, 1.1490237712860107, 1.1490366458892822, 1.1490195989608765, 1.1490349769592285, 1.1490330696105957, 1.1490275859832764, 1.1490439176559448, 1.149027943611145, 1.1490325927734375, 1.1490384340286255, 0.9577918648719788, 0.9577925801277161, 0.9577928185462952, 0.9577929973602295, 0.9577938914299011, 0.9577940106391907, 0.9577943086624146, 0.9577943682670593, 0.957794725894928, 0.9577949047088623, 0.9577950239181519, 0.9577956795692444, 0.9577956795692444, 0.9577962160110474, 0.9577963948249817, 0.957796573638916, 0.9577965140342712, 0.9577967524528503, 0.9577968120574951, 0.9577968120574951, 0.9577969908714294, 0.9577975869178772, 0.9577982425689697, 0.9577990174293518, 0.9578001499176025, 0.9578014016151428, 1.1489956378936768, 1.1490075588226318, 1.1490195989608765, 1.1490195989608765, 1.1490250825881958, 1.1490237712860107, 1.1490275859832764, 1.1490330696105957, 2.253830909729004, 2.253845691680908, 1.6058244705200195, 2.253835678100586, 0.9577918648719788, 0.9577925801277161, 0.9577928185462952, 0.9577929973602295, 0.9577938914299011, 0.9577940106391907, 0.9577943086624146, 0.9577943682670593, 0.957794725894928, 0.9577949047088623, 0.9577950239181519, 0.9577956795692444, 0.9577956795692444, 0.9577962160110474, 0.9577963948249817, 0.9577965140342712, 0.957796573638916, 0.9577967524528503, 0.9577968120574951, 0.9577968120574951, 0.9577969908714294, 0.9577975869178772, 0.9577982425689697, 0.9577990174293518, 0.9578001499176025, 0.9578014016151428, 1.1490318775177002, 1.1490589380264282, 1.1490378379821777, 1.1490195989608765, 1.1490442752838135, 7.863102436065674, 7.024034023284912, 3.6669156551361084, 6.184991836547852, 3.6668524742126465, 2.8275697231292725, 3.666929244995117, 1.9882603883743286, 2.8276681900024414, 1.9883241653442383, 1.9883657693862915, 1.988372564315796, 2.253830909729004, 2.253835678100586, 1.1490552425384521, 1.1490660905838013, 1.1490360498428345, 1.1490966081619263, 1.1490516662597656, 1.149027943611145, 1.1490275859832764, 1.1490075588226318, 1.149051308631897, 1.1490371227264404, 1.1490575075149536], \"loglift\": [30.0, 29.0, 28.0, 27.0, 26.0, 25.0, 24.0, 23.0, 22.0, 21.0, 20.0, 19.0, 18.0, 17.0, 16.0, 15.0, 14.0, 13.0, 12.0, 11.0, 10.0, 9.0, 8.0, 7.0, 6.0, 5.0, 4.0, 3.0, 2.0, 1.0, 0.29190000891685486, 0.2897000014781952, 0.28690001368522644, 0.27070000767707825, 0.27070000767707825, 0.27070000767707825, 0.25870001316070557, 0.25859999656677246, 0.2361000031232834, 0.2361000031232834, 0.2361000031232834, 0.2361000031232834, 0.17829999327659607, 0.17829999327659607, 0.17829999327659607, 0.17829999327659607, 0.17829999327659607, 0.17829999327659607, 0.17829999327659607, 0.17829999327659607, 0.17829999327659607, 0.17829999327659607, 0.17829999327659607, 0.17829999327659607, 0.17829999327659607, 0.17829999327659607, 0.17829999327659607, 0.17829999327659607, 0.17829999327659607, 0.17829999327659607, 1.270400047302246, 1.270400047302246, 1.270400047302246, 1.2346999645233154, 1.145300030708313, 1.145300030708313, 1.145300030708313, 1.145300030708313, 1.145300030708313, 1.145300030708313, 1.145300030708313, 1.145300030708313, 1.145300030708313, 1.145300030708313, 1.145300030708313, 1.145300030708313, 1.145300030708313, 1.145300030708313, 1.145300030708313, 1.145300030708313, 1.145300030708313, 1.145300030708313, 1.145300030708313, 1.145300030708313, 1.145300030708313, 1.145300030708313, 1.145300030708313, 1.145300030708313, 1.145300030708313, 1.145300030708313, 0.42649999260902405, 0.42649999260902405, 0.42649999260902405, 0.42649999260902405, 0.42649999260902405, 0.42649999260902405, 0.42649999260902405, 0.42649999260902405, 0.42649999260902405, 0.42649999260902405, 0.42649999260902405, 0.42649999260902405, 0.42649999260902405, 0.42649999260902405, 0.42649999260902405, 0.42649999260902405, 0.42649999260902405, 0.42649999260902405, 0.42649999260902405, 0.42649999260902405, 0.42649999260902405, 0.42649999260902405, 0.42649999260902405, 0.42649999260902405, 0.42649999260902405, 0.42649999260902405, 0.24580000340938568, 0.24570000171661377, 0.24570000171661377, 0.24560000002384186, -1.6694999933242798, -1.5587999820709229, -1.4333000183105469, -0.9121000170707703, -0.9122999906539917, -0.9125999808311462, -0.6531000137329102, -0.6534000039100647, -0.30169999599456787, -0.3019999861717224, -0.30219998955726624, -0.30219998955726624, 0.24560000002384186, 0.24560000002384186, 0.24560000002384186, 0.24560000002384186, 0.24560000002384186, 0.24549999833106995, 0.24549999833106995, 0.24549999833106995, 0.24549999833106995, 0.24549999833106995, 0.24549999833106995, 0.24549999833106995, 0.24549999833106995, 0.24549999833106995, 0.42750000953674316, 0.42750000953674316, 0.42750000953674316, 0.42750000953674316, 0.42750000953674316, 0.42750000953674316, 0.42750000953674316, 0.42750000953674316, 0.42750000953674316, 0.42750000953674316, 0.42750000953674316, 0.42750000953674316, 0.42750000953674316, 0.42750000953674316, 0.42750000953674316, 0.42750000953674316, 0.42750000953674316, 0.42750000953674316, 0.42750000953674316, 0.42750000953674316, 0.42750000953674316, 0.42750000953674316, 0.42750000953674316, 0.42750000953674316, 0.42750000953674316, 0.42750000953674316, 0.24549999833106995, 0.24549999833106995, 0.24549999833106995, 0.24549999833106995, 0.24549999833106995, 0.24549999833106995, 0.24549999833106995, 0.24549999833106995, -0.42820000648498535, -0.42820000648498535, -0.08919999748468399, -0.42820000648498535, 0.42739999294281006, 0.42739999294281006, 0.42730000615119934, 0.42730000615119934, 0.42730000615119934, 0.42730000615119934, 0.42730000615119934, 0.42730000615119934, 0.42730000615119934, 0.42730000615119934, 0.42730000615119934, 0.42730000615119934, 0.42730000615119934, 0.42730000615119934, 0.42730000615119934, 0.42730000615119934, 0.42730000615119934, 0.42730000615119934, 0.42730000615119934, 0.42730000615119934, 0.42730000615119934, 0.42730000615119934, 0.42730000615119934, 0.42730000615119934, 0.42730000615119934, 0.42730000615119934, 0.24560000002384186, 0.24560000002384186, 0.24549999833106995, 0.24549999833106995, 0.24549999833106995, -1.6756999492645264, -1.5631999969482422, -0.9139999747276306, -1.436900019645691, -0.9142000079154968, -0.6543999910354614, -0.9143999814987183, -0.3025999963283539, -0.6547999978065491, -0.302700012922287, -0.3027999997138977, -0.3027999997138977, -0.42809998989105225, -0.42820000648498535, 0.24549999833106995, 0.24549999833106995, 0.24549999833106995, 0.24539999663829803, 0.24549999833106995, 0.24549999833106995, 0.24549999833106995, 0.24549999833106995, 0.24549999833106995, 0.24549999833106995, 0.24539999663829803], \"logprob\": [30.0, 29.0, 28.0, 27.0, 26.0, 25.0, 24.0, 23.0, 22.0, 21.0, 20.0, 19.0, 18.0, 17.0, 16.0, 15.0, 14.0, 13.0, 12.0, 11.0, 10.0, 9.0, 8.0, 7.0, 6.0, 5.0, 4.0, 3.0, 2.0, 1.0, -2.5947000980377197, -2.709700107574463, -2.8396999835968018, -3.378700017929077, -3.378700017929077, -3.3787999153137207, -3.650700092315674, -3.650700092315674, -4.025300025939941, -4.025300025939941, -4.025400161743164, -4.025400161743164, -4.631400108337402, -4.631499767303467, -4.631499767303467, -4.631499767303467, -4.631499767303467, -4.631499767303467, -4.631499767303467, -4.631499767303467, -4.631499767303467, -4.631499767303467, -4.631499767303467, -4.631499767303467, -4.631499767303467, -4.631499767303467, -4.631499767303467, -4.631499767303467, -4.631499767303467, -4.631499767303467, -2.865799903869629, -2.865799903869629, -2.865799903869629, -3.240499973297119, -3.84660005569458, -3.84660005569458, -3.84660005569458, -3.84660005569458, -3.84660005569458, -3.84660005569458, -3.84660005569458, -3.84660005569458, -3.84660005569458, -3.84660005569458, -3.84660005569458, -3.84660005569458, -3.84660005569458, -3.84660005569458, -3.84660005569458, -3.84660005569458, -3.84660005569458, -3.84660005569458, -3.84660005569458, -3.84660005569458, -3.84660005569458, -3.84660005569458, -3.84660005569458, -3.84660005569458, -3.84660005569458, -3.84660005569458, -4.565299987792969, -4.565299987792969, -4.565299987792969, -4.565299987792969, -4.565299987792969, -4.565299987792969, -4.565299987792969, -4.565299987792969, -4.565299987792969, -4.565299987792969, -4.565299987792969, -4.565299987792969, -4.565299987792969, -4.565299987792969, -4.565299987792969, -4.565299987792969, -4.565299987792969, -4.565299987792969, -4.565299987792969, -4.565299987792969, -4.565299987792969, -4.565299987792969, -4.565299987792969, -4.565299987792969, -4.565299987792969, -4.565299987792969, -4.5640997886657715, -4.564199924468994, -4.564199924468994, -4.564199924468994, -4.556099891662598, -4.558199882507324, -4.559899806976318, -4.561500072479248, -4.561699867248535, -4.561999797821045, -4.5625, -4.56279993057251, -4.563199996948242, -4.563399791717529, -4.563600063323975, -4.563600063323975, -4.564199924468994, -4.564199924468994, -4.564300060272217, -4.564300060272217, -4.564300060272217, -4.564300060272217, -4.564300060272217, -4.564300060272217, -4.564300060272217, -4.564300060272217, -4.564300060272217, -4.564300060272217, -4.564300060272217, -4.5644001960754395, -4.564300060272217, -4.564300060272217, -4.564300060272217, -4.564300060272217, -4.564300060272217, -4.564300060272217, -4.564300060272217, -4.564300060272217, -4.564300060272217, -4.564300060272217, -4.564300060272217, -4.564300060272217, -4.564300060272217, -4.564300060272217, -4.564300060272217, -4.564300060272217, -4.564300060272217, -4.564300060272217, -4.564300060272217, -4.564300060272217, -4.564300060272217, -4.564300060272217, -4.564300060272217, -4.564300060272217, -4.564300060272217, -4.564300060272217, -4.564300060272217, -4.564300060272217, -4.564300060272217, -4.564300060272217, -4.564300060272217, -4.564300060272217, -4.564300060272217, -4.564300060272217, -4.564300060272217, -4.564300060272217, -4.564300060272217, -4.564300060272217, -4.564499855041504, -4.564499855041504, -4.564499855041504, -4.564499855041504, -4.564499855041504, -4.564499855041504, -4.564499855041504, -4.564499855041504, -4.564499855041504, -4.564599990844727, -4.564599990844727, -4.564599990844727, -4.564599990844727, -4.564599990844727, -4.564599990844727, -4.564599990844727, -4.564599990844727, -4.564599990844727, -4.564599990844727, -4.564599990844727, -4.564599990844727, -4.564599990844727, -4.564599990844727, -4.564599990844727, -4.564599990844727, -4.564599990844727, -4.564300060272217, -4.564300060272217, -4.564300060272217, -4.564300060272217, -4.564300060272217, -4.562300205230713, -4.562600135803223, -4.563399791717529, -4.563499927520752, -4.563600063323975, -4.563799858093262, -4.563799858093262, -4.5640997886657715, -4.5640997886657715, -4.564199924468994, -4.564300060272217, -4.564300060272217, -4.564300060272217, -4.564300060272217, -4.564300060272217, -4.564300060272217, -4.564300060272217, -4.564300060272217, -4.5644001960754395, -4.5644001960754395, -4.5644001960754395, -4.5644001960754395, -4.5644001960754395, -4.5644001960754395, -4.5644001960754395]}, \"token.table\": {\"Topic\": [1, 1, 1, 2, 1, 1, 1, 2, 2, 1, 1, 1, 1, 1, 2, 1, 2, 2, 1, 1, 2, 1, 2, 1, 1, 1, 1, 1, 2, 1, 2, 1, 2, 1, 1, 1, 1, 1, 2, 2, 1, 1, 2, 1, 2, 2, 2, 2, 2, 1, 1, 1, 1, 1, 2, 1, 2, 2, 1, 1, 1, 1, 2, 1, 2, 1, 2, 1, 1, 1, 1, 2, 1, 2, 1, 1, 1, 1, 1, 1, 2, 2, 1, 2, 1, 1, 1], \"Freq\": [0.8703030347824097, 0.8702690005302429, 0.8702946901321411, 1.0440611839294434, 0.8702999353408813, 0.8703071475028992, 1.09083092212677, 1.044067144393921, 1.0440654754638672, 0.8702929019927979, 0.8703036308288574, 0.8702666163444519, 1.005851149559021, 0.8702774047851562, 1.0440577268600464, 1.0908349752426147, 1.0440682172775269, 1.0440640449523926, 0.8702756762504578, 1.0058722496032715, 1.0440634489059448, 0.870293378829956, 1.0440627336502075, 0.870300829410553, 0.870295524597168, 0.8703071475028992, 1.017410159111023, 1.0908538103103638, 1.0440632104873657, 0.8702942728996277, 1.044062852859497, 0.8702887296676636, 1.0440658330917358, 0.8703253269195557, 0.8702978491783142, 0.8703010082244873, 0.8702665567398071, 0.8702753782272339, 1.0440654754638672, 1.0440603494644165, 0.8702769875526428, 1.005847692489624, 1.0440647602081299, 0.8702719807624817, 1.044059157371521, 1.0440659523010254, 1.044064998626709, 1.044062614440918, 0.6227330565452576, 0.8702751994132996, 0.8702676892280579, 0.8702760934829712, 0.8702594041824341, 1.0609817504882812, 1.0440640449523926, 0.8703039884567261, 0.8873761296272278, 1.0440669059753418, 0.8702700734138489, 0.8702802062034607, 0.8703011274337769, 1.0059044361114502, 1.0440630912780762, 0.8702973127365112, 1.0440648794174194, 0.8702831268310547, 1.0440618991851807, 0.8702488541603088, 0.8703162670135498, 0.8702784776687622, 0.870293915271759, 1.0440673828125, 0.8702969551086426, 1.0440627336502075, 0.8702884912490845, 0.8702828884124756, 0.8702775835990906, 0.8703023791313171, 0.8702622056007385, 0.9965783357620239, 1.0440630912780762, 0.8873780369758606, 0.8702594041824341, 0.8873721957206726, 0.8702712655067444, 1.0609447956085205, 0.9700902104377747], \"Term\": [\"10\", \"9\", \"90\", \"advanc\", \"allow\", \"also\", \"appear\", \"area\", \"autom\", \"balanc\", \"base\", \"bone\", \"can\", \"captur\", \"case\", \"cat\", \"challeng\", \"clinic\", \"cluster\", \"collect\", \"compani\", \"concern\", \"current\", \"describ\", \"differ\", \"discov\", \"document\", \"dog\", \"engin\", \"equal\", \"essenti\", \"examin\", \"excit\", \"expect\", \"find\", \"frequent\", \"given\", \"group\", \"healthcar\", \"identifi\", \"inform\", \"intuit\", \"learn\", \"less\", \"like\", \"look\", \"machin\", \"make\", \"match\", \"materi\", \"meow\", \"might\", \"mine\", \"model\", \"moreov\", \"multipl\", \"nlp\", \"now\", \"obtain\", \"often\", \"one\", \"particular\", \"patient\", \"pattern\", \"potenti\", \"probabl\", \"process\", \"produc\", \"proport\", \"recur\", \"repres\", \"resolv\", \"s\", \"seamless\", \"set\", \"statist\", \"techniqu\", \"text\", \"thu\", \"topic\", \"tri\", \"trial\", \"typic\", \"use\", \"way\", \"will\", \"word\"]}, \"R\": 30, \"lambda.step\": 0.01, \"plot.opts\": {\"xlab\": \"PC1\", \"ylab\": \"PC2\"}, \"topic.order\": [2, 3, 5, 1, 4]};\n",
              "\n",
              "function LDAvis_load_lib(url, callback){\n",
              "  var s = document.createElement('script');\n",
              "  s.src = url;\n",
              "  s.async = true;\n",
              "  s.onreadystatechange = s.onload = callback;\n",
              "  s.onerror = function(){console.warn(\"failed to load library \" + url);};\n",
              "  document.getElementsByTagName(\"head\")[0].appendChild(s);\n",
              "}\n",
              "\n",
              "if(typeof(LDAvis) !== \"undefined\"){\n",
              "   // already loaded: just create the visualization\n",
              "   !function(LDAvis){\n",
              "       new LDAvis(\"#\" + \"ldavis_el121139974424897480264478914\", ldavis_el121139974424897480264478914_data);\n",
              "   }(LDAvis);\n",
              "}else if(typeof define === \"function\" && define.amd){\n",
              "   // require.js is available: use it to load d3/LDAvis\n",
              "   require.config({paths: {d3: \"https://cdnjs.cloudflare.com/ajax/libs/d3/3.5.5/d3.min\"}});\n",
              "   require([\"d3\"], function(d3){\n",
              "      window.d3 = d3;\n",
              "      LDAvis_load_lib(\"https://cdn.rawgit.com/bmabey/pyLDAvis/files/ldavis.v1.0.0.js\", function(){\n",
              "        new LDAvis(\"#\" + \"ldavis_el121139974424897480264478914\", ldavis_el121139974424897480264478914_data);\n",
              "      });\n",
              "    });\n",
              "}else{\n",
              "    // require.js not available: dynamically load d3 & LDAvis\n",
              "    LDAvis_load_lib(\"https://cdnjs.cloudflare.com/ajax/libs/d3/3.5.5/d3.min.js\", function(){\n",
              "         LDAvis_load_lib(\"https://cdn.rawgit.com/bmabey/pyLDAvis/files/ldavis.v1.0.0.js\", function(){\n",
              "                 new LDAvis(\"#\" + \"ldavis_el121139974424897480264478914\", ldavis_el121139974424897480264478914_data);\n",
              "            })\n",
              "         });\n",
              "}\n",
              "</script>"
            ],
            "text/plain": [
              "PreparedData(topic_coordinates=              x    y  topics  cluster       Freq\n",
              "topic                                           \n",
              "1     -0.160878  0.0       1        1  73.334679\n",
              "2      0.164000  0.0       2        1  25.829039\n",
              "4     -0.001121 -0.0       3        1   0.278759\n",
              "0     -0.000987 -0.0       4        1   0.278758\n",
              "3     -0.001015  0.0       5        1   0.278758, topic_info=   Category      Freq      Term     Total  loglift  logprob\n",
              "19  Default  7.000000  document  7.000000  30.0000  30.0000\n",
              "61  Default  7.000000     topic  7.000000  29.0000  29.0000\n",
              "65  Default  6.000000      word  6.000000  28.0000  28.0000\n",
              "20  Default  3.000000       dog  3.000000  27.0000  27.0000\n",
              "12  Default  3.000000       cat  3.000000  26.0000  26.0000\n",
              "..      ...       ...       ...       ...      ...      ...\n",
              "43   Topic5  0.004094       one  1.149028   0.2455  -4.5644\n",
              "48   Topic5  0.004094   proport  1.149008   0.2455  -4.5644\n",
              "46   Topic5  0.004094   probabl  1.149051   0.2455  -4.5644\n",
              "50   Topic5  0.004094    repres  1.149037   0.2455  -4.5644\n",
              "49   Topic5  0.004094     recur  1.149058   0.2454  -4.5644\n",
              "\n",
              "[240 rows x 6 columns], token_table=      Topic      Freq    Term\n",
              "term                         \n",
              "0         1  0.870303      10\n",
              "1         1  0.870269       9\n",
              "2         1  0.870295      90\n",
              "66        2  1.044061  advanc\n",
              "3         1  0.870300   allow\n",
              "...     ...       ...     ...\n",
              "62        1  0.870259   typic\n",
              "95        2  0.887372     use\n",
              "63        1  0.870271     way\n",
              "64        1  1.060945    will\n",
              "65        1  0.970090    word\n",
              "\n",
              "[87 rows x 3 columns], R=30, lambda_step=0.01, plot_opts={'xlab': 'PC1', 'ylab': 'PC2'}, topic_order=[2, 3, 5, 1, 4])"
            ]
          },
          "metadata": {
            "tags": []
          },
          "execution_count": 113
        }
      ]
    },
    {
      "cell_type": "markdown",
      "metadata": {
        "id": "OqFG3P8QqmtU",
        "colab_type": "text"
      },
      "source": [
        "The area of circle represents the importance of each topic over the entire corpus, the distance between the center of circles indicate the similarity between topics. For each topic, the histogram on the right side listed the top 30 most relevant terms. LDA helped to extract 5 main topics from the document A3.\n",
        "\n",
        "For topic 1, the top relevant terms are **document, topic, word, appear, cat, dog, will, model, particular, intuit, collect, and can**. Similarly, we can list the most imortant terms for topic 2."
      ]
    },
    {
      "cell_type": "markdown",
      "metadata": {
        "id": "4wRw83LozQyA",
        "colab_type": "text"
      },
      "source": [
        "### **Visualization of topics in article A3 with Word Clouds**"
      ]
    },
    {
      "cell_type": "code",
      "metadata": {
        "id": "dPhti1L6zRAb",
        "colab_type": "code",
        "outputId": "1eb02f62-30b1-4a05-d4fd-a58f6ea680ae",
        "colab": {
          "base_uri": "https://localhost:8080/",
          "height": 625
        }
      },
      "source": [
        "# 1. Wordcloud of Top N words in each topic\n",
        "from matplotlib import pyplot as plt\n",
        "from wordcloud import WordCloud, STOPWORDS\n",
        "import matplotlib.colors as mcolors\n",
        "\n",
        "cols = [color for name, color in mcolors.TABLEAU_COLORS.items()]  # more colors: 'mcolors.XKCD_COLORS'\n",
        "\n",
        "cloud = WordCloud(stopwords=stop_words,\n",
        "                  background_color='white',\n",
        "                  width=2500,\n",
        "                  height=1800,\n",
        "                  max_words=10,\n",
        "                  colormap='tab10',\n",
        "                  color_func=lambda *args, **kwargs: cols[i],\n",
        "                  prefer_horizontal=1.0)\n",
        "\n",
        "topics = ldamodel.show_topics(formatted=False)\n",
        "\n",
        "fig, axes = plt.subplots(2, 2, figsize=(10,10), sharex=True, sharey=True)\n",
        "\n",
        "for i, ax in enumerate(axes.flatten()):\n",
        "    fig.add_subplot(ax)\n",
        "    topic_words = dict(topics[i][1])\n",
        "    cloud.generate_from_frequencies(topic_words, max_font_size=300)\n",
        "    plt.gca().imshow(cloud)\n",
        "    plt.gca().set_title('Topic ' + str(i), fontdict=dict(size=16))\n",
        "    plt.gca().axis('off')\n",
        "\n",
        "\n",
        "plt.subplots_adjust(wspace=0, hspace=0)\n",
        "plt.axis('off')\n",
        "plt.margins(x=0, y=0)\n",
        "plt.tight_layout()\n",
        "plt.show()"
      ],
      "execution_count": 0,
      "outputs": [
        {
          "output_type": "display_data",
          "data": {
            "image/png": "[encoded data removed]",
            "text/plain": [
              "<Figure size 720x720 with 4 Axes>"
            ]
          },
          "metadata": {
            "tags": []
          }
        }
      ]
    },
    {
      "cell_type": "markdown",
      "metadata": {
        "id": "RpLxtqldqcUO",
        "colab_type": "text"
      },
      "source": [
        "The visualization with Word Clouds gives the top 10 words in article A3."
      ]
    },
    {
      "cell_type": "markdown",
      "metadata": {
        "id": "UDEFBC7lkCof",
        "colab_type": "text"
      },
      "source": [
        "### **Predict the label for article A3 using MultiNB trained with articles A1 and A2**"
      ]
    },
    {
      "cell_type": "markdown",
      "metadata": {
        "id": "uvWI3KilzPGO",
        "colab_type": "text"
      },
      "source": [
        "**Take the topics from article A3**"
      ]
    },
    {
      "cell_type": "markdown",
      "metadata": {
        "id": "FvQKbjgiza8X",
        "colab_type": "text"
      },
      "source": [
        "The output from article A3 will be provided to the trained MultiNB model for prediction of labels. The topic from article A3 will become the x-axis and the label will be predicted as output."
      ]
    },
    {
      "cell_type": "code",
      "metadata": {
        "id": "Xh5Ety73kLNy",
        "colab_type": "code",
        "outputId": "dbda4475-bcb3-48f9-a849-dacf779df860",
        "colab": {
          "base_uri": "https://localhost:8080/",
          "height": 206
        }
      },
      "source": [
        "import pandas as pd\n",
        "\n",
        "article_A3_obj = pd.DataFrame(final_lda_list_words_A3) \n",
        "article_A3_obj[\"topic\"] = article_A3_obj[0] +\" \"+ article_A3_obj[1] + \" \" + article_A3_obj[2] +\" \"+ article_A3_obj[3] + \" \" + article_A3_obj[4] +\" \"+ article_A3_obj[5] + \" \" + article_A3_obj[6] +\" \"+ article_A3_obj[7] + \" \" + article_A3_obj[8] +\" \"+ article_A3_obj[9]\n",
        "article_A3_obj.head()"
      ],
      "execution_count": 0,
      "outputs": [
        {
          "output_type": "execute_result",
          "data": {
            "text/html": [
              "<div>\n",
              "<style scoped>\n",
              "    .dataframe tbody tr th:only-of-type {\n",
              "        vertical-align: middle;\n",
              "    }\n",
              "\n",
              "    .dataframe tbody tr th {\n",
              "        vertical-align: top;\n",
              "    }\n",
              "\n",
              "    .dataframe thead th {\n",
              "        text-align: right;\n",
              "    }\n",
              "</style>\n",
              "<table border=\"1\" class=\"dataframe\">\n",
              "  <thead>\n",
              "    <tr style=\"text-align: right;\">\n",
              "      <th></th>\n",
              "      <th>0</th>\n",
              "      <th>1</th>\n",
              "      <th>2</th>\n",
              "      <th>3</th>\n",
              "      <th>4</th>\n",
              "      <th>5</th>\n",
              "      <th>6</th>\n",
              "      <th>7</th>\n",
              "      <th>8</th>\n",
              "      <th>9</th>\n",
              "      <th>topic</th>\n",
              "    </tr>\n",
              "  </thead>\n",
              "  <tbody>\n",
              "    <tr>\n",
              "      <th>0</th>\n",
              "      <td>learn</td>\n",
              "      <td>resolv</td>\n",
              "      <td>moreov</td>\n",
              "      <td>current</td>\n",
              "      <td>look</td>\n",
              "      <td>identifi</td>\n",
              "      <td>healthcar</td>\n",
              "      <td>essenti</td>\n",
              "      <td>excit</td>\n",
              "      <td>now</td>\n",
              "      <td>learn resolv moreov current look identifi heal...</td>\n",
              "    </tr>\n",
              "    <tr>\n",
              "      <th>1</th>\n",
              "      <td>document</td>\n",
              "      <td>topic</td>\n",
              "      <td>word</td>\n",
              "      <td>appear</td>\n",
              "      <td>cat</td>\n",
              "      <td>dog</td>\n",
              "      <td>will</td>\n",
              "      <td>model</td>\n",
              "      <td>intuit</td>\n",
              "      <td>can</td>\n",
              "      <td>document topic word appear cat dog will model ...</td>\n",
              "    </tr>\n",
              "    <tr>\n",
              "      <th>2</th>\n",
              "      <td>use</td>\n",
              "      <td>nlp</td>\n",
              "      <td>trial</td>\n",
              "      <td>match</td>\n",
              "      <td>case</td>\n",
              "      <td>like</td>\n",
              "      <td>identifi</td>\n",
              "      <td>advanc</td>\n",
              "      <td>process</td>\n",
              "      <td>make</td>\n",
              "      <td>use nlp trial match case like identifi advanc ...</td>\n",
              "    </tr>\n",
              "    <tr>\n",
              "      <th>3</th>\n",
              "      <td>document</td>\n",
              "      <td>topic</td>\n",
              "      <td>cat</td>\n",
              "      <td>word</td>\n",
              "      <td>dog</td>\n",
              "      <td>model</td>\n",
              "      <td>appear</td>\n",
              "      <td>particular</td>\n",
              "      <td>will</td>\n",
              "      <td>collect</td>\n",
              "      <td>document topic cat word dog model appear parti...</td>\n",
              "    </tr>\n",
              "    <tr>\n",
              "      <th>4</th>\n",
              "      <td>document</td>\n",
              "      <td>topic</td>\n",
              "      <td>word</td>\n",
              "      <td>dog</td>\n",
              "      <td>appear</td>\n",
              "      <td>cat</td>\n",
              "      <td>model</td>\n",
              "      <td>will</td>\n",
              "      <td>particular</td>\n",
              "      <td>collect</td>\n",
              "      <td>document topic word dog appear cat model will ...</td>\n",
              "    </tr>\n",
              "  </tbody>\n",
              "</table>\n",
              "</div>"
            ],
            "text/plain": [
              "          0       1  ...        9                                              topic\n",
              "0     learn  resolv  ...      now  learn resolv moreov current look identifi heal...\n",
              "1  document   topic  ...      can  document topic word appear cat dog will model ...\n",
              "2       use     nlp  ...     make  use nlp trial match case like identifi advanc ...\n",
              "3  document   topic  ...  collect  document topic cat word dog model appear parti...\n",
              "4  document   topic  ...  collect  document topic word dog appear cat model will ...\n",
              "\n",
              "[5 rows x 11 columns]"
            ]
          },
          "metadata": {
            "tags": []
          },
          "execution_count": 115
        }
      ]
    },
    {
      "cell_type": "markdown",
      "metadata": {
        "id": "qH9Z8iKgz1PU",
        "colab_type": "text"
      },
      "source": [
        "**Prepare and pre-process the data for prediction of labels for article A3 using MultiNB**"
      ]
    },
    {
      "cell_type": "markdown",
      "metadata": {
        "id": "HXzRALGiz_Q_",
        "colab_type": "text"
      },
      "source": [
        "The output from article A3 is pre-processed by removing stop words, puncuation marks, converting to lowercases before providing the input to the MultiNB for predicting labels on unseen topics."
      ]
    },
    {
      "cell_type": "code",
      "metadata": {
        "id": "7KB0MDiEkPJ2",
        "colab_type": "code",
        "outputId": "14daecfd-a2cf-42c0-fe76-8a15bd779b2e",
        "colab": {
          "base_uri": "https://localhost:8080/",
          "height": 642
        }
      },
      "source": [
        "from sklearn.feature_extraction.text import CountVectorizer\n",
        "import string\n",
        "\n",
        "# For NLP\n",
        "import nltk\n",
        "from nltk.corpus import stopwords\n",
        "nltk.download('stopwords')\n",
        "\n",
        "def text_preprocess(text):\n",
        "  \n",
        "    # remove the punctuations from document\n",
        "    nopunc = [i for i in text if i not in string.punctuation]\n",
        "    nn = \"\".join(nopunc)\n",
        "    \n",
        "    # convert the text into lowercase\n",
        "    nn = nn.lower().split()\n",
        "    \n",
        "    # remove the stop words from documents:\n",
        "    nostop = [words for words in nn if words not in stopwords.words('english')]\n",
        "    return(nostop)\n",
        "\n",
        "#cv_transformer1 = CountVectorizer(analyzer = text_preprocess)\n",
        "x_A3 = cv_transformer.transform(article_A3_obj['topic'])\n",
        "print(x_A3)"
      ],
      "execution_count": 0,
      "outputs": [
        {
          "output_type": "stream",
          "text": [
            "[nltk_data] Downloading package stopwords to /root/nltk_data...\n",
            "[nltk_data]   Package stopwords is already up-to-date!\n",
            "  (0, 6)\t1\n",
            "  (0, 8)\t1\n",
            "  (0, 13)\t1\n",
            "  (1, 0)\t1\n",
            "  (1, 1)\t1\n",
            "  (1, 3)\t1\n",
            "  (1, 4)\t1\n",
            "  (1, 7)\t1\n",
            "  (1, 12)\t1\n",
            "  (1, 16)\t1\n",
            "  (1, 19)\t1\n",
            "  (2, 10)\t1\n",
            "  (2, 11)\t1\n",
            "  (2, 14)\t1\n",
            "  (2, 17)\t1\n",
            "  (2, 18)\t1\n",
            "  (3, 0)\t1\n",
            "  (3, 1)\t1\n",
            "  (3, 2)\t1\n",
            "  (3, 3)\t1\n",
            "  (3, 4)\t1\n",
            "  (3, 12)\t1\n",
            "  (3, 15)\t1\n",
            "  (3, 16)\t1\n",
            "  (3, 19)\t1\n",
            "  (4, 0)\t1\n",
            "  (4, 1)\t1\n",
            "  (4, 2)\t1\n",
            "  (4, 3)\t1\n",
            "  (4, 4)\t1\n",
            "  (4, 12)\t1\n",
            "  (4, 15)\t1\n",
            "  (4, 16)\t1\n",
            "  (4, 19)\t1\n"
          ],
          "name": "stdout"
        }
      ]
    },
    {
      "cell_type": "markdown",
      "metadata": {
        "id": "4jWVJM-T0T_d",
        "colab_type": "text"
      },
      "source": [
        "**Prediction of labels**"
      ]
    },
    {
      "cell_type": "code",
      "metadata": {
        "id": "veHQW2LAkV-j",
        "colab_type": "code",
        "outputId": "3fbd6b39-9a06-4d8c-e010-d549141e8f17",
        "colab": {
          "base_uri": "https://localhost:8080/",
          "height": 52
        }
      },
      "source": [
        "predictions_article_A3 = multi.predict(x_A3)\n",
        "predictions_article_A3"
      ],
      "execution_count": 0,
      "outputs": [
        {
          "output_type": "execute_result",
          "data": {
            "text/plain": [
              "array(['animals', 'topicmodel', 'animals', 'documentmodel',\n",
              "       'documentmodel'], dtype='<U13')"
            ]
          },
          "metadata": {
            "tags": []
          },
          "execution_count": 117
        }
      ]
    },
    {
      "cell_type": "markdown",
      "metadata": {
        "id": "UjdjcaBX0ZBP",
        "colab_type": "text"
      },
      "source": [
        "The above labels are predicted on article A3 topics with the MultiNB model previously trained on articles A1 and A2. "
      ]
    },
    {
      "cell_type": "markdown",
      "metadata": {
        "id": "lhe7HwT02ZdT",
        "colab_type": "text"
      },
      "source": [
        "### **Convert the topic modeling result from LDA on A3 to Doc2Vec**"
      ]
    },
    {
      "cell_type": "markdown",
      "metadata": {
        "id": "mFtDubJ41SoF",
        "colab_type": "text"
      },
      "source": [
        "In the below code, the first part creates the tagged document needed for Doc2Vec conversion. The second part initializes the Doc2Vec model, the third part of code builds the vocabulary, the fourth part trains the Doc2Vec model, and the last part generates the document vector for each topic in the article A3."
      ]
    },
    {
      "cell_type": "code",
      "metadata": {
        "id": "eMucnojKh5jW",
        "colab_type": "code",
        "outputId": "3ed29500-abf1-4197-a3da-7749b38f5d0f",
        "colab": {
          "base_uri": "https://localhost:8080/",
          "height": 106
        }
      },
      "source": [
        "from gensim.models import Doc2Vec\n",
        "from gensim.models.doc2vec import TaggedDocument\n",
        "from gensim.models.doc2vec import LabeledSentence\n",
        "from sklearn.metrics.pairwise import cosine_similarity\n",
        "\n",
        "# Create the tagged document needed for Doc2Vec\n",
        "documents = []\n",
        "\n",
        "documents.append(TaggedDocument(article_A3_obj['topic'][0].split(), ['nlp']))\n",
        "documents.append(TaggedDocument(article_A3_obj['topic'][1].split(), ['health']))\n",
        "documents.append(TaggedDocument(article_A3_obj['topic'][2].split(), ['topicmodel']))\n",
        "documents.append(TaggedDocument(article_A3_obj['topic'][3].split(), ['documentmodel']))\n",
        "documents.append(TaggedDocument(article_A3_obj['topic'][4].split(), ['topicmodel']))\n",
        "\n",
        "print(documents)\n",
        "\n",
        "# Init the Doc2Vec model\n",
        "model = Doc2Vec(size=10, window=8, min_count=0, workers=4)\n",
        "\n",
        "# Build the Volabulary\n",
        "model.build_vocab(documents)\n",
        "\n",
        "# Train the Doc2Vec model\n",
        "model.train(documents, total_examples=model.corpus_count, epochs=model.iter)\n",
        "\n",
        "# Generate the document vector for each topic\n",
        "s1 = model.infer_vector(['trial', 'use', 'nlp', 'match', 'resolv', 'machin', 'advanc', 'area', 'identifi', 'compani'], alpha=0.025, min_alpha=0.025, steps=20)\n",
        "s2 = model.infer_vector(['document', 'word', 'topic', 'cat', 'appear', 'model', 'dog', 'will', 'intuit', 'collect'], alpha=0.025, min_alpha=0.025, steps=20)\n",
        "s3 = model.infer_vector(['document', 'topic', 'word', 'dog', 'cat', 'appear', 'model', 'will', 'can', 'intuit'], alpha=0.025, min_alpha=0.025, steps=20)\n",
        "s4 = model.infer_vector(['nlp', 'use', 'trial', 'match', 'current', 'potenti', 'engin', 'moreov', 'make', 'process'], alpha=0.025, min_alpha=0.025, steps=20)\n",
        "s5 = model.infer_vector(['machin', 'identifi', 'tri', 'now', 'area', 'challeng', 'resolv', 'compani', 'clinic', 'engin'], alpha=0.025, min_alpha=0.025, steps=20)"
      ],
      "execution_count": 0,
      "outputs": [
        {
          "output_type": "stream",
          "text": [
            "[TaggedDocument(words=['learn', 'resolv', 'moreov', 'current', 'look', 'identifi', 'healthcar', 'essenti', 'excit', 'now'], tags=['nlp']), TaggedDocument(words=['document', 'topic', 'word', 'appear', 'cat', 'dog', 'will', 'model', 'intuit', 'can'], tags=['health']), TaggedDocument(words=['use', 'nlp', 'trial', 'match', 'case', 'like', 'identifi', 'advanc', 'process', 'make'], tags=['topicmodel']), TaggedDocument(words=['document', 'topic', 'cat', 'word', 'dog', 'model', 'appear', 'particular', 'will', 'collect'], tags=['documentmodel']), TaggedDocument(words=['document', 'topic', 'word', 'dog', 'appear', 'cat', 'model', 'will', 'particular', 'collect'], tags=['topicmodel'])]\n"
          ],
          "name": "stdout"
        },
        {
          "output_type": "stream",
          "text": [
            "/usr/local/lib/python3.6/dist-packages/gensim/models/doc2vec.py:570: UserWarning: The parameter `size` is deprecated, will be removed in 4.0.0, use `vector_size` instead.\n",
            "  warnings.warn(\"The parameter `size` is deprecated, will be removed in 4.0.0, use `vector_size` instead.\")\n",
            "/usr/local/lib/python3.6/dist-packages/ipykernel_launcher.py:24: DeprecationWarning: Call to deprecated `iter` (Attribute will be removed in 4.0.0, use self.epochs instead).\n"
          ],
          "name": "stderr"
        }
      ]
    },
    {
      "cell_type": "markdown",
      "metadata": {
        "id": "83QKW3YjkY6a",
        "colab_type": "text"
      },
      "source": [
        "### **Calculate Cosine Similarity**"
      ]
    },
    {
      "cell_type": "markdown",
      "metadata": {
        "id": "3jZvTn__r3B-",
        "colab_type": "text"
      },
      "source": [
        "### **Cosine Similarity between Predicted labels and Document vectors (Doc2Vec)**\n",
        "\n",
        "The cosine similarity between two vectors (or two documents on the Vector Space) is a measure that calculates the cosine of the angle between them. This metric is a measurement of orientation and not magnitude, it can be seen as a comparison between documents on a normalized space because we’re not taking into the consideration only the magnitude of each word count (tf-idf) of each document, but the angle between the documents."
      ]
    },
    {
      "cell_type": "markdown",
      "metadata": {
        "id": "Yc6SMzl4pY4s",
        "colab_type": "text"
      },
      "source": [
        "The cosine similarity is advantageous because even if the two similar documents are far apart by the Euclidean distance because of the size (like, the word 'learn' appeared 20 times in one document and 10 times in another) they could still have a smaller angle between them. Smaller the angle, higher the similarity."
      ]
    },
    {
      "cell_type": "markdown",
      "metadata": {
        "id": "2v6MyybM2wbj",
        "colab_type": "text"
      },
      "source": [
        "**Cosine Similarity between first predicted label and Document vectors**"
      ]
    },
    {
      "cell_type": "code",
      "metadata": {
        "id": "-usNpl1tqpKi",
        "colab_type": "code",
        "outputId": "ef144f0c-2921-47ee-a9bf-b3c0d8edff7a",
        "colab": {
          "base_uri": "https://localhost:8080/",
          "height": 104
        }
      },
      "source": [
        "print(cosine_similarity([s1], [model.docvecs['nlp']]))  \n",
        "print(cosine_similarity([s2], [model.docvecs['nlp']]))\n",
        "print(cosine_similarity([s3], [model.docvecs['nlp']]))\n",
        "print(cosine_similarity([s4], [model.docvecs['nlp']]))\n",
        "print(cosine_similarity([s5], [model.docvecs['nlp']]))"
      ],
      "execution_count": 0,
      "outputs": [
        {
          "output_type": "stream",
          "text": [
            "[[-0.08850384]]\n",
            "[[0.20845519]]\n",
            "[[0.12989463]]\n",
            "[[0.5121712]]\n",
            "[[-0.56098765]]\n"
          ],
          "name": "stdout"
        }
      ]
    },
    {
      "cell_type": "markdown",
      "metadata": {
        "id": "p6v1aDJG3d0q",
        "colab_type": "text"
      },
      "source": [
        "**Cosine Similarity between second predicted label and Document vectors**"
      ]
    },
    {
      "cell_type": "code",
      "metadata": {
        "id": "9ZSLP9HQqtYK",
        "colab_type": "code",
        "outputId": "352d7f13-7266-461a-ed97-798d6056bac2",
        "colab": {
          "base_uri": "https://localhost:8080/",
          "height": 104
        }
      },
      "source": [
        "#'health', 'topicmodel', 'animals', 'topicmodel'\n",
        "print(cosine_similarity([s1], [model.docvecs['health']]))  \n",
        "print(cosine_similarity([s2], [model.docvecs['health']]))\n",
        "print(cosine_similarity([s3], [model.docvecs['health']]))\n",
        "print(cosine_similarity([s4], [model.docvecs['health']]))\n",
        "print(cosine_similarity([s5], [model.docvecs['health']]))"
      ],
      "execution_count": 0,
      "outputs": [
        {
          "output_type": "stream",
          "text": [
            "[[-0.18044432]]\n",
            "[[-0.1802265]]\n",
            "[[-0.11947057]]\n",
            "[[-0.26420653]]\n",
            "[[0.06169146]]\n"
          ],
          "name": "stdout"
        }
      ]
    },
    {
      "cell_type": "markdown",
      "metadata": {
        "id": "tUNyUK-T3uaX",
        "colab_type": "text"
      },
      "source": [
        "**Cosine Similarity between third predicted label and Document vectors**"
      ]
    },
    {
      "cell_type": "code",
      "metadata": {
        "id": "txAxxo34quyy",
        "colab_type": "code",
        "outputId": "562abead-9aa1-467a-c4de-0905484eae10",
        "colab": {
          "base_uri": "https://localhost:8080/",
          "height": 104
        }
      },
      "source": [
        "print(cosine_similarity([s1], [model.docvecs['topicmodel']]))  \n",
        "print(cosine_similarity([s2], [model.docvecs['topicmodel']]))\n",
        "print(cosine_similarity([s3], [model.docvecs['topicmodel']]))\n",
        "print(cosine_similarity([s4], [model.docvecs['topicmodel']]))\n",
        "print(cosine_similarity([s5], [model.docvecs['topicmodel']]))"
      ],
      "execution_count": 0,
      "outputs": [
        {
          "output_type": "stream",
          "text": [
            "[[0.04645826]]\n",
            "[[-0.04169472]]\n",
            "[[-0.30144343]]\n",
            "[[0.13065945]]\n",
            "[[-0.31445637]]\n"
          ],
          "name": "stdout"
        }
      ]
    },
    {
      "cell_type": "markdown",
      "metadata": {
        "id": "6DTGIUCO3wkr",
        "colab_type": "text"
      },
      "source": [
        "**Cosine Similarity between fourth predicted label and Document vectors**"
      ]
    },
    {
      "cell_type": "code",
      "metadata": {
        "id": "aj1PXkkBqvf0",
        "colab_type": "code",
        "outputId": "48266976-f7da-4d5b-b8f7-95eacb07a04c",
        "colab": {
          "base_uri": "https://localhost:8080/",
          "height": 104
        }
      },
      "source": [
        "print(cosine_similarity([s1], [model.docvecs['documentmodel']]))  \n",
        "print(cosine_similarity([s2], [model.docvecs['documentmodel']]))\n",
        "print(cosine_similarity([s3], [model.docvecs['documentmodel']]))\n",
        "print(cosine_similarity([s4], [model.docvecs['documentmodel']]))\n",
        "print(cosine_similarity([s5], [model.docvecs['documentmodel']]))"
      ],
      "execution_count": 0,
      "outputs": [
        {
          "output_type": "stream",
          "text": [
            "[[0.06024893]]\n",
            "[[-0.38332447]]\n",
            "[[-0.21600328]]\n",
            "[[0.27525154]]\n",
            "[[-0.12222701]]\n"
          ],
          "name": "stdout"
        }
      ]
    },
    {
      "cell_type": "markdown",
      "metadata": {
        "id": "-pFOP4mg3yph",
        "colab_type": "text"
      },
      "source": [
        "**Cosine Similarity between fifth predicted label and Document vectors**"
      ]
    },
    {
      "cell_type": "code",
      "metadata": {
        "id": "_nBKC100qww4",
        "colab_type": "code",
        "outputId": "af2399b2-e72e-45ec-b56e-832de80f11c1",
        "colab": {
          "base_uri": "https://localhost:8080/",
          "height": 104
        }
      },
      "source": [
        "print(cosine_similarity([s1], [model.docvecs['topicmodel']]))  \n",
        "print(cosine_similarity([s2], [model.docvecs['topicmodel']]))\n",
        "print(cosine_similarity([s3], [model.docvecs['topicmodel']]))\n",
        "print(cosine_similarity([s4], [model.docvecs['topicmodel']]))\n",
        "print(cosine_similarity([s5], [model.docvecs['topicmodel']]))"
      ],
      "execution_count": 0,
      "outputs": [
        {
          "output_type": "stream",
          "text": [
            "[[0.04645826]]\n",
            "[[-0.04169472]]\n",
            "[[-0.30144343]]\n",
            "[[0.13065945]]\n",
            "[[-0.31445637]]\n"
          ],
          "name": "stdout"
        }
      ]
    },
    {
      "cell_type": "markdown",
      "metadata": {
        "id": "CDhUP7BUsVL9",
        "colab_type": "text"
      },
      "source": [
        "### **Cosine Similarity between Predicted labels in A3 and LDA output from articles A1 and A2**"
      ]
    },
    {
      "cell_type": "markdown",
      "metadata": {
        "id": "durtUHzD4Zc6",
        "colab_type": "text"
      },
      "source": [
        "**Print the topics for articles A1 and A2** "
      ]
    },
    {
      "cell_type": "code",
      "metadata": {
        "id": "h7Nx1WpAkbIH",
        "colab_type": "code",
        "outputId": "56cf54fd-3130-484d-aa06-1aa9dea254bb",
        "colab": {
          "base_uri": "https://localhost:8080/",
          "height": 121
        }
      },
      "source": [
        "print(article_A1_and_A2['topic'])"
      ],
      "execution_count": 0,
      "outputs": [
        {
          "output_type": "stream",
          "text": [
            "0    document word topic appear dog cat will model ...\n",
            "1    document word topic cat appear will dog can mo...\n",
            "2    document topic word cat dog appear model will ...\n",
            "3    document word topic model will dog appear part...\n",
            "4    nlp use trial match moreov look engin make mac...\n",
            "Name: topic, dtype: object\n"
          ],
          "name": "stdout"
        }
      ]
    },
    {
      "cell_type": "markdown",
      "metadata": {
        "id": "AWAhdL7T4ih2",
        "colab_type": "text"
      },
      "source": [
        "**Convert the topics for articles A1 and A2 into TF-IDF matrix**"
      ]
    },
    {
      "cell_type": "code",
      "metadata": {
        "id": "pgJJv8gKklKu",
        "colab_type": "code",
        "outputId": "27c4a96c-ae8a-4e0a-d74b-a4d61d571558",
        "colab": {
          "base_uri": "https://localhost:8080/",
          "height": 903
        }
      },
      "source": [
        "from sklearn.feature_extraction.text import TfidfVectorizer\n",
        "tfidf_vectorizer = TfidfVectorizer()\n",
        "tfidf_matrix = tfidf_vectorizer.fit_transform(article_A1_and_A2['topic'])\n",
        "print(tfidf_matrix)\n",
        "print(tfidf_matrix.shape)"
      ],
      "execution_count": 0,
      "outputs": [
        {
          "output_type": "stream",
          "text": [
            "  (0, 3)\t0.5007697148575199\n",
            "  (0, 1)\t0.33537131428702177\n",
            "  (0, 13)\t0.28212492229394454\n",
            "  (0, 20)\t0.28212492229394454\n",
            "  (0, 2)\t0.28212492229394454\n",
            "  (0, 5)\t0.28212492229394454\n",
            "  (0, 0)\t0.28212492229394454\n",
            "  (0, 17)\t0.28212492229394454\n",
            "  (0, 21)\t0.28212492229394454\n",
            "  (0, 4)\t0.28212492229394454\n",
            "  (1, 16)\t0.3612825256881642\n",
            "  (1, 1)\t0.3612825256881642\n",
            "  (1, 13)\t0.3039222501859567\n",
            "  (1, 20)\t0.3039222501859567\n",
            "  (1, 2)\t0.3039222501859567\n",
            "  (1, 5)\t0.3039222501859567\n",
            "  (1, 0)\t0.3039222501859567\n",
            "  (1, 17)\t0.3039222501859567\n",
            "  (1, 21)\t0.3039222501859567\n",
            "  (1, 4)\t0.3039222501859567\n",
            "  (2, 8)\t0.5007697148575199\n",
            "  (2, 16)\t0.33537131428702177\n",
            "  (2, 13)\t0.28212492229394454\n",
            "  (2, 20)\t0.28212492229394454\n",
            "  (2, 2)\t0.28212492229394454\n",
            "  (2, 5)\t0.28212492229394454\n",
            "  (2, 0)\t0.28212492229394454\n",
            "  (2, 17)\t0.28212492229394454\n",
            "  (2, 21)\t0.28212492229394454\n",
            "  (2, 4)\t0.28212492229394454\n",
            "  (3, 16)\t0.3612825256881642\n",
            "  (3, 1)\t0.3612825256881642\n",
            "  (3, 13)\t0.3039222501859567\n",
            "  (3, 20)\t0.3039222501859567\n",
            "  (3, 2)\t0.3039222501859567\n",
            "  (3, 5)\t0.3039222501859567\n",
            "  (3, 0)\t0.3039222501859567\n",
            "  (3, 17)\t0.3039222501859567\n",
            "  (3, 21)\t0.3039222501859567\n",
            "  (3, 4)\t0.3039222501859567\n",
            "  (4, 7)\t0.3162277660168379\n",
            "  (4, 10)\t0.3162277660168379\n",
            "  (4, 11)\t0.3162277660168379\n",
            "  (4, 6)\t0.3162277660168379\n",
            "  (4, 9)\t0.3162277660168379\n",
            "  (4, 14)\t0.3162277660168379\n",
            "  (4, 12)\t0.3162277660168379\n",
            "  (4, 18)\t0.3162277660168379\n",
            "  (4, 19)\t0.3162277660168379\n",
            "  (4, 15)\t0.3162277660168379\n",
            "(5, 22)\n"
          ],
          "name": "stdout"
        }
      ]
    },
    {
      "cell_type": "markdown",
      "metadata": {
        "id": "gWWCRMjh4vEH",
        "colab_type": "text"
      },
      "source": [
        "**Calculate the Cosine Similarity between predicted labels for topics from article A3 and LDA result for articles A1 and A2**"
      ]
    },
    {
      "cell_type": "code",
      "metadata": {
        "id": "fFkLif4EkoMr",
        "colab_type": "code",
        "outputId": "158a76d6-2c06-4752-cb08-9f2c8fa161a1",
        "colab": {
          "base_uri": "https://localhost:8080/",
          "height": 104
        }
      },
      "source": [
        "from sklearn.metrics.pairwise import cosine_similarity\n",
        "\n",
        "tfidf_matrix_label = tfidf_vectorizer.transform(article_A3_obj['topic'])\n",
        "\n",
        "print(cosine_similarity(tfidf_matrix_label[0:1], tfidf_matrix))\n",
        "print(cosine_similarity(tfidf_matrix_label[1:2], tfidf_matrix))\n",
        "print(cosine_similarity(tfidf_matrix_label[2:3], tfidf_matrix))\n",
        "print(cosine_similarity(tfidf_matrix_label[3:4], tfidf_matrix))\n",
        "print(cosine_similarity(tfidf_matrix_label[4:5], tfidf_matrix))"
      ],
      "execution_count": 0,
      "outputs": [
        {
          "output_type": "stream",
          "text": [
            "[[0.         0.         0.         0.         0.54772256]]\n",
            "[[0.74922969 0.80711613 0.88752608 0.80711613 0.        ]]\n",
            "[[0.         0.         0.         0.         0.70710678]]\n",
            "[[0.88752608 0.80711613 0.74922969 0.80711613 0.        ]]\n",
            "[[0.88752608 0.80711613 0.74922969 0.80711613 0.        ]]\n"
          ],
          "name": "stdout"
        }
      ]
    },
    {
      "cell_type": "markdown",
      "metadata": {
        "id": "sG0K_hPAs6i2",
        "colab_type": "text"
      },
      "source": [
        "### **Block Diagram for Topic Naming + Cosine Similarity**\n",
        "\n",
        "\n",
        "\n",
        "\n",
        "![image.png](data:image/png;base64,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)\n",
        "\n"
      ]
    },
    {
      "cell_type": "markdown",
      "metadata": {
        "id": "XW18n93Hs_zr",
        "colab_type": "text"
      },
      "source": [
        "https://drive.google.com/open?id=1aLbGQ5k-xqzE67xaQQ7EuDaVuuKZJlPe\n"
      ]
    }
  ]
}